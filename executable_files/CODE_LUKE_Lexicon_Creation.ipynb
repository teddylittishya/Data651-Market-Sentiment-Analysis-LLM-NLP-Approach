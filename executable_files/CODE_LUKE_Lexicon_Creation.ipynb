{
  "cells": [
    {
      "cell_type": "markdown",
      "metadata": {
        "id": "SzZyOWG-hTuT"
      },
      "source": [
        "### Setup & installations"
      ]
    },
    {
      "cell_type": "code",
      "execution_count": 1,
      "metadata": {
        "colab": {
          "base_uri": "https://localhost:8080/"
        },
        "id": "cttt7E4ECpGV",
        "outputId": "458be957-48ea-4ab1-8636-dc2d403809ea"
      },
      "outputs": [
        {
          "output_type": "stream",
          "name": "stdout",
          "text": [
            "\u001b[K     |████████████████████████████████| 1.6 MB 4.0 MB/s \n",
            "\u001b[K     |████████████████████████████████| 4.7 MB 4.0 MB/s \n",
            "\u001b[K     |████████████████████████████████| 120 kB 43.8 MB/s \n",
            "\u001b[K     |████████████████████████████████| 6.6 MB 41.2 MB/s \n",
            "\u001b[?25hLooking in indexes: https://pypi.org/simple, https://us-python.pkg.dev/colab-wheels/public/simple/\n",
            "Requirement already satisfied: nltk in /usr/local/lib/python3.7/dist-packages (3.7)\n",
            "Collecting emoji\n",
            "  Downloading emoji-2.0.0.tar.gz (197 kB)\n",
            "\u001b[K     |████████████████████████████████| 197 kB 4.3 MB/s \n",
            "\u001b[?25hRequirement already satisfied: tqdm in /usr/local/lib/python3.7/dist-packages (from nltk) (4.64.0)\n",
            "Requirement already satisfied: joblib in /usr/local/lib/python3.7/dist-packages (from nltk) (1.1.0)\n",
            "Requirement already satisfied: regex>=2021.8.3 in /usr/local/lib/python3.7/dist-packages (from nltk) (2022.6.2)\n",
            "Requirement already satisfied: click in /usr/local/lib/python3.7/dist-packages (from nltk) (7.1.2)\n",
            "Building wheels for collected packages: emoji\n",
            "  Building wheel for emoji (setup.py) ... \u001b[?25l\u001b[?25hdone\n",
            "  Created wheel for emoji: filename=emoji-2.0.0-py3-none-any.whl size=193022 sha256=ab19f32cf2b6b47d13c4388b87b166dba6d80e865df4949c2ebb73e157d79bca\n",
            "  Stored in directory: /root/.cache/pip/wheels/ec/29/4d/3cfe7452ac7d8d83b1930f8a6205c3c9649b24e80f9029fc38\n",
            "Successfully built emoji\n",
            "Installing collected packages: emoji\n",
            "Successfully installed emoji-2.0.0\n"
          ]
        }
      ],
      "source": [
        "!pip install -q -U watermark\n",
        "!pip install -q transformers\n",
        "!pip install nltk emoji"
      ]
    },
    {
      "cell_type": "code",
      "execution_count": null,
      "metadata": {
        "colab": {
          "base_uri": "https://localhost:8080/"
        },
        "id": "AQO_CBuBCuTM",
        "outputId": "045f459d-19ae-406e-b46d-d59c22a1d9d8"
      },
      "outputs": [
        {
          "name": "stdout",
          "output_type": "stream",
          "text": [
            "Python implementation: CPython\n",
            "Python version       : 3.7.13\n",
            "IPython version      : 5.5.0\n",
            "\n",
            "numpy       : 1.21.6\n",
            "pandas      : 1.3.5\n",
            "torch       : 1.11.0+cu113\n",
            "transformers: 4.19.4\n",
            "\n"
          ]
        }
      ],
      "source": [
        "%reload_ext watermark\n",
        "%watermark -v -p numpy,pandas,torch,transformers"
      ]
    },
    {
      "cell_type": "markdown",
      "metadata": {
        "id": "V1oycaje1keZ"
      },
      "source": [
        "## StockTwits new Data Mining"
      ]
    },
    {
      "cell_type": "code",
      "execution_count": null,
      "metadata": {
        "colab": {
          "base_uri": "https://localhost:8080/"
        },
        "id": "K2EyOJhJ1oRq",
        "outputId": "344c7942-7614-4d70-bddd-caaadede535d"
      },
      "outputs": [
        {
          "output_type": "stream",
          "name": "stdout",
          "text": [
            "Looking in indexes: https://pypi.org/simple, https://us-python.pkg.dev/colab-wheels/public/simple/\n",
            "Collecting emoji\n",
            "  Downloading emoji-1.7.0.tar.gz (175 kB)\n",
            "\u001b[K     |████████████████████████████████| 175 kB 14.3 MB/s \n",
            "\u001b[?25hBuilding wheels for collected packages: emoji\n",
            "  Building wheel for emoji (setup.py) ... \u001b[?25l\u001b[?25hdone\n",
            "  Created wheel for emoji: filename=emoji-1.7.0-py3-none-any.whl size=171046 sha256=bf1795947dba1965842e0f9087af3f663779725eddabaa2b78a2b073763cdb0d\n",
            "  Stored in directory: /root/.cache/pip/wheels/8a/4e/b6/57b01db010d17ef6ea9b40300af725ef3e210cb1acfb7ac8b6\n",
            "Successfully built emoji\n",
            "Installing collected packages: emoji\n",
            "Successfully installed emoji-1.7.0\n"
          ]
        }
      ],
      "source": [
        "!pip install emoji"
      ]
    },
    {
      "cell_type": "code",
      "execution_count": null,
      "metadata": {
        "id": "4zm6NoVp1qUd"
      },
      "outputs": [],
      "source": [
        "import numpy as np\n",
        "import pandas as pd\n",
        "\n",
        "from sklearn.model_selection import train_test_split\n",
        "from sklearn.svm import LinearSVC\n",
        "from sklearn.metrics import accuracy_score, classification_report, confusion_matrix\n",
        "\n",
        "from sklearn.feature_extraction.text import TfidfVectorizer\n",
        "\n",
        "import pickle\n",
        "import tweepy\n",
        "import csv\n",
        "import emoji\n",
        "\n",
        "from textblob import TextBlob"
      ]
    },
    {
      "cell_type": "markdown",
      "metadata": {
        "id": "nErU1yu2hZ6L"
      },
      "source": [
        "# Extracting and Processing emojis for classification"
      ]
    },
    {
      "cell_type": "markdown",
      "metadata": {
        "id": "TBU_otDohiC4"
      },
      "source": [
        "### Create the necessary classes"
      ]
    },
    {
      "cell_type": "code",
      "execution_count": null,
      "metadata": {
        "id": "K18VImvmb_zQ"
      },
      "outputs": [],
      "source": [
        "import emoji\n",
        "def extract_emojis(s):\n",
        "  sent = ''\n",
        "  for c in s:\n",
        "    if c in emoji.UNICODE_EMOJI['en']:\n",
        "      sent = s\n",
        "  return sent"
      ]
    },
    {
      "cell_type": "code",
      "execution_count": null,
      "metadata": {
        "id": "ldVj4iwSsvXt"
      },
      "outputs": [],
      "source": [
        "import emoji\n",
        "def collect_emojis(s):\n",
        "  return ' '.join(c for c in s if c in emoji.UNICODE_EMOJI['en'])"
      ]
    },
    {
      "cell_type": "code",
      "execution_count": null,
      "metadata": {
        "id": "QLEOtoxMblJe"
      },
      "outputs": [],
      "source": [
        "text_emo = 'I 🙁 hate ☹️ to 😣 see 😖 this 😫 fail 😩 , 🥺 pls 😢 help 😭 me 😤'\n",
        "text_no = 'And I on the other hand, hate juice and subs'"
      ]
    },
    {
      "cell_type": "code",
      "execution_count": null,
      "metadata": {
        "colab": {
          "base_uri": "https://localhost:8080/"
        },
        "id": "hf7CGX5XwF6R",
        "outputId": "211a7d4a-7ff6-41cb-f030-20118d523291"
      },
      "outputs": [
        {
          "name": "stdout",
          "output_type": "stream",
          "text": [
            "🙁 ☹ 😣 😖 😫 😩 🥺 😢 😭 😤\n"
          ]
        }
      ],
      "source": [
        "print(collect_emojis(text_emo))"
      ]
    },
    {
      "cell_type": "code",
      "execution_count": null,
      "metadata": {
        "id": "DRdQANm-tBen"
      },
      "outputs": [],
      "source": [
        "tete = [text_emo, text_no]"
      ]
    },
    {
      "cell_type": "markdown",
      "source": [
        "Extract all emoji-containing posts:"
      ],
      "metadata": {
        "id": "5K1CWlQLmiku"
      }
    },
    {
      "cell_type": "code",
      "execution_count": null,
      "metadata": {
        "id": "p502QnT0cKFo"
      },
      "outputs": [],
      "source": [
        "emo_bear = []\n",
        "emo_neu = []\n",
        "emo_bull = []\n",
        "for i in text_bear:\n",
        "  if extract_emojis(i):\n",
        "    emo_bear.append(extract_emojis(i))\n",
        "\n",
        "for i in text_net:\n",
        "  if extract_emojis(i):\n",
        "    emo_neu.append(extract_emojis(i))\n",
        "\n",
        "for i in text_bull:\n",
        "  if extract_emojis(i):\n",
        "    emo_bull.append(extract_emojis(i))"
      ]
    },
    {
      "cell_type": "markdown",
      "source": [
        "Extract all emojis per class (bull/bear):"
      ],
      "metadata": {
        "id": "No3620JQmlUM"
      }
    },
    {
      "cell_type": "code",
      "execution_count": null,
      "metadata": {
        "id": "PBnSz5YdtE2u"
      },
      "outputs": [],
      "source": [
        "emos = ''\n",
        "for i in emo_bear:\n",
        "  emos += ' ' + collect_emojis(i)\n",
        "list_emos_bear = \" \".join(set(emos))"
      ]
    },
    {
      "cell_type": "code",
      "execution_count": null,
      "metadata": {
        "id": "6BTKXpCOucac"
      },
      "outputs": [],
      "source": [
        "emos"
      ]
    },
    {
      "cell_type": "code",
      "execution_count": null,
      "metadata": {
        "id": "JlnpkTUpwfyL"
      },
      "outputs": [],
      "source": [
        "list_emos_bear"
      ]
    },
    {
      "cell_type": "code",
      "execution_count": null,
      "metadata": {
        "id": "-FzlP8ymuU3s"
      },
      "outputs": [],
      "source": [
        "emos2 = ''\n",
        "for i in emo_bull:\n",
        "  emos2 += ' ' + collect_emojis(i)\n",
        "list_emos_bull = \" \".join(set(emos2))"
      ]
    },
    {
      "cell_type": "code",
      "execution_count": null,
      "metadata": {
        "id": "iLYVW5e3uVSS"
      },
      "outputs": [],
      "source": [
        "emos3 = ' '\n",
        "for i in emo_neu:\n",
        "  emos3 += ' ' + collect_emojis(i)\n",
        "list_emos_neu = \" \".join(set(emos3))"
      ]
    },
    {
      "cell_type": "code",
      "execution_count": null,
      "metadata": {
        "id": "3sOpkDbVw97Z"
      },
      "outputs": [],
      "source": [
        "list_emos_neu = list_emos_neu.split()"
      ]
    },
    {
      "cell_type": "code",
      "execution_count": null,
      "metadata": {
        "id": "TbwCWJ6TxDlP"
      },
      "outputs": [],
      "source": [
        "list_emos_bull = list_emos_bull.split()\n",
        "list_emos_bear = list_emos_bear.split()"
      ]
    },
    {
      "cell_type": "code",
      "execution_count": null,
      "metadata": {
        "id": "j9AuAPlRmFc9"
      },
      "outputs": [],
      "source": [
        "pd.DataFrame(emo_bull)"
      ]
    },
    {
      "cell_type": "code",
      "execution_count": null,
      "metadata": {
        "id": "qEKduSX-CbsP"
      },
      "outputs": [],
      "source": [
        "path_data = '/content/drive/MyDrive/Data_Thesis_Temp/SA_files/'\n",
        "fn_emo = path_data + 'emos_voc.txt'\n",
        "fn_bull = path_data + 'dataset_BULL.xlsx'\n",
        "fn_bear = path_data + 'dataset_BEAR.xlsx'\n",
        "\n",
        "path_lex = '/content/drive/MyDrive/Data_Thesis_Temp/BERT-lexicon-generation/'\n",
        "fn_vader = path_lex + 'Vader-lexicon.txt'\n",
        "\n",
        "\n",
        "path = path_data\n",
        "fn_bull = path + 'posts-bull.txt'\n",
        "fn_net = path + 'posts-net.txt'\n",
        "fn_bear = path + 'posts-bear.txt'\n",
        "fn_emo = path + 'emos_voc.txt'"
      ]
    },
    {
      "cell_type": "code",
      "execution_count": null,
      "metadata": {
        "id": "fkLAixlnnWK9"
      },
      "outputs": [],
      "source": [
        "fn_bull_emoji = path + 'emoji-bull.txt'\n",
        "fn_net_emoji = path + 'emoji-net.txt'\n",
        "fn_bear_emoji = path + 'emoji-bear.txt'"
      ]
    },
    {
      "cell_type": "code",
      "execution_count": null,
      "metadata": {
        "id": "vZ_COzJ2uv_A"
      },
      "outputs": [],
      "source": [
        "fn_list_bull = path + 'list-emoji-bull.txt'\n",
        "fn_list_neu = path + 'list-emoji-net.txt'\n",
        "fn_list_bear = path + 'list-emoji-bear.txt'"
      ]
    },
    {
      "cell_type": "code",
      "execution_count": null,
      "metadata": {
        "id": "gb5FTIZfnm2d"
      },
      "outputs": [],
      "source": [
        "fn_save = fn_list_bull\n",
        "df_save = list_emos_bull"
      ]
    },
    {
      "cell_type": "code",
      "execution_count": null,
      "metadata": {
        "id": "XEAJsWSpnl0s"
      },
      "outputs": [],
      "source": [
        "fn_save = fn_net_emoji\n",
        "df_save = emo_neu\n",
        "with open(fn_save, 'w') as fp:\n",
        "    for item in df_save:\n",
        "        # write each item on a new line\n",
        "        fp.write(\"%s\\n\" % item)\n",
        "fn_save = fn_bull_emoji\n",
        "df_save = emo_bull\n",
        "with open(fn_save, 'w') as fp:\n",
        "    for item in df_save:\n",
        "        # write each item on a new line\n",
        "        fp.write(\"%s\\n\" % item)\n",
        "fn_save = fn_bear_emoji\n",
        "df_save = emo_bear\n",
        "with open(fn_save, 'w') as fp:\n",
        "    for item in df_save:\n",
        "        # write each item on a new line\n",
        "        fp.write(\"%s\\n\" % item)"
      ]
    },
    {
      "cell_type": "code",
      "execution_count": null,
      "metadata": {
        "id": "6O1BpLM1vPq6"
      },
      "outputs": [],
      "source": []
    },
    {
      "cell_type": "code",
      "execution_count": null,
      "metadata": {
        "id": "yd-VQcE0u_YW"
      },
      "outputs": [],
      "source": [
        "fn_save = fn_list_bull\n",
        "df_save = list_emos_bull\n",
        "with open(fn_save, 'w') as fp:\n",
        "    for item in df_save:\n",
        "        # write each item on a new line\n",
        "        fp.write(\"%s\\n\" % item)\n",
        "fn_save = fn_list_neu\n",
        "df_save = list_emos_neu\n",
        "with open(fn_save, 'w') as fp:\n",
        "    for item in df_save:\n",
        "        # write each item on a new line\n",
        "        fp.write(\"%s\\n\" % item)\n",
        "fn_save = fn_list_bear\n",
        "df_save = list_emos_bear\n",
        "with open(fn_save, 'w') as fp:\n",
        "    for item in df_save:\n",
        "        # write each item on a new line\n",
        "        fp.write(\"%s\\n\" % item)"
      ]
    },
    {
      "cell_type": "code",
      "execution_count": null,
      "metadata": {
        "id": "jOefsDZNoMUt"
      },
      "outputs": [],
      "source": [
        "pd.DataFrame(emo_neu)"
      ]
    },
    {
      "cell_type": "code",
      "execution_count": null,
      "metadata": {
        "id": "_gdvAxZpkqFO"
      },
      "outputs": [],
      "source": [
        "config = open(fn_bull_emoji, \"r\")\n",
        "text_bull = config.read().splitlines()\n",
        "config.close()"
      ]
    },
    {
      "cell_type": "code",
      "execution_count": null,
      "metadata": {
        "id": "T0Pl-bGhkrE7"
      },
      "outputs": [],
      "source": [
        "config = open(fn_net_emoji, \"r\")\n",
        "text_net = config.read().splitlines()\n",
        "config.close()"
      ]
    },
    {
      "cell_type": "code",
      "execution_count": null,
      "metadata": {
        "id": "UJEoWsMZkrY9"
      },
      "outputs": [],
      "source": [
        "config = open(fn_bear_emoji, \"r\")\n",
        "text_bear = config.read().splitlines()\n",
        "config.close()"
      ]
    },
    {
      "cell_type": "code",
      "execution_count": null,
      "metadata": {
        "id": "lJL_XFQe2FrH"
      },
      "outputs": [],
      "source": [
        "config = open(fn_list_bull, \"r\")\n",
        "emojis_bull = config.read().splitlines()\n",
        "config.close()"
      ]
    },
    {
      "cell_type": "code",
      "execution_count": null,
      "metadata": {
        "id": "RwXRsHit2LQd"
      },
      "outputs": [],
      "source": [
        "config = open(fn_list_neu, \"r\")\n",
        "emojis_net = config.read().splitlines()\n",
        "config.close()"
      ]
    },
    {
      "cell_type": "code",
      "execution_count": null,
      "metadata": {
        "id": "XEW5DoqT2Lpi"
      },
      "outputs": [],
      "source": [
        "config = open(fn_list_bear, \"r\")\n",
        "emojis_bear = config.read().splitlines()\n",
        "config.close()"
      ]
    },
    {
      "cell_type": "code",
      "execution_count": null,
      "metadata": {
        "id": "Hb5_tzcn2nI2"
      },
      "outputs": [],
      "source": [
        "# emojis = emojis_bull + emojis_net + emojis_bear\n",
        "# list_emo = list( dict.fromkeys(emojis) )"
      ]
    },
    {
      "cell_type": "code",
      "execution_count": null,
      "metadata": {
        "id": "I4sik20E39xJ"
      },
      "outputs": [],
      "source": [
        "# count_emos = len(list_emo)"
      ]
    },
    {
      "cell_type": "code",
      "execution_count": null,
      "metadata": {
        "id": "bT-OyNrf4evT"
      },
      "outputs": [],
      "source": [
        "count_emos_bear = len(emojis_bear)\n",
        "count_emos_bull = len(emojis_bull)"
      ]
    },
    {
      "cell_type": "code",
      "execution_count": null,
      "metadata": {
        "id": "AqVxkjuC6rho"
      },
      "outputs": [],
      "source": []
    },
    {
      "cell_type": "markdown",
      "metadata": {
        "id": "VD-TecAmiN3Z"
      },
      "source": [
        "### Create balanced samples for classification \n",
        "(20K per class for bearish, 40K per class for Bullish)"
      ]
    },
    {
      "cell_type": "code",
      "execution_count": null,
      "metadata": {
        "id": "oFqg2siU5VV7"
      },
      "outputs": [],
      "source": [
        "import random\n",
        "random.seed(RANDOM_SEED)\n",
        "\n",
        "df_bear_pos = text_bear\n",
        "df_bear_neg = text_bull + text_net\n",
        "\n",
        "df_bull_pos = text_bull\n",
        "df_bull_neg = text_bear + text_net\n",
        "\n",
        "df_bear_neg = random.sample(df_bear_neg, k=20000)\n",
        "df_bear_pos = df_bear_pos + random.choices(df_bear_pos, k=(20000-len(df_bear_pos)))\n",
        "\n",
        "df_bull_neg = df_bull_neg + random.sample(df_bull_neg, k=(40000-len(df_bull_neg)))\n",
        "df_bull_pos = random.sample(df_bull_pos, k=40000)"
      ]
    },
    {
      "cell_type": "code",
      "execution_count": null,
      "metadata": {
        "id": "GVsysoJa85AL"
      },
      "outputs": [],
      "source": [
        "import random\n",
        "random.seed(RANDOM_SEED)\n",
        "ones_bear = np.ones(20000)\n",
        "ones_bull = np.ones(40000)\n",
        "\n",
        "zeros_bear = np.zeros(20000)\n",
        "zeros_bull = np.zeros(40000)"
      ]
    },
    {
      "cell_type": "markdown",
      "metadata": {
        "id": "_g8b4eJaiYBA"
      },
      "source": [
        "### Perform Initial Emoji Encodings \n",
        "(So before we clean the less-frequent cases)"
      ]
    },
    {
      "cell_type": "code",
      "execution_count": null,
      "metadata": {
        "id": "3XzuMDUD9K6P"
      },
      "outputs": [],
      "source": [
        "temp_df = df_bull_neg\n",
        "emo_df = emojis_bull\n",
        "df_out = []\n",
        "\n",
        "def encode_emojis(emo, post):\n",
        "  ret = False\n",
        "  for c in post:\n",
        "    if c == emo:\n",
        "      ret = True \n",
        "  return ret\n",
        "\n",
        "for post in temp_df:\n",
        "  temp_arg = []\n",
        "  for ind, emo in enumerate(emo_df):\n",
        "    if encode_emojis(emo, post):\n",
        "      temp_arg += [ind]\n",
        "  df_out.append(temp_arg)"
      ]
    },
    {
      "cell_type": "code",
      "execution_count": null,
      "metadata": {
        "id": "-mHC64AF__xy"
      },
      "outputs": [],
      "source": [
        "# encoding_bear_pos = df_out"
      ]
    },
    {
      "cell_type": "code",
      "execution_count": null,
      "metadata": {
        "id": "pcG_4fIyAHen"
      },
      "outputs": [],
      "source": [
        "# encoding_bear_neg = df_out"
      ]
    },
    {
      "cell_type": "code",
      "execution_count": null,
      "metadata": {
        "id": "EH6fABAyAY16"
      },
      "outputs": [],
      "source": [
        "encoding_bull_neg = df_out"
      ]
    },
    {
      "cell_type": "code",
      "execution_count": null,
      "metadata": {
        "id": "oKbYZBbR7cfe"
      },
      "outputs": [],
      "source": [
        "def encode_emojis(emo, post):\n",
        "  ret = False\n",
        "  for c in post:\n",
        "    if c == emo:\n",
        "      ret = True \n",
        "  return ret"
      ]
    },
    {
      "cell_type": "code",
      "execution_count": null,
      "metadata": {
        "id": "w9Yu6wuM_Bcd"
      },
      "outputs": [],
      "source": [
        "text_emo = 'I 🙁 hate ☹️ to 😣 see 😖 this 😫 fail 😩 , 🥺 pls 😢 help 😭 me 😤'"
      ]
    },
    {
      "cell_type": "code",
      "execution_count": null,
      "metadata": {
        "id": "sLZn427p_PaW"
      },
      "outputs": [],
      "source": [
        "emo = '🙁'"
      ]
    },
    {
      "cell_type": "code",
      "execution_count": null,
      "metadata": {
        "id": "m-PlP3FvAkJh"
      },
      "outputs": [],
      "source": [
        "fn_encoding_bear_pos = path + 'emoji-encode-bear-pos.txt'\n",
        "fn_encoding_bear_neg = path + 'emoji-encode-bear-neg.txt'\n",
        "fn_encoding_bull_pos = path + 'emoji-encode-bull-pos.txt'\n",
        "fn_encoding_bull_neg = path + 'emoji-encode-bull-neg.txt'"
      ]
    },
    {
      "cell_type": "code",
      "execution_count": null,
      "metadata": {
        "id": "BnEt_E9pk4Oq"
      },
      "outputs": [],
      "source": []
    },
    {
      "cell_type": "code",
      "execution_count": null,
      "metadata": {
        "id": "z7IgrWRWA46r"
      },
      "outputs": [],
      "source": [
        "fn_save = fn_encoding_bear_pos\n",
        "df_save = encoding_bear_pos\n",
        "with open(fn_save, 'w') as fp:\n",
        "    for item in df_save:\n",
        "        # write each item on a new line\n",
        "        fp.write(\"%s\\n\" % item)\n",
        "fn_save = fn_encoding_bear_neg\n",
        "df_save = encoding_bear_neg\n",
        "with open(fn_save, 'w') as fp:\n",
        "    for item in df_save:\n",
        "        # write each item on a new line\n",
        "        fp.write(\"%s\\n\" % item)\n",
        "fn_save = fn_encoding_bull_pos\n",
        "df_save = encoding_bull_pos\n",
        "with open(fn_save, 'w') as fp:\n",
        "    for item in df_save:\n",
        "        # write each item on a new line\n",
        "        fp.write(\"%s\\n\" % item)\n",
        "fn_save = fn_encoding_bull_neg\n",
        "df_save = encoding_bull_neg\n",
        "with open(fn_save, 'w') as fp:\n",
        "    for item in df_save:\n",
        "        # write each item on a new line\n",
        "        fp.write(\"%s\\n\" % item)"
      ]
    },
    {
      "cell_type": "code",
      "execution_count": null,
      "metadata": {
        "colab": {
          "base_uri": "https://localhost:8080/"
        },
        "id": "8etCDK0h_R2Q",
        "outputId": "a49a8df8-c7c6-493a-ebe6-9bf530f6c3d7"
      },
      "outputs": [
        {
          "data": {
            "text/plain": [
              "True"
            ]
          },
          "execution_count": 58,
          "metadata": {},
          "output_type": "execute_result"
        }
      ],
      "source": [
        "encode_emojis(emo, text_emo)"
      ]
    },
    {
      "cell_type": "markdown",
      "metadata": {
        "id": "T3yR0bkPigHn"
      },
      "source": [
        "### Extract only emojis that appear more than 20 times in either one class"
      ]
    },
    {
      "cell_type": "code",
      "execution_count": null,
      "metadata": {
        "id": "V0cif4nuLg9K"
      },
      "outputs": [],
      "source": [
        "df_pos = encoding_bull_pos\n",
        "df_neg = encoding_bull_neg"
      ]
    },
    {
      "cell_type": "code",
      "execution_count": null,
      "metadata": {
        "colab": {
          "base_uri": "https://localhost:8080/",
          "height": 36
        },
        "id": "2qEhW-R_Lstj",
        "outputId": "d489f928-dfe5-4ca2-e44e-9e3ef324e55c"
      },
      "outputs": [
        {
          "data": {
            "application/vnd.google.colaboratory.intrinsic+json": {
              "type": "string"
            },
            "text/plain": [
              "'😂'"
            ]
          },
          "execution_count": 85,
          "metadata": {},
          "output_type": "execute_result"
        }
      ],
      "source": [
        "emojis_bear[376]"
      ]
    },
    {
      "cell_type": "code",
      "execution_count": null,
      "metadata": {
        "id": "wp7udpAmL5k7"
      },
      "outputs": [],
      "source": [
        "emo_l = len(emojis_bull)\n",
        "df_ohe_pos = []\n",
        "for sent in df_pos:\n",
        "  enco_line = np.zeros(emo_l, dtype=int).tolist()\n",
        "  for ee in sent:\n",
        "    enco_line[int(ee)] = int(1)\n",
        "  df_ohe_pos.append(enco_line)\n",
        "\n"
      ]
    },
    {
      "cell_type": "code",
      "execution_count": null,
      "metadata": {
        "id": "2SiDkKLHPedF"
      },
      "outputs": [],
      "source": [
        "df_trans = list(map(list, zip(*df_ohe_pos)))"
      ]
    },
    {
      "cell_type": "code",
      "execution_count": null,
      "metadata": {
        "id": "1jlHvD2OOp_S"
      },
      "outputs": [],
      "source": [
        "lens_by_emo = [sum(x) for x in df_trans]"
      ]
    },
    {
      "cell_type": "code",
      "execution_count": null,
      "metadata": {
        "id": "Q2qgDkjlQgMB"
      },
      "outputs": [],
      "source": [
        "### Remove all emojis that appear less than 20 times in either category, this leaves us with 211 emojis for bearish, and 316 emojis for bullish:\n",
        "j2 = [1 if x>=20 else 0 for x in lens_by_emo]"
      ]
    },
    {
      "cell_type": "code",
      "execution_count": null,
      "metadata": {
        "colab": {
          "base_uri": "https://localhost:8080/"
        },
        "id": "5rxkiEtMQ_eP",
        "outputId": "baf3df11-270a-4e57-9ed2-6ef09c9ce62c"
      },
      "outputs": [
        {
          "data": {
            "text/plain": [
              "265"
            ]
          },
          "execution_count": 154,
          "metadata": {},
          "output_type": "execute_result"
        }
      ],
      "source": [
        "sum(j2)"
      ]
    },
    {
      "cell_type": "code",
      "execution_count": null,
      "metadata": {
        "id": "h31FdCZpRbQ2"
      },
      "outputs": [],
      "source": [
        "emo_l = len(emojis_bull)\n",
        "df_ohe_neg = []\n",
        "for sent in df_neg:\n",
        "  enco_line = np.zeros(emo_l, dtype=int).tolist()\n",
        "  for ee in sent:\n",
        "    enco_line[int(ee)] = int(1)\n",
        "  df_ohe_neg.append(enco_line)\n"
      ]
    },
    {
      "cell_type": "code",
      "execution_count": null,
      "metadata": {
        "id": "DV7CSEDYRtv6"
      },
      "outputs": [],
      "source": [
        "df_trans_neg = list(map(list, zip(*df_ohe_neg)))"
      ]
    },
    {
      "cell_type": "code",
      "execution_count": null,
      "metadata": {
        "id": "s5PeL9GIRwrg"
      },
      "outputs": [],
      "source": [
        "lens_by_emo_neg = [sum(x) for x in df_trans_neg]"
      ]
    },
    {
      "cell_type": "code",
      "execution_count": null,
      "metadata": {
        "id": "CA8LVjn3SEZe"
      },
      "outputs": [],
      "source": [
        "j2_neg = [1 if x>=20 else 0 for x in lens_by_emo_neg]"
      ]
    },
    {
      "cell_type": "code",
      "execution_count": null,
      "metadata": {
        "colab": {
          "base_uri": "https://localhost:8080/"
        },
        "id": "DtUHYV7xSHiy",
        "outputId": "ecfd43b1-1f2e-4bf9-e9e6-dbb4abb80eb1"
      },
      "outputs": [
        {
          "data": {
            "text/plain": [
              "272"
            ]
          },
          "execution_count": 159,
          "metadata": {},
          "output_type": "execute_result"
        }
      ],
      "source": [
        "sum(j2_neg)"
      ]
    },
    {
      "cell_type": "code",
      "execution_count": null,
      "metadata": {
        "id": "AcTDWdDVSJqs"
      },
      "outputs": [],
      "source": [
        "common_aps = [a*b for a,b in zip(j2,j2_neg)]"
      ]
    },
    {
      "cell_type": "code",
      "execution_count": null,
      "metadata": {
        "colab": {
          "base_uri": "https://localhost:8080/"
        },
        "id": "o1O7iAZaSWlq",
        "outputId": "e9b4157a-0532-40bf-e884-e3acb6541050"
      },
      "outputs": [
        {
          "data": {
            "text/plain": [
              "221"
            ]
          },
          "execution_count": 161,
          "metadata": {},
          "output_type": "execute_result"
        }
      ],
      "source": [
        "sum(common_aps)"
      ]
    },
    {
      "cell_type": "code",
      "execution_count": null,
      "metadata": {
        "id": "NoxYhAbhSkcM"
      },
      "outputs": [],
      "source": [
        "union_aps = [max(a,b) for a,b in zip(j2,j2_neg)]"
      ]
    },
    {
      "cell_type": "code",
      "execution_count": null,
      "metadata": {
        "colab": {
          "base_uri": "https://localhost:8080/"
        },
        "id": "XPYJVSz-TPtm",
        "outputId": "764d4520-0944-406f-bf79-265857b711fd"
      },
      "outputs": [
        {
          "data": {
            "text/plain": [
              "316"
            ]
          },
          "execution_count": 163,
          "metadata": {},
          "output_type": "execute_result"
        }
      ],
      "source": [
        "sum(union_aps)"
      ]
    },
    {
      "cell_type": "code",
      "execution_count": null,
      "metadata": {
        "id": "GJgv_pAmdLJN"
      },
      "outputs": [],
      "source": [
        "emojis_cl_bear = []\n",
        "for ind, emo in enumerate(emojis_bear):\n",
        "  if union_aps[ind]>0:\n",
        "    emojis_cl_bear += [emojis_bear[ind]]"
      ]
    },
    {
      "cell_type": "code",
      "execution_count": null,
      "metadata": {
        "id": "rG53PTtrditX"
      },
      "outputs": [],
      "source": [
        "emojis_cl_bull = []\n",
        "for ind, emo in enumerate(emojis_bull):\n",
        "  if union_aps[ind]>0:\n",
        "    emojis_cl_bull += [emojis_bull[ind]]"
      ]
    },
    {
      "cell_type": "code",
      "execution_count": null,
      "metadata": {
        "id": "7eKTUDTReF9b"
      },
      "outputs": [],
      "source": [
        "fn_emoji_clean_bear = path + 'emoji-clean-bear.txt'\n",
        "fn_emoji_clean_bull = path + 'emoji-clean-bull.txt'"
      ]
    },
    {
      "cell_type": "code",
      "execution_count": null,
      "metadata": {
        "id": "arOzGuIJeWCi"
      },
      "outputs": [],
      "source": [
        "fn_save = fn_emoji_clean_bull\n",
        "df_save = emojis_cl_bull\n",
        "with open(fn_save, 'w') as fp:\n",
        "    for item in df_save:\n",
        "        # write each item on a new line\n",
        "        fp.write(\"%s\\n\" % item)"
      ]
    },
    {
      "cell_type": "code",
      "execution_count": null,
      "metadata": {
        "id": "shZBVwpTf74c"
      },
      "outputs": [],
      "source": []
    },
    {
      "cell_type": "code",
      "execution_count": null,
      "metadata": {
        "id": "1qD4oiHrdE8u"
      },
      "outputs": [],
      "source": [
        "emo_l = sum(union_aps)\n",
        "df_clean_neg = []\n",
        "for sent in df_neg:\n",
        "  enco_line = np.zeros(emo_l, dtype=int).tolist()\n",
        "  for ee in sent:\n",
        "    enco_line[int(ee)] = int(1)\n",
        "  df_ohe_neg.append(enco_line)"
      ]
    },
    {
      "cell_type": "code",
      "execution_count": null,
      "metadata": {
        "id": "xh-oZ0Tdcn_j"
      },
      "outputs": [],
      "source": []
    },
    {
      "cell_type": "code",
      "execution_count": null,
      "metadata": {
        "colab": {
          "base_uri": "https://localhost:8080/",
          "height": 423
        },
        "id": "mx49vdEMNTYM",
        "outputId": "b47f4ee8-ba00-44dc-c469-2d8f098c95d2"
      },
      "outputs": [
        {
          "data": {
            "text/html": [
              "\n",
              "  <div id=\"df-5ee01b88-a4bf-4b14-80a8-141b51607e19\">\n",
              "    <div class=\"colab-df-container\">\n",
              "      <div>\n",
              "<style scoped>\n",
              "    .dataframe tbody tr th:only-of-type {\n",
              "        vertical-align: middle;\n",
              "    }\n",
              "\n",
              "    .dataframe tbody tr th {\n",
              "        vertical-align: top;\n",
              "    }\n",
              "\n",
              "    .dataframe thead th {\n",
              "        text-align: right;\n",
              "    }\n",
              "</style>\n",
              "<table border=\"1\" class=\"dataframe\">\n",
              "  <thead>\n",
              "    <tr style=\"text-align: right;\">\n",
              "      <th></th>\n",
              "      <th>0</th>\n",
              "    </tr>\n",
              "  </thead>\n",
              "  <tbody>\n",
              "    <tr>\n",
              "      <th>0</th>\n",
              "      <td>26</td>\n",
              "    </tr>\n",
              "    <tr>\n",
              "      <th>1</th>\n",
              "      <td>5</td>\n",
              "    </tr>\n",
              "    <tr>\n",
              "      <th>2</th>\n",
              "      <td>7</td>\n",
              "    </tr>\n",
              "    <tr>\n",
              "      <th>3</th>\n",
              "      <td>3</td>\n",
              "    </tr>\n",
              "    <tr>\n",
              "      <th>4</th>\n",
              "      <td>56</td>\n",
              "    </tr>\n",
              "    <tr>\n",
              "      <th>...</th>\n",
              "      <td>...</td>\n",
              "    </tr>\n",
              "    <tr>\n",
              "      <th>458</th>\n",
              "      <td>1</td>\n",
              "    </tr>\n",
              "    <tr>\n",
              "      <th>459</th>\n",
              "      <td>3</td>\n",
              "    </tr>\n",
              "    <tr>\n",
              "      <th>460</th>\n",
              "      <td>2</td>\n",
              "    </tr>\n",
              "    <tr>\n",
              "      <th>461</th>\n",
              "      <td>8</td>\n",
              "    </tr>\n",
              "    <tr>\n",
              "      <th>462</th>\n",
              "      <td>0</td>\n",
              "    </tr>\n",
              "  </tbody>\n",
              "</table>\n",
              "<p>463 rows × 1 columns</p>\n",
              "</div>\n",
              "      <button class=\"colab-df-convert\" onclick=\"convertToInteractive('df-5ee01b88-a4bf-4b14-80a8-141b51607e19')\"\n",
              "              title=\"Convert this dataframe to an interactive table.\"\n",
              "              style=\"display:none;\">\n",
              "        \n",
              "  <svg xmlns=\"http://www.w3.org/2000/svg\" height=\"24px\"viewBox=\"0 0 24 24\"\n",
              "       width=\"24px\">\n",
              "    <path d=\"M0 0h24v24H0V0z\" fill=\"none\"/>\n",
              "    <path d=\"M18.56 5.44l.94 2.06.94-2.06 2.06-.94-2.06-.94-.94-2.06-.94 2.06-2.06.94zm-11 1L8.5 8.5l.94-2.06 2.06-.94-2.06-.94L8.5 2.5l-.94 2.06-2.06.94zm10 10l.94 2.06.94-2.06 2.06-.94-2.06-.94-.94-2.06-.94 2.06-2.06.94z\"/><path d=\"M17.41 7.96l-1.37-1.37c-.4-.4-.92-.59-1.43-.59-.52 0-1.04.2-1.43.59L10.3 9.45l-7.72 7.72c-.78.78-.78 2.05 0 2.83L4 21.41c.39.39.9.59 1.41.59.51 0 1.02-.2 1.41-.59l7.78-7.78 2.81-2.81c.8-.78.8-2.07 0-2.86zM5.41 20L4 18.59l7.72-7.72 1.47 1.35L5.41 20z\"/>\n",
              "  </svg>\n",
              "      </button>\n",
              "      \n",
              "  <style>\n",
              "    .colab-df-container {\n",
              "      display:flex;\n",
              "      flex-wrap:wrap;\n",
              "      gap: 12px;\n",
              "    }\n",
              "\n",
              "    .colab-df-convert {\n",
              "      background-color: #E8F0FE;\n",
              "      border: none;\n",
              "      border-radius: 50%;\n",
              "      cursor: pointer;\n",
              "      display: none;\n",
              "      fill: #1967D2;\n",
              "      height: 32px;\n",
              "      padding: 0 0 0 0;\n",
              "      width: 32px;\n",
              "    }\n",
              "\n",
              "    .colab-df-convert:hover {\n",
              "      background-color: #E2EBFA;\n",
              "      box-shadow: 0px 1px 2px rgba(60, 64, 67, 0.3), 0px 1px 3px 1px rgba(60, 64, 67, 0.15);\n",
              "      fill: #174EA6;\n",
              "    }\n",
              "\n",
              "    [theme=dark] .colab-df-convert {\n",
              "      background-color: #3B4455;\n",
              "      fill: #D2E3FC;\n",
              "    }\n",
              "\n",
              "    [theme=dark] .colab-df-convert:hover {\n",
              "      background-color: #434B5C;\n",
              "      box-shadow: 0px 1px 3px 1px rgba(0, 0, 0, 0.15);\n",
              "      filter: drop-shadow(0px 1px 2px rgba(0, 0, 0, 0.3));\n",
              "      fill: #FFFFFF;\n",
              "    }\n",
              "  </style>\n",
              "\n",
              "      <script>\n",
              "        const buttonEl =\n",
              "          document.querySelector('#df-5ee01b88-a4bf-4b14-80a8-141b51607e19 button.colab-df-convert');\n",
              "        buttonEl.style.display =\n",
              "          google.colab.kernel.accessAllowed ? 'block' : 'none';\n",
              "\n",
              "        async function convertToInteractive(key) {\n",
              "          const element = document.querySelector('#df-5ee01b88-a4bf-4b14-80a8-141b51607e19');\n",
              "          const dataTable =\n",
              "            await google.colab.kernel.invokeFunction('convertToInteractive',\n",
              "                                                     [key], {});\n",
              "          if (!dataTable) return;\n",
              "\n",
              "          const docLinkHtml = 'Like what you see? Visit the ' +\n",
              "            '<a target=\"_blank\" href=https://colab.research.google.com/notebooks/data_table.ipynb>data table notebook</a>'\n",
              "            + ' to learn more about interactive tables.';\n",
              "          element.innerHTML = '';\n",
              "          dataTable['output_type'] = 'display_data';\n",
              "          await google.colab.output.renderOutput(dataTable, element);\n",
              "          const docLink = document.createElement('div');\n",
              "          docLink.innerHTML = docLinkHtml;\n",
              "          element.appendChild(docLink);\n",
              "        }\n",
              "      </script>\n",
              "    </div>\n",
              "  </div>\n",
              "  "
            ],
            "text/plain": [
              "      0\n",
              "0    26\n",
              "1     5\n",
              "2     7\n",
              "3     3\n",
              "4    56\n",
              "..   ..\n",
              "458   1\n",
              "459   3\n",
              "460   2\n",
              "461   8\n",
              "462   0\n",
              "\n",
              "[463 rows x 1 columns]"
            ]
          },
          "execution_count": 122,
          "metadata": {},
          "output_type": "execute_result"
        }
      ],
      "source": [
        "pd.DataFrame(lens_by_emo_neg)"
      ]
    },
    {
      "cell_type": "code",
      "execution_count": null,
      "metadata": {
        "id": "GL98Jin2Lm8n"
      },
      "outputs": [],
      "source": [
        "df_pos"
      ]
    },
    {
      "cell_type": "code",
      "execution_count": null,
      "metadata": {
        "id": "3t1xnNmv4Mtz"
      },
      "outputs": [],
      "source": []
    },
    {
      "cell_type": "code",
      "execution_count": null,
      "metadata": {
        "id": "mCOZw4FnkFSb"
      },
      "outputs": [],
      "source": [
        "# Save the \n",
        "fn_save = fn_train_bear_pos\n",
        "df_save = df_bear_pos\n",
        "with open(fn_save, 'w') as fp:\n",
        "    for item in df_save:\n",
        "        # write each item on a new line\n",
        "        fp.write(\"%s\\n\" % item)\n",
        "fn_save = fn_train_bear_neg\n",
        "df_save = df_bear_neg\n",
        "with open(fn_save, 'w') as fp:\n",
        "    for item in df_save:\n",
        "        # write each item on a new line\n",
        "        fp.write(\"%s\\n\" % item)\n",
        "fn_save = fn_train_bull_pos\n",
        "df_save = df_bull_pos\n",
        "with open(fn_save, 'w') as fp:\n",
        "    for item in df_save:\n",
        "        # write each item on a new line\n",
        "        fp.write(\"%s\\n\" % item)\n",
        "fn_save = fn_train_bull_neg\n",
        "df_save = df_bull_neg\n",
        "with open(fn_save, 'w') as fp:\n",
        "    for item in df_save:\n",
        "        # write each item on a new line\n",
        "        fp.write(\"%s\\n\" % item)\n"
      ]
    },
    {
      "cell_type": "markdown",
      "metadata": {
        "id": "heEvMlGejpqY"
      },
      "source": [
        "## Final Encoding Before Classification"
      ]
    },
    {
      "cell_type": "code",
      "execution_count": null,
      "metadata": {
        "id": "yEDJKTosk7zk"
      },
      "outputs": [],
      "source": [
        "path = '/content/drive/MyDrive/Data_Thesis_Temp/SA_files/emoji-classifier/'\n",
        "fn_train_encode_bear_pos = path + 'encode-bear-pos.csv'\n",
        "fn_train_encode_bear_neg = path + 'encode-bear-neg.csv'\n",
        "fn_train_encode_bull_pos = path + 'encode-bull-pos.csv'\n",
        "fn_train_encode_bull_neg = path + 'encode-bull-neg.csv'\n",
        "\n",
        "fn_emoji_clean_bear = path + 'emoji-clean-bear.txt'\n",
        "fn_emoji_clean_bull = path + 'emoji-clean-bull.txt'"
      ]
    },
    {
      "cell_type": "code",
      "execution_count": null,
      "metadata": {
        "id": "0YZu_Wvijtv8"
      },
      "outputs": [],
      "source": [
        "path = '/content/drive/MyDrive/Data_Thesis_Temp/SA_files/emoji-classifier/'\n",
        "fn_emoji_clean_bear = path + 'emoji-clean-bear.txt'\n",
        "fn_emoji_clean_bull = path + 'emoji-clean-bull.txt'\n",
        "\n",
        "fn_train_bear_pos = path + 'train-bear-pos.txt'\n",
        "fn_train_bear_neg = path + 'train-bear-neg.txt'\n",
        "fn_train_bull_pos = path + 'train-bull-pos.txt'\n",
        "fn_train_bull_neg = path + 'train-bull-neg.txt'"
      ]
    },
    {
      "cell_type": "code",
      "execution_count": null,
      "metadata": {
        "id": "6fM3uRRtmM5Y"
      },
      "outputs": [],
      "source": [
        "# df = df_bear_pos\n",
        "# df = df_bear_neg\n",
        "# df = df_bull_pos\n",
        "# df = df_bull_neg"
      ]
    },
    {
      "cell_type": "code",
      "execution_count": null,
      "metadata": {
        "id": "C-pIS3K1mvq2"
      },
      "outputs": [],
      "source": [
        "temp_df = df\n",
        "emo_df = emojis_cl_bull\n",
        "df_out = []\n",
        "\n",
        "def encode_emojis(emo, post):\n",
        "  ret = False\n",
        "  for c in post:\n",
        "    if c == emo:\n",
        "      ret = True \n",
        "  return ret\n",
        "\n",
        "for post in temp_df:\n",
        "  temp_arg = []\n",
        "  for ind, emo in enumerate(emo_df):\n",
        "    if encode_emojis(emo, post):\n",
        "      temp_arg += [ind]\n",
        "  df_out.append(temp_arg)"
      ]
    },
    {
      "cell_type": "code",
      "execution_count": null,
      "metadata": {
        "id": "IJQ_BlaInGTU"
      },
      "outputs": [],
      "source": [
        "# df_int_bear_pos = df_out\n",
        "# df_int_bear_neg = df_out\n",
        "# df_int_bull_pos = df_out\n",
        "# df_int_bull_neg = df_out"
      ]
    },
    {
      "cell_type": "code",
      "execution_count": null,
      "metadata": {
        "id": "0Dzy15dvoV0B"
      },
      "outputs": [],
      "source": [
        "# df = df_int_bear_pos\n",
        "# df = df_int_bear_neg\n",
        "# df = df_int_bull_pos\n",
        "df = df_int_bull_neg"
      ]
    },
    {
      "cell_type": "code",
      "execution_count": null,
      "metadata": {
        "id": "GH7hnTYVma6k"
      },
      "outputs": [],
      "source": [
        "temp_df = df\n",
        "emo_df = emojis_cl_bull\n",
        "emo_l = len(emo_df)\n",
        "df_ohe = []\n",
        "for sent in temp_df:\n",
        "  enco_line = np.zeros(emo_l, dtype=int).tolist()\n",
        "  for ee in sent:\n",
        "    enco_line[int(ee)] = int(1)\n",
        "  df_ohe.append(enco_line)"
      ]
    },
    {
      "cell_type": "code",
      "execution_count": null,
      "metadata": {
        "id": "gkPJlS9uov-f"
      },
      "outputs": [],
      "source": [
        "# df_final_bear_pos = df_ohe\n",
        "# df_final_bear_neg = df_ohe\n",
        "# df_final_bull_pos = df_ohe\n",
        "df_final_bull_neg = df_ohe"
      ]
    },
    {
      "cell_type": "code",
      "execution_count": null,
      "metadata": {
        "colab": {
          "base_uri": "https://localhost:8080/"
        },
        "id": "VKRSp6xgplVV",
        "outputId": "f9228b58-5e52-42b3-fef4-bf8fef641a1e"
      },
      "outputs": [
        {
          "data": {
            "text/plain": [
              "[0, 0, 0, 0, 0, 0, 0, 0, 0, 0, 0, 0, 0, 0, 0, 0, 0, 0, 0, 0]"
            ]
          },
          "execution_count": 223,
          "metadata": {},
          "output_type": "execute_result"
        }
      ],
      "source": [
        "df_ohe[200][:20]"
      ]
    },
    {
      "cell_type": "code",
      "execution_count": null,
      "metadata": {
        "id": "0pNIqZXavVgo"
      },
      "outputs": [],
      "source": [
        "fn_save = fn_train_encode_bull_pos\n",
        "df_save = df_final_bull_pos\n",
        "df_save = np.array(df_save)\n",
        "df_save = pd.DataFrame(df_save)\n",
        "df_save.to_csv(fn_save)"
      ]
    },
    {
      "cell_type": "code",
      "execution_count": null,
      "metadata": {
        "id": "ARGEZFX6pQ3r"
      },
      "outputs": [],
      "source": [
        "# # Save the encoded features (211 emojis for bear, 316 for bull)\n",
        "# fn_save = fn_train_encode_bear_pos\n",
        "# df_save = df_final_bear_pos\n",
        "# df_save = np.array(df_save)\n",
        "# with open(fn_save, 'w') as fp:\n",
        "#     for item in df_save:\n",
        "#         # write each item on a new line\n",
        "#         fp.write(\"%s\\n\" % item)\n",
        "# fn_save = fn_train_encode_bear_neg\n",
        "# df_save = df_final_bear_neg\n",
        "# df_save = np.array(df_save)\n",
        "# with open(fn_save, 'w') as fp:\n",
        "#     for item in df_save:\n",
        "#         # write each item on a new line\n",
        "#         fp.write(\"%s\\n\" % item)\n",
        "# fn_save = fn_train_encode_bull_pos\n",
        "# df_save = df_final_bull_pos\n",
        "# df_save = np.array(df_save)\n",
        "# with open(fn_save, 'w') as fp:\n",
        "#     for item in df_save:\n",
        "#         # write each item on a new line\n",
        "#         fp.write(\"%s\\n\" % item)\n",
        "# fn_save = fn_train_encode_bull_neg\n",
        "# df_save = df_final_bull_neg\n",
        "# df_save = np.array(df_save)\n",
        "# with open(fn_save, 'w') as fp:\n",
        "#     for item in df_save:\n",
        "#         # write each item on a new line\n",
        "#         fp.write(\"%s\\n\" % item)\n"
      ]
    },
    {
      "cell_type": "code",
      "execution_count": null,
      "metadata": {
        "id": "_cNhSHdDuUmC"
      },
      "outputs": [],
      "source": [
        "temp_ar = np.array(df_final_bear_pos)"
      ]
    },
    {
      "cell_type": "markdown",
      "metadata": {
        "id": "WUftYZMoh02T"
      },
      "source": [
        "# Building the Model(s)"
      ]
    },
    {
      "cell_type": "markdown",
      "metadata": {
        "id": "ra0pRzbch_ev"
      },
      "source": [
        "### Perform all the imports"
      ]
    },
    {
      "cell_type": "code",
      "execution_count": null,
      "metadata": {
        "colab": {
          "base_uri": "https://localhost:8080/"
        },
        "id": "1V11S1hYCw6p",
        "outputId": "affca2fb-b310-4bf9-c286-6042afc70401"
      },
      "outputs": [
        {
          "output_type": "execute_result",
          "data": {
            "text/plain": [
              "device(type='cpu')"
            ]
          },
          "metadata": {},
          "execution_count": 15
        }
      ],
      "source": [
        "#import transformers\n",
        "# from transformers import BertModel, BertTokenizer, AdamW, get_linear_schedule_with_warmup, AutoModel, AutoTokenizer, AutoConfig, AutoModelForTokenClassification, BertTokenizerFast\n",
        "import torch\n",
        "\n",
        "import logging\n",
        "from pathlib import Path\n",
        "import time\n",
        "\n",
        "import random\n",
        "\n",
        "import numpy as np\n",
        "import pandas as pd\n",
        "import seaborn as sns\n",
        "from pylab import rcParams\n",
        "import matplotlib.pyplot as plt\n",
        "from matplotlib import rc\n",
        "from sklearn.model_selection import train_test_split\n",
        "from sklearn.metrics import confusion_matrix, classification_report\n",
        "from sklearn.svm import SVC  \n",
        "from collections import defaultdict\n",
        "from textwrap import wrap\n",
        "\n",
        "from sklearn import model_selection, naive_bayes, svm\n",
        "from sklearn.metrics import accuracy_score\n",
        "\n",
        "from torch import nn, optim\n",
        "from torch.utils.data import Dataset, DataLoader\n",
        "import torch.nn.functional as F\n",
        "\n",
        "%matplotlib inline\n",
        "%config InlineBackend.figure_format='retina'\n",
        "\n",
        "sns.set(style='whitegrid', palette='muted', font_scale=1.2)\n",
        "\n",
        "HAPPY_COLORS_PALETTE = [\"#01BEFE\", \"#FFDD00\", \"#FF7D00\", \"#FF006D\", \"#ADFF02\", \"#8F00FF\"]\n",
        "\n",
        "sns.set_palette(sns.color_palette(HAPPY_COLORS_PALETTE))\n",
        "\n",
        "rcParams['figure.figsize'] = 12, 8\n",
        "\n",
        "RANDOM_SEED = 420\n",
        "np.random.seed(RANDOM_SEED)\n",
        "torch.manual_seed(RANDOM_SEED)\n",
        "random.seed(RANDOM_SEED)\n",
        "\n",
        "device = torch.device(\"cuda:0\" if torch.cuda.is_available() else \"cpu\")\n",
        "device"
      ]
    },
    {
      "cell_type": "code",
      "execution_count": null,
      "metadata": {
        "id": "tig8Q5vJjDD6"
      },
      "outputs": [],
      "source": [
        "# import pandas as pd\n",
        "# import numpy as np\n",
        "# from nltk.tokenize import word_tokenize\n",
        "# from nltk import pos_tag\n",
        "# from nltk.corpus import stopwords\n",
        "# from nltk.stem import WordNetLemmatizer\n",
        "# from sklearn.preprocessing import LabelEncoder\n",
        "# from collections import defaultdict\n",
        "# from nltk.corpus import wordnet as wn\n",
        "# from sklearn.feature_extraction.text import TfidfVectorizer\n",
        "# from sklearn import model_selection, naive_bayes, svm\n",
        "# from sklearn.metrics import accuracy_score"
      ]
    },
    {
      "cell_type": "markdown",
      "metadata": {
        "id": "XUf8mLeJqd22"
      },
      "source": [
        "### Download the Data"
      ]
    },
    {
      "cell_type": "code",
      "execution_count": null,
      "metadata": {
        "id": "YAitVHIsqgb2"
      },
      "outputs": [],
      "source": [
        "## The encoded posts from stocktwits, with 211 emojis for bear, 316 for bull\n",
        "path = '/content/drive/MyDrive/Data_Thesis_Temp/SA_files/emoji-classifier/'\n",
        "fn_bear_pos = path + 'encode-bear-pos.csv'\n",
        "fn_bear_neg = path + 'encode-bear-neg.csv'\n",
        "fn_bull_pos = path + 'encode-bull-pos.csv'\n",
        "fn_bull_neg = path + 'encode-bull-neg.csv'\n",
        "\n",
        "fn_emoji_bear = path + 'emojis-bear.txt'\n",
        "fn_emoji_bull = path + 'emojis-bull.txt'"
      ]
    },
    {
      "cell_type": "code",
      "execution_count": null,
      "metadata": {
        "id": "c-o8BLpsqo8a"
      },
      "outputs": [],
      "source": [
        "## Generate the labels for each set\n",
        "ones_bear = np.ones(20000)\n",
        "ones_bull = np.ones(40000)\n",
        "zeros_bear = np.zeros(20000)\n",
        "zeros_bull = np.zeros(40000)"
      ]
    },
    {
      "cell_type": "code",
      "execution_count": null,
      "metadata": {
        "id": "LrUliUZcxXy0"
      },
      "outputs": [],
      "source": []
    },
    {
      "cell_type": "code",
      "execution_count": null,
      "metadata": {
        "id": "bGtFkLSWrMni"
      },
      "outputs": [],
      "source": [
        "df_bear_pos = pd.read_csv(fn_bear_pos)\n",
        "df_bear_neg = pd.read_csv(fn_bear_neg)\n",
        "df_bull_pos = pd.read_csv(fn_bull_pos)\n",
        "df_bull_neg = pd.read_csv(fn_bull_neg)\n",
        "df_bear_pos = df_bear_pos.iloc[:,1:]\n",
        "df_bear_neg = df_bear_neg.iloc[:,1:]\n",
        "df_bull_pos = df_bull_pos.iloc[:,1:]\n",
        "df_bull_neg = df_bull_neg.iloc[:,1:]"
      ]
    },
    {
      "cell_type": "code",
      "execution_count": null,
      "metadata": {
        "id": "q6gDToj2xwji"
      },
      "outputs": [],
      "source": [
        "# val_bear_pos = df_bear_pos.iloc[-2000:, :]"
      ]
    },
    {
      "cell_type": "code",
      "execution_count": null,
      "metadata": {
        "id": "ErQP9MTWvG8e"
      },
      "outputs": [],
      "source": [
        "train_bear_pos, val_bear_pos, train_bear_neg, val_bear_neg = df_bear_pos.iloc[:-2000, :], df_bear_pos.iloc[-2000:, :], df_bear_neg.iloc[:-2000, :], df_bear_neg.iloc[-2000:, :]"
      ]
    },
    {
      "cell_type": "code",
      "execution_count": null,
      "metadata": {
        "id": "bVcyv6UXylhR"
      },
      "outputs": [],
      "source": [
        "train_bull_pos, val_bull_pos, train_bull_neg, val_bull_neg = df_bull_pos.iloc[:-4000, :], df_bull_pos.iloc[-4000:, :], df_bull_neg.iloc[:-4000, :], df_bull_neg.iloc[-4000:, :]"
      ]
    },
    {
      "cell_type": "code",
      "execution_count": null,
      "metadata": {
        "id": "zxXNoibBs-4e"
      },
      "outputs": [],
      "source": [
        "train_bear = pd.concat((train_bear_pos, train_bear_neg), ignore_index = True)\n",
        "train_bull = pd.concat((train_bull_pos, train_bull_neg), ignore_index = True)"
      ]
    },
    {
      "cell_type": "code",
      "execution_count": null,
      "metadata": {
        "id": "OTPQ4oDor5D9"
      },
      "outputs": [],
      "source": [
        "val_bear = pd.concat((val_bear_pos, val_bear_neg), ignore_index = True)\n",
        "val_bull = pd.concat((val_bull_pos, val_bull_neg), ignore_index = True)"
      ]
    },
    {
      "cell_type": "code",
      "execution_count": null,
      "metadata": {
        "id": "86GiAgm8zgYM"
      },
      "outputs": [],
      "source": [
        "labels_train_bear = np.hstack((ones_bear[:-2000],zeros_bear[:-2000]))\n",
        "labels_val_bear = np.hstack((ones_bear[-2000:],zeros_bear[-2000:]))"
      ]
    },
    {
      "cell_type": "code",
      "execution_count": null,
      "metadata": {
        "id": "XEorsl530aRl"
      },
      "outputs": [],
      "source": [
        "labels_train_bull = np.hstack((ones_bull[:-4000],zeros_bull[:-4000]))\n",
        "labels_val_bull = np.hstack((ones_bull[-4000:],zeros_bull[-4000:]))"
      ]
    },
    {
      "cell_type": "code",
      "execution_count": null,
      "metadata": {
        "id": "MB-ma-Iy0orZ"
      },
      "outputs": [],
      "source": [
        "train_bear['labels'] = labels_train_bear\n",
        "val_bear['labels'] = labels_val_bear\n",
        "train_bull['labels'] = labels_train_bull\n",
        "val_bull['labels'] = labels_val_bull"
      ]
    },
    {
      "cell_type": "code",
      "execution_count": null,
      "metadata": {
        "id": "r8Fqgcju1Kad"
      },
      "outputs": [],
      "source": [
        "df_bear_train = train_bear.sample(frac=1).reset_index(drop=True)"
      ]
    },
    {
      "cell_type": "code",
      "execution_count": null,
      "metadata": {
        "colab": {
          "base_uri": "https://localhost:8080/"
        },
        "id": "NnZWO7a-1nYt",
        "outputId": "b8c4c92d-3e6f-4d0b-85c4-5e5122d15c03"
      },
      "outputs": [
        {
          "data": {
            "text/plain": [
              "0        1.0\n",
              "1        0.0\n",
              "2        0.0\n",
              "3        1.0\n",
              "4        1.0\n",
              "        ... \n",
              "35995    1.0\n",
              "35996    1.0\n",
              "35997    1.0\n",
              "35998    0.0\n",
              "35999    1.0\n",
              "Name: labels, Length: 36000, dtype: float64"
            ]
          },
          "execution_count": 339,
          "metadata": {},
          "output_type": "execute_result"
        }
      ],
      "source": [
        "df_bear_train['labels']"
      ]
    },
    {
      "cell_type": "markdown",
      "metadata": {
        "id": "UXjJ6byAitCc"
      },
      "source": [
        "## SVM Model Framework"
      ]
    },
    {
      "cell_type": "markdown",
      "metadata": {
        "id": "VRtEaetxdlck"
      },
      "source": [
        "### SVM-Based Emoji Lexicon Creation"
      ]
    },
    {
      "cell_type": "code",
      "execution_count": null,
      "metadata": {
        "id": "tnW9GIBIcCwH"
      },
      "outputs": [],
      "source": [
        "from sklearn.svm import SVC  \n",
        "import pandas as pd\n",
        "import numpy as np\n",
        "## The encoded posts from stocktwits, with 211 emojis for bear, 316 for bull\n",
        "path = '/content/drive/MyDrive/Data_Thesis_Temp/SA_files/emoji-classifier/'\n",
        "fn_bear_pos = path + 'encode-bear-pos.csv'\n",
        "fn_bear_neg = path + 'encode-bear-neg.csv'\n",
        "fn_bull_pos = path + 'encode-bull-pos.csv'\n",
        "fn_bull_neg = path + 'encode-bull-neg.csv'\n",
        "\n",
        "fn_emoji_bear = path + 'emojis-bear.txt'\n",
        "fn_emoji_bull = path + 'emojis-bull.txt'\n",
        "\n",
        "fn_bear_double_enco = path + 'emoji-comb-bear-encoded.csv'\n",
        "fn_bear_double_emos = path + 'emoji-comb-bear.txt'\n",
        "\n",
        "fn_bull_comb_enco = path + 'emoji-comb-bull-encoded.csv'\n",
        "fn_bull_comb_emos = path + 'emoji-comb-bull.txt'\n",
        "\n",
        "fn_bear_triple_enco = path + 'emoji-triple-bear-encoded.csv'\n",
        "fn_bear_triple_emos = path + 'emoji-triple-bear.txt'\n",
        "\n",
        "fn_bull_triple_enco = path + 'emoji-triple-bull-encoded.csv'\n",
        "fn_bull_triple_emos = path + 'emoji-triple-bull.txt'\n",
        "## Generate the labels for each set\n",
        "ones_bear = np.ones(20000)\n",
        "ones_bull = np.ones(40000)\n",
        "zeros_bear = np.zeros(20000)\n",
        "zeros_bull = np.zeros(40000)\n",
        "\n",
        "df_bear_pos = pd.read_csv(fn_bear_pos)\n",
        "df_bear_neg = pd.read_csv(fn_bear_neg)\n",
        "df_bull_pos = pd.read_csv(fn_bull_pos)\n",
        "df_bull_neg = pd.read_csv(fn_bull_neg)\n",
        "df_bear_pos = df_bear_pos.iloc[:,1:]\n",
        "df_bear_neg = df_bear_neg.iloc[:,1:]\n",
        "df_bull_pos = df_bull_pos.iloc[:,1:]\n",
        "df_bull_neg = df_bull_neg.iloc[:,1:]"
      ]
    },
    {
      "cell_type": "code",
      "execution_count": null,
      "metadata": {
        "id": "Elc5F7oJcRCv"
      },
      "outputs": [],
      "source": [
        "train_bear_pos, val_bear_pos, train_bear_neg, val_bear_neg = df_bear_pos.iloc[:-2000, :], df_bear_pos.iloc[-2000:, :], df_bear_neg.iloc[:-2000, :], df_bear_neg.iloc[-2000:, :]"
      ]
    },
    {
      "cell_type": "code",
      "execution_count": null,
      "metadata": {
        "id": "tw01dtlocU1H"
      },
      "outputs": [],
      "source": [
        "train_bear = pd.concat((train_bear_pos, train_bear_neg), ignore_index = True)\n",
        "val_bear = pd.concat((val_bear_pos, val_bear_neg), ignore_index = True)\n",
        "labels_train_bear = np.hstack((ones_bear[:-2000],zeros_bear[:-2000]))\n",
        "labels_val_bear = np.hstack((ones_bear[-2000:],zeros_bear[-2000:]))\n",
        "train_bear['labels'] = labels_train_bear\n",
        "val_bear['labels'] = labels_val_bear"
      ]
    },
    {
      "cell_type": "code",
      "execution_count": null,
      "metadata": {
        "id": "Omb3M5iLcXH5"
      },
      "outputs": [],
      "source": [
        "df_bear_train = train_bear.sample(frac=1).reset_index(drop=True)"
      ]
    },
    {
      "cell_type": "code",
      "execution_count": null,
      "metadata": {
        "colab": {
          "base_uri": "https://localhost:8080/"
        },
        "id": "ntfcufPIcBJP",
        "outputId": "08b0f2df-fbee-4038-b7b1-fb201564acf7"
      },
      "outputs": [
        {
          "name": "stdout",
          "output_type": "stream",
          "text": [
            "[LibSVM]"
          ]
        },
        {
          "data": {
            "text/plain": [
              "SVC(C=1, cache_size=12000, degree=2, gamma=1, kernel='poly', random_state=420,\n",
              "    verbose=True)"
            ]
          },
          "execution_count": 166,
          "metadata": {},
          "output_type": "execute_result"
        }
      ],
      "source": [
        "# Best params from GridSearchCV:\n",
        "\n",
        "from sklearn.svm import SVC \n",
        "SVM_bear = SVC(C = 1, \n",
        "               kernel = \"poly\", \n",
        "               degree = 2, \n",
        "               gamma = 1,\n",
        "               random_state = 420,\n",
        "               cache_size = 12000,\n",
        "               verbose = True)\n",
        "SVM_bear.fit(train_bear.iloc[:,:-1], train_bear['labels'])"
      ]
    },
    {
      "cell_type": "code",
      "execution_count": null,
      "metadata": {
        "id": "kLo2GbWNdAuT"
      },
      "outputs": [],
      "source": [
        "fn_bear_triple_encoded = path + 'emoji-triple-bear-encoded.csv'\n",
        "emos_triple_bear_encode = pd.read_csv(fn_bear_triple_encoded)\n",
        "fn_bear_triple_emos = path + 'emoji-triple-bear.txt'\n",
        "emos_triple_bear_encode = emos_triple_bear_encode.iloc[:,1:]"
      ]
    },
    {
      "cell_type": "code",
      "execution_count": null,
      "metadata": {
        "id": "HXNbY22Od508"
      },
      "outputs": [],
      "source": [
        "emos_triple_bear_encode = emos_triple_bear_encode.iloc[:,1:]"
      ]
    },
    {
      "cell_type": "code",
      "execution_count": null,
      "metadata": {
        "id": "1Dlr7BjjdLbY"
      },
      "outputs": [],
      "source": [
        "fn_bear_comb_encoded = path + 'emoji-comb-bear-encoded.csv'\n",
        "emos_comb_bear_encode = pd.read_csv(fn_bear_comb_encoded)\n",
        "fn_bear_comb_emos = path + 'emoji-comb-bear.txt'\n",
        "emos_comb_bear_encode = emos_comb_bear_encode.iloc[:,1:]"
      ]
    },
    {
      "cell_type": "code",
      "execution_count": null,
      "metadata": {
        "id": "NhPAGCaJcnkP"
      },
      "outputs": [],
      "source": [
        "x_pred_bear_double = emos_comb_bear_encode\n",
        "p = np.array(SVM_bear.decision_function(x_pred_bear_double)) # decision is a voting function\n",
        "prob_bear_double = np.exp(p)/(np.exp(p)+1)\n"
      ]
    },
    {
      "cell_type": "code",
      "execution_count": null,
      "metadata": {
        "id": "ak3t1zeMcvPM"
      },
      "outputs": [],
      "source": [
        "fn_pred_bear_double = path + 'probs-bear-lc-double.csv'\n",
        "fn_pred_bear_triple = path + 'probs-bear-lc-triple.csv'"
      ]
    },
    {
      "cell_type": "code",
      "execution_count": null,
      "metadata": {
        "id": "7Aw9PiyOc4hh"
      },
      "outputs": [],
      "source": [
        "np.savetxt(fn_pred_bear_double, prob_bear_double, delimiter=\",\")"
      ]
    },
    {
      "cell_type": "code",
      "execution_count": null,
      "metadata": {
        "id": "8vsMgzzQcsgP"
      },
      "outputs": [],
      "source": [
        "x_pred_bear_triple = emos_triple_bear_encode\n",
        "p = np.array(SVM_bear.decision_function(x_pred_bear_triple)) # decision is a voting function\n",
        "prob_bear_triple = np.exp(p)/(1+np.exp(p))\n",
        "np.savetxt(fn_pred_bear_triple, prob_bear_triple, delimiter=\",\")"
      ]
    },
    {
      "cell_type": "code",
      "execution_count": null,
      "metadata": {
        "id": "mfLtAhpuc5Ff"
      },
      "outputs": [],
      "source": [
        "np.savetxt(fn_pred_bear_triple, prob_bear_triple, delimiter=\",\")"
      ]
    },
    {
      "cell_type": "markdown",
      "metadata": {
        "id": "GLnSGBcqNE1z"
      },
      "source": [
        "Train Bull Emoji Classifier"
      ]
    },
    {
      "cell_type": "code",
      "execution_count": null,
      "metadata": {
        "id": "8EoRnxUmdyIC"
      },
      "outputs": [],
      "source": [
        "train_bull_pos, val_bull_pos, train_bull_neg, val_bull_neg = df_bull_pos.iloc[:-4000, :], df_bull_pos.iloc[-4000:, :], df_bull_neg.iloc[:-4000, :], df_bull_neg.iloc[-4000:, :]\n",
        "\n",
        "train_bull = pd.concat((train_bull_pos, train_bull_neg), ignore_index = True)\n",
        "val_bull = pd.concat((val_bull_pos, val_bull_neg), ignore_index = True)\n",
        "labels_train_bull = np.hstack((ones_bull[:-4000],zeros_bull[:-4000]))\n",
        "labels_val_bull = np.hstack((ones_bull[-4000:],zeros_bull[-4000:]))\n",
        "train_bull['labels'] = labels_train_bull\n",
        "val_bull['labels'] = labels_val_bull\n",
        "\n",
        "# Shuffle the dataframe before training\n",
        "df_bull_train = train_bull.sample(frac=1).reset_index(drop=True)\n"
      ]
    },
    {
      "cell_type": "code",
      "execution_count": null,
      "metadata": {
        "colab": {
          "base_uri": "https://localhost:8080/"
        },
        "id": "UqO6BJ5wLnwH",
        "outputId": "4af07ba6-9f1e-41a0-f3ec-168c48227618"
      },
      "outputs": [
        {
          "name": "stdout",
          "output_type": "stream",
          "text": [
            "[LibSVM]"
          ]
        },
        {
          "data": {
            "text/plain": [
              "SVC(C=1, cache_size=12000, degree=2, gamma=1, kernel='poly', random_state=420,\n",
              "    verbose=True)"
            ]
          },
          "execution_count": 181,
          "metadata": {},
          "output_type": "execute_result"
        }
      ],
      "source": [
        "SVM_bull = SVC(C = 1, \n",
        "               kernel = \"poly\", \n",
        "               degree = 2, \n",
        "               gamma = 1,\n",
        "               random_state = 420,\n",
        "               cache_size = 12000,\n",
        "               verbose = True)\n",
        "SVM_bull.fit(train_bull.iloc[:,:-1], train_bull['labels'])"
      ]
    },
    {
      "cell_type": "code",
      "execution_count": null,
      "metadata": {
        "id": "PyLuqMfnLwwi"
      },
      "outputs": [],
      "source": [
        "fn_bull_comb_encoded = path + 'emoji-comb-bull-encoded.csv'\n",
        "emos_comb_bull_encode = pd.read_csv(fn_bull_comb_encoded)\n",
        "fn_bull_comb_emos = path + 'emoji-comb-bull.txt'\n",
        "emos_comb_bull_encode = emos_comb_bull_encode.iloc[:,1:]"
      ]
    },
    {
      "cell_type": "code",
      "execution_count": null,
      "metadata": {
        "id": "jGqPr37QMAbI"
      },
      "outputs": [],
      "source": [
        "fn_bull_triple_encoded = path + 'emoji-triple-bull-encoded.csv'\n",
        "emos_triple_bull_encode = pd.read_csv(fn_bull_triple_encoded)\n",
        "fn_bull_triple_emos = path + 'emoji-triple-bull.txt'\n",
        "emos_triple_bull_encode = emos_triple_bull_encode.iloc[:,1:]"
      ]
    },
    {
      "cell_type": "code",
      "execution_count": null,
      "metadata": {
        "id": "VQkKedegLtk3"
      },
      "outputs": [],
      "source": [
        "x_pred_bull_double = emos_comb_bull_encode\n",
        "p = np.array(SVM_bull.decision_function(x_pred_bull_double)) # decision is a voting function\n",
        "prob_bull_double = np.exp(p)/(1+np.exp(p)) "
      ]
    },
    {
      "cell_type": "code",
      "execution_count": null,
      "metadata": {
        "id": "qxr60ukoLy8F"
      },
      "outputs": [],
      "source": [
        "fn_pred_bull_double = path + 'probs-bull-double.csv'\n",
        "fn_pred_bull_triple = path + 'probs-bull-triple.csv'\n",
        "np.savetxt(fn_pred_bull_double, prob_bull_double, delimiter=\",\")"
      ]
    },
    {
      "cell_type": "code",
      "execution_count": null,
      "metadata": {
        "id": "YTF0scTcLt8S"
      },
      "outputs": [],
      "source": [
        "fn_pred_bull_triple = path + 'probs-bull-triple.csv'\n",
        "x_pred_bull_triple = emos_triple_bull_encode\n",
        "p = np.array(SVM_bull.decision_function(x_pred_bull_triple)) # decision is a voting function\n",
        "prob_bull_triple = np.exp(p)/(1+np.exp(p)) \n",
        "np.savetxt(fn_pred_bull_triple, prob_bull_triple, delimiter=\",\")"
      ]
    },
    {
      "cell_type": "code",
      "execution_count": null,
      "metadata": {
        "id": "FPnwQZyDL4HW"
      },
      "outputs": [],
      "source": [
        "np.savetxt(fn_pred_bull_triple, prob_bull_triple, delimiter=\",\")"
      ]
    },
    {
      "cell_type": "markdown",
      "metadata": {
        "id": "1QGg4u6MD6wI"
      },
      "source": [
        "Predict Bear and Bull emojis for single-emos:"
      ]
    },
    {
      "cell_type": "code",
      "execution_count": null,
      "metadata": {
        "id": "uWEqKBMgD53C"
      },
      "outputs": [],
      "source": [
        "config = open(fn_emoji_bear, \"r\")\n",
        "df_single_emos_bear = config.read().splitlines()\n",
        "config.close()"
      ]
    },
    {
      "cell_type": "code",
      "execution_count": null,
      "metadata": {
        "id": "gXgaHUoqEYRQ"
      },
      "outputs": [],
      "source": [
        "config = open(fn_emoji_bull, \"r\")\n",
        "df_single_emos_bull = config.read().splitlines()\n",
        "config.close()"
      ]
    },
    {
      "cell_type": "code",
      "execution_count": null,
      "metadata": {
        "id": "bl4PlkZ6EaNu"
      },
      "outputs": [],
      "source": [
        "emos_len = len(df_single_emos_bull)\n",
        "df_ohe = []\n",
        "for num in range(emos_len):\n",
        "  enco_line = np.zeros(emos_len, dtype=int).tolist()\n",
        "  enco_line[int(num)] = int(1)\n",
        "  df_ohe.append(enco_line)"
      ]
    },
    {
      "cell_type": "code",
      "execution_count": null,
      "metadata": {
        "id": "Dc9KoF6yFTXU"
      },
      "outputs": [],
      "source": [
        "# single_bear_emos = df_ohe\n",
        "single_bull_emos = df_ohe"
      ]
    },
    {
      "cell_type": "code",
      "execution_count": null,
      "metadata": {
        "colab": {
          "base_uri": "https://localhost:8080/"
        },
        "id": "Xr--eKyVFhPO",
        "outputId": "4c1484ed-95af-4352-bcea-f0ee0f73f57a"
      },
      "outputs": [
        {
          "name": "stderr",
          "output_type": "stream",
          "text": [
            "/usr/local/lib/python3.7/dist-packages/sklearn/base.py:451: UserWarning: X does not have valid feature names, but SVC was fitted with feature names\n",
            "  \"X does not have valid feature names, but\"\n"
          ]
        }
      ],
      "source": [
        "fn_pred_bear_single = path + 'probs-bear-single.csv'\n",
        "x_pred_bear_single = single_bear_emos\n",
        "p = np.array(SVM_bear.decision_function(x_pred_bear_single)) # decision is a voting function\n",
        "prob_bear_single = np.exp(p)/(1+np.exp(p))\n",
        "np.savetxt(fn_pred_bear_single, prob_bear_single, delimiter=\",\")"
      ]
    },
    {
      "cell_type": "code",
      "execution_count": null,
      "metadata": {
        "colab": {
          "base_uri": "https://localhost:8080/"
        },
        "id": "P0FawWolFeju",
        "outputId": "72e9499c-5eea-4ff5-eebe-2f161c9eb19a"
      },
      "outputs": [
        {
          "name": "stderr",
          "output_type": "stream",
          "text": [
            "/usr/local/lib/python3.7/dist-packages/sklearn/base.py:451: UserWarning: X does not have valid feature names, but SVC was fitted with feature names\n",
            "  \"X does not have valid feature names, but\"\n"
          ]
        }
      ],
      "source": [
        "fn_pred_bull_single = path + 'probs-bull-single.csv'\n",
        "x_pred_bull_single = single_bull_emos\n",
        "p = np.array(SVM_bull.decision_function(x_pred_bull_single)) # decision is a voting function\n",
        "prob_bull_single = np.exp(p)/(1+np.exp(p)) \n",
        "np.savetxt(fn_pred_bull_single, prob_bull_single, delimiter=\",\")"
      ]
    },
    {
      "cell_type": "code",
      "execution_count": null,
      "metadata": {
        "colab": {
          "base_uri": "https://localhost:8080/"
        },
        "id": "I__xZ3dWX7zS",
        "outputId": "61b7a9dd-a590-49cb-b93d-bc88b94888e8"
      },
      "outputs": [
        {
          "data": {
            "text/plain": [
              "array([0.26899315, 0.73110777, 0.26898762, 0.26899027, 0.26897893,\n",
              "       0.26896593, 0.73108369, 0.43522092, 0.73110918, 0.26897427,\n",
              "       0.26899287, 0.26895789, 0.26898973, 0.26899242, 0.73110759,\n",
              "       0.73106417, 0.26899541, 0.26899946, 0.26897156, 0.26898702,\n",
              "       0.26900036, 0.26898131, 0.26898834, 0.73111361, 0.26900164,\n",
              "       0.269003  , 0.52485423, 0.62631894, 0.5558703 , 0.26899503,\n",
              "       0.26894308, 0.49225839, 0.26896248, 0.26896035, 0.57677543,\n",
              "       0.26895498, 0.73106937, 0.73105347, 0.26898401, 0.73110115,\n",
              "       0.26898825, 0.43958946, 0.73106493, 0.60707372, 0.59344249,\n",
              "       0.26899016, 0.26898846, 0.2689675 , 0.73106552, 0.26900042,\n",
              "       0.26895131, 0.26893491, 0.26898005, 0.26893325, 0.43190576,\n",
              "       0.42058307, 0.26897904, 0.7311082 , 0.26894988, 0.73111736,\n",
              "       0.7310984 , 0.26893461, 0.73107674, 0.73106872, 0.26898891,\n",
              "       0.26895766, 0.26895695, 0.73109846, 0.73112066, 0.33398427,\n",
              "       0.73108876, 0.7310665 , 0.73108153, 0.4330312 , 0.38982766,\n",
              "       0.46307209, 0.26900258, 0.26898323, 0.26895011, 0.73109281,\n",
              "       0.73109703, 0.26897914, 0.73111356, 0.26897181, 0.26898739,\n",
              "       0.73109519, 0.73108801, 0.45683209, 0.2689918 , 0.26898996,\n",
              "       0.73105343, 0.73111081, 0.73105984, 0.26893367, 0.26892981,\n",
              "       0.73110393, 0.73106697, 0.2689973 , 0.73111515, 0.26899089,\n",
              "       0.73111606, 0.26898271, 0.26894042, 0.26894952, 0.26899057,\n",
              "       0.268973  , 0.26897479, 0.73110995, 0.2689566 , 0.26899576,\n",
              "       0.26897456, 0.73108765, 0.26895163, 0.73105572, 0.73108283,\n",
              "       0.26895127, 0.26897247, 0.73110295, 0.50865019, 0.26899642,\n",
              "       0.26898902, 0.73106436, 0.26899693, 0.26897816, 0.73110769,\n",
              "       0.73109644, 0.73108265, 0.25921555, 0.73109819, 0.4254786 ,\n",
              "       0.2689985 , 0.47989611, 0.26898497, 0.26898516, 0.26899553,\n",
              "       0.58310324, 0.26898553, 0.73111055, 0.26896246, 0.52025555,\n",
              "       0.26895666, 0.7310963 , 0.73110759, 0.73111676, 0.10109328,\n",
              "       0.31773559, 0.26898599, 0.26896256, 0.5010209 , 0.43999643,\n",
              "       0.2689411 , 0.26894306, 0.32722219, 0.73109933, 0.26894907,\n",
              "       0.73110166, 0.26894723, 0.26895597, 0.73106493, 0.73111988,\n",
              "       0.26895027, 0.56947923, 0.380751  , 0.26896162, 0.73110231,\n",
              "       0.26893059, 0.73111027, 0.26897689, 0.26896721, 0.73111902,\n",
              "       0.73104985, 0.26897324, 0.73107195, 0.26894963, 0.42422251,\n",
              "       0.26899294, 0.26897281, 0.73104833, 0.26897344, 0.26900718,\n",
              "       0.49932722, 0.26895111, 0.26898763, 0.73111891, 0.73110845,\n",
              "       0.73105792, 0.73106205, 0.26899551, 0.26898695, 0.73104931,\n",
              "       0.25165197, 0.26899262, 0.26898467, 0.73106252, 0.73111866,\n",
              "       0.2689946 , 0.26896811, 0.2689891 , 0.73109168, 0.26897631,\n",
              "       0.26897964, 0.26896793, 0.26895833, 0.26897984, 0.26897547,\n",
              "       0.26897174, 0.26900083, 0.26899693, 0.73108507, 0.73110204,\n",
              "       0.26894642])"
            ]
          },
          "execution_count": 188,
          "metadata": {},
          "output_type": "execute_result"
        }
      ],
      "source": [
        "prob_bear_single"
      ]
    },
    {
      "cell_type": "code",
      "execution_count": null,
      "metadata": {
        "colab": {
          "base_uri": "https://localhost:8080/"
        },
        "id": "6rNBpYhwXPEJ",
        "outputId": "f53be876-10b0-48d9-f1a4-544761db024e"
      },
      "outputs": [
        {
          "data": {
            "text/plain": [
              "array([0.73105818, 0.58500923, 0.59587943, 0.2689538 , 0.26898462,\n",
              "       0.73105873, 0.48609063, 0.26893827, 0.26893436, 0.26893438,\n",
              "       0.26895322, 0.7310662 , 0.31740352, 0.73106401, 0.26897765,\n",
              "       0.73105081, 0.30653823, 0.73105579, 0.26894187, 0.26893808,\n",
              "       0.27904844, 0.26899174, 0.73109116, 0.26894103, 0.7310879 ,\n",
              "       0.26893101, 0.62216992, 0.73106451, 0.26894199, 0.26894282,\n",
              "       0.73110569, 0.7310592 , 0.26899482, 0.26894246, 0.26898145,\n",
              "       0.49011276, 0.26894274, 0.54406592, 0.26894636, 0.2689929 ,\n",
              "       0.48182271, 0.73108743, 0.50034457, 0.26893567, 0.6776358 ,\n",
              "       0.26893173, 0.26894203, 0.73105147, 0.26894468, 0.45393142,\n",
              "       0.32791447, 0.26893451, 0.37362607, 0.73109943, 0.26893892,\n",
              "       0.2689456 , 0.73105234, 0.2689832 , 0.26895367, 0.57020704,\n",
              "       0.39624575, 0.26893765, 0.73105847, 0.26893517, 0.73110707,\n",
              "       0.73108952, 0.26895066, 0.41732834, 0.26894269, 0.31172104,\n",
              "       0.26897936, 0.4878003 , 0.28661528, 0.26893236, 0.31768981,\n",
              "       0.63353275, 0.38505295, 0.7311073 , 0.26898605, 0.56848962,\n",
              "       0.26897842, 0.26898364, 0.26894629, 0.73108286, 0.71031113,\n",
              "       0.26898063, 0.26893701, 0.73105362, 0.26899461, 0.67366126,\n",
              "       0.26893725, 0.26897052, 0.268936  , 0.26898339, 0.73106399,\n",
              "       0.26893821, 0.73105125, 0.26898474, 0.71693736, 0.26893982,\n",
              "       0.26898044, 0.2689591 , 0.26893499, 0.35315788, 0.73106893,\n",
              "       0.53851065, 0.73105762, 0.26894113, 0.73106461, 0.26893925,\n",
              "       0.42706281, 0.73105763, 0.73104816, 0.26895731, 0.26893785,\n",
              "       0.41123448, 0.26897747, 0.44283545, 0.38857511, 0.26894773,\n",
              "       0.26893353, 0.3405454 , 0.26892965, 0.73105483, 0.65869345,\n",
              "       0.73105253, 0.7310644 , 0.26894492, 0.26893454, 0.26893974,\n",
              "       0.73111149, 0.73106105, 0.57928806, 0.26894177, 0.26894853,\n",
              "       0.66851402, 0.26894185, 0.26893925, 0.73110429, 0.26897731,\n",
              "       0.55438774, 0.73107961, 0.26898567, 0.73108866, 0.53617116,\n",
              "       0.64053702, 0.73104893, 0.26894609, 0.36164244, 0.73105163,\n",
              "       0.62287347, 0.73105028, 0.61789254, 0.73109649, 0.268987  ,\n",
              "       0.26893416, 0.73105706, 0.73105153, 0.26897883, 0.50423619,\n",
              "       0.26894601, 0.73110193, 0.73104724, 0.26895618, 0.26893361,\n",
              "       0.26898212, 0.58764115, 0.26895713, 0.2689536 , 0.26899095,\n",
              "       0.70926095, 0.73105917, 0.26897482, 0.26894395, 0.34469902,\n",
              "       0.26894249, 0.26893779, 0.54613754, 0.60753469, 0.73105924,\n",
              "       0.26893768, 0.73105957, 0.73107445, 0.73105805, 0.36151044,\n",
              "       0.73106179, 0.45556333, 0.68361597, 0.4311809 , 0.73105575,\n",
              "       0.26894359, 0.42411469, 0.73105542, 0.73107725, 0.26894153,\n",
              "       0.73108492, 0.26893978, 0.26897872, 0.26893437, 0.26893525,\n",
              "       0.33928747, 0.40347739, 0.73109644, 0.26894102, 0.26898618,\n",
              "       0.26896911, 0.26896824, 0.60799285, 0.73110275, 0.26897195,\n",
              "       0.73105336, 0.73105611, 0.49089237, 0.26893546, 0.51259171,\n",
              "       0.26898186, 0.2689664 , 0.73105337, 0.2689696 , 0.51343585,\n",
              "       0.59971134, 0.69715936, 0.26893279, 0.73106687, 0.36147661,\n",
              "       0.26896314, 0.26898188, 0.73106146, 0.26893925, 0.26898681,\n",
              "       0.73105168, 0.26894883, 0.43956135, 0.73106377, 0.26893388,\n",
              "       0.73105159, 0.26899302, 0.68359929, 0.26893152, 0.73106086,\n",
              "       0.30412701, 0.26893173, 0.2689723 , 0.26893804, 0.73105433,\n",
              "       0.26895947, 0.26898231, 0.71974301, 0.29915166, 0.49265159,\n",
              "       0.39630572, 0.3839186 , 0.73107863, 0.26899156, 0.73109678,\n",
              "       0.35176934, 0.2718095 , 0.61739342, 0.26897173, 0.26898272,\n",
              "       0.73106826, 0.73105596, 0.46702432, 0.2689371 , 0.63047176,\n",
              "       0.26894624, 0.26898765, 0.73110555, 0.64433914, 0.26893161,\n",
              "       0.73107353, 0.51543165, 0.7310604 , 0.46172013, 0.42622396,\n",
              "       0.26894538, 0.26893273, 0.73107215, 0.31645864, 0.444246  ,\n",
              "       0.73110239, 0.26894788, 0.26894943, 0.73106256, 0.73108578,\n",
              "       0.73107884, 0.26899306, 0.73104948, 0.55487359, 0.73108571,\n",
              "       0.73109895, 0.26892324, 0.26896291, 0.73107999, 0.26897131,\n",
              "       0.60388142, 0.4694241 , 0.7310653 , 0.55071415, 0.26893812,\n",
              "       0.73105878, 0.7310696 , 0.26894463, 0.73106411, 0.2689499 ,\n",
              "       0.73109288, 0.73110564, 0.45924664, 0.73107245, 0.4426167 ,\n",
              "       0.73106315, 0.26897957, 0.26894302, 0.73110957, 0.26894668,\n",
              "       0.73107808])"
            ]
          },
          "execution_count": 187,
          "metadata": {},
          "output_type": "execute_result"
        }
      ],
      "source": [
        "prob_bull_single"
      ]
    },
    {
      "cell_type": "markdown",
      "metadata": {
        "id": "c7I82mfwzUNh"
      },
      "source": [
        "### Extract most influential emojis from classification results"
      ]
    },
    {
      "cell_type": "code",
      "execution_count": null,
      "metadata": {
        "id": "DQFkuaJjzZHJ"
      },
      "outputs": [],
      "source": [
        "from sklearn.svm import SVC  \n",
        "import pandas as pd\n",
        "import numpy as np\n",
        "## The encoded posts from stocktwits, with 211 emojis for bear, 316 for bull\n",
        "path = '/content/drive/MyDrive/Data_Thesis_Temp/SA_files/emoji-classifier/'\n",
        "fn_pred_bear_double = path + 'probs-bear-lc-double.csv'\n",
        "fn_pred_bull_double = path + 'probs-bull-double.csv'\n",
        "fn_pred_bear_single = path + 'probs-bear-single.csv'\n",
        "fn_pred_bull_single = path + 'probs-bull-single.csv'\n",
        "fn_bear_comb_emos = path + 'emoji-comb-bear.txt'\n",
        "fn_bull_comb_emos = path + 'emoji-comb-bull.txt'\n",
        "fn_bear_sing_emos = path + 'emojis-bear.txt'\n",
        "fn_bull_sing_emos = path + 'emojis-bull.txt'"
      ]
    },
    {
      "cell_type": "code",
      "execution_count": null,
      "metadata": {
        "id": "Flh6nRlzzeIB"
      },
      "outputs": [],
      "source": [
        "df_probs_bear = pd.read_csv(fn_pred_bear_double, names = ['prob'])\n",
        "df_probs_bull = pd.read_csv(fn_pred_bull_double, names = ['prob'])"
      ]
    },
    {
      "cell_type": "code",
      "execution_count": null,
      "metadata": {
        "id": "n_KKLCGE0gtF"
      },
      "outputs": [],
      "source": [
        "config = open(fn_bear_comb_emos, \"r\")\n",
        "df_emos_bear = config.read().splitlines()\n",
        "config.close()"
      ]
    },
    {
      "cell_type": "code",
      "execution_count": null,
      "metadata": {
        "id": "e7xYlvAb0S1l"
      },
      "outputs": [],
      "source": [
        "config = open(fn_bull_comb_emos, \"r\")\n",
        "df_emos_bull = config.read().splitlines()\n",
        "config.close()"
      ]
    },
    {
      "cell_type": "code",
      "execution_count": null,
      "metadata": {
        "id": "ypGElmVeavTt"
      },
      "outputs": [],
      "source": [
        "config = open(fn_bear_sing_emos, \"r\")\n",
        "df_emos_bear_s = config.read().splitlines()\n",
        "config.close()"
      ]
    },
    {
      "cell_type": "code",
      "execution_count": null,
      "metadata": {
        "id": "xBtCE-toazaa"
      },
      "outputs": [],
      "source": [
        "config = open(fn_bull_sing_emos, \"r\")\n",
        "df_emos_bull_s = config.read().splitlines()\n",
        "config.close()"
      ]
    },
    {
      "cell_type": "code",
      "execution_count": null,
      "metadata": {
        "id": "hApZzFf_Ku3w"
      },
      "outputs": [],
      "source": [
        "df_probs_bear_1 = pd.read_csv(fn_pred_bear_single, names = ['prob'])\n",
        "df_probs_bull_1 = pd.read_csv(fn_pred_bull_single, names = ['prob'])"
      ]
    },
    {
      "cell_type": "code",
      "execution_count": null,
      "metadata": {
        "colab": {
          "base_uri": "https://localhost:8080/"
        },
        "id": "qLlDgsq9bSbQ",
        "outputId": "bd655400-d3ad-4783-cfdc-971c33e31f9e"
      },
      "outputs": [
        {
          "data": {
            "text/plain": [
              "prob    0.268993\n",
              "Name: 0, dtype: float64"
            ]
          },
          "execution_count": 22,
          "metadata": {},
          "output_type": "execute_result"
        }
      ],
      "source": [
        "df_probs_bear.iloc[0]"
      ]
    },
    {
      "cell_type": "code",
      "execution_count": null,
      "metadata": {
        "id": "2qizyTMl0xQx"
      },
      "outputs": [],
      "source": [
        "# df = df_probs_bear_1.values.copy()\n",
        "# df_e = df_emos_bear_s.copy()\n",
        "df = df_probs_bear.values.copy()\n",
        "df_e = df_emos_bear.copy()\n",
        "# df = df_probs_bull_1.values.copy()\n",
        "# df_e = df_emos_bull_s.copy()\n",
        "# df = df_probs_bull.values.copy()\n",
        "# df_e = df_emos_bull.copy()\n",
        "emos = []\n",
        "probs = []\n",
        "# prob_bench = 0.8\n",
        "# prob_bench = 0.9\n",
        "prob_bench = 0.6\n",
        "\n",
        "for ind, pr in enumerate(df):\n",
        "  if float(pr) > prob_bench:\n",
        "    emos.append(df_e[ind])\n",
        "    probs.append(float(pr))"
      ]
    },
    {
      "cell_type": "code",
      "execution_count": null,
      "metadata": {
        "id": "iT0nd5Dq3HvD"
      },
      "outputs": [],
      "source": [
        "df_probs = pd.DataFrame()\n",
        "df_probs['emoji(s)'] = emos\n",
        "df_probs['probs'] = probs"
      ]
    },
    {
      "cell_type": "code",
      "execution_count": null,
      "metadata": {
        "colab": {
          "base_uri": "https://localhost:8080/"
        },
        "id": "dPGp7PRHld-K",
        "outputId": "956f553b-c9d0-43d5-9457-1c0a9ea1886c"
      },
      "outputs": [
        {
          "data": {
            "text/plain": [
              "0.6000282715726675"
            ]
          },
          "execution_count": 40,
          "metadata": {},
          "output_type": "execute_result"
        }
      ],
      "source": [
        "min(df_bull_60p['probs'])"
      ]
    },
    {
      "cell_type": "code",
      "execution_count": null,
      "metadata": {
        "colab": {
          "base_uri": "https://localhost:8080/"
        },
        "id": "FX58VS5hmEfX",
        "outputId": "b4083140-158c-4975-fc18-bfae559b5abe"
      },
      "outputs": [
        {
          "data": {
            "text/plain": [
              "0.9856531626992"
            ]
          },
          "execution_count": 41,
          "metadata": {},
          "output_type": "execute_result"
        }
      ],
      "source": [
        "max(df_bull_60p['probs'])"
      ]
    },
    {
      "cell_type": "code",
      "execution_count": null,
      "metadata": {
        "id": "STajmSCz-N2t"
      },
      "outputs": [],
      "source": [
        "emos"
      ]
    },
    {
      "cell_type": "code",
      "execution_count": null,
      "metadata": {
        "id": "um2E4EoU3RBp"
      },
      "outputs": [],
      "source": [
        "df_bear_double = df_probs\n",
        "# df_bear_90p = df_probs\n",
        "# df_bear_9186p = df_probs\n",
        "# df_bear_9187p = df_probs"
      ]
    },
    {
      "cell_type": "code",
      "execution_count": null,
      "metadata": {
        "id": "Sgd_qSFhY47u"
      },
      "outputs": [],
      "source": [
        "# df_bear_single = df_probs\n",
        "df_bull_single = df_probs"
      ]
    },
    {
      "cell_type": "code",
      "execution_count": null,
      "metadata": {
        "id": "x0nIUl7X6zzx"
      },
      "outputs": [],
      "source": [
        "df_bull_double = df_probs\n",
        "# df_bull_90p = df_probs\n",
        "# df_bull_9029p = df_probs\n",
        "# df_bull_903p = df_probs\n",
        "# df_bull_91p = df_probs\n",
        "# df_bull_92p = df_probs\n",
        "# df_bull_93p = df_probs\n",
        "# df_bull_935p = df_probs\n",
        "# df_bull_94p = df_probs\n",
        "# df_bull_95p = df_probs\n",
        "# df_bull_96p = df_probs"
      ]
    },
    {
      "cell_type": "code",
      "execution_count": null,
      "metadata": {
        "id": "wZEWvuCu00Dv"
      },
      "outputs": [],
      "source": [
        "score_bull_double = df_bull_double['probs'] * 9 - 5"
      ]
    },
    {
      "cell_type": "code",
      "execution_count": null,
      "metadata": {
        "id": "88z310b81F3X"
      },
      "outputs": [],
      "source": [
        "score_bear_double = (-1)*(df_bear_double['probs'] * 9 - 5)"
      ]
    },
    {
      "cell_type": "code",
      "execution_count": null,
      "metadata": {
        "id": "4LCN0APt1QG_"
      },
      "outputs": [],
      "source": [
        "score_bull_single = df_bull_single['probs'] * 9 - 5"
      ]
    },
    {
      "cell_type": "code",
      "execution_count": null,
      "metadata": {
        "id": "gVcql5JX1PHJ"
      },
      "outputs": [],
      "source": [
        "score_bear_single = (-1)*(df_bear_single['probs'] * 9 - 5)"
      ]
    },
    {
      "cell_type": "code",
      "execution_count": null,
      "metadata": {
        "colab": {
          "base_uri": "https://localhost:8080/"
        },
        "id": "Cp594KhY07yE",
        "outputId": "2eca7c3b-1139-4fbe-f3b6-cd652ec610a3"
      },
      "outputs": [
        {
          "data": {
            "text/plain": [
              "0        1.579524\n",
              "1        2.453831\n",
              "2        2.510550\n",
              "3        3.125869\n",
              "4        1.874683\n",
              "           ...   \n",
              "14250    3.126093\n",
              "14251    3.125966\n",
              "14252    1.579496\n",
              "14253    1.579986\n",
              "14254    1.579703\n",
              "Name: probs, Length: 14255, dtype: float64"
            ]
          },
          "execution_count": 153,
          "metadata": {},
          "output_type": "execute_result"
        }
      ],
      "source": [
        "score_bull_double"
      ]
    },
    {
      "cell_type": "code",
      "execution_count": null,
      "metadata": {
        "id": "GlGyyRh20_E5"
      },
      "outputs": [],
      "source": [
        "# df_bull_double['score'] = score_bull_double\n",
        "# df_bull_single['score'] = score_bull_single\n",
        "df_bear_double['score'] = score_bear_double\n",
        "# df_bear_single['score'] = score_bear_single"
      ]
    },
    {
      "cell_type": "code",
      "execution_count": null,
      "metadata": {
        "id": "0vIOmpOq-9Z8"
      },
      "outputs": [],
      "source": [
        "df_bull_double = df_bull_double.copy()\n",
        "df_bull_single = df_bull_single.copy()\n",
        "df_bear_double = df_bear_double.copy()\n",
        "df_bear_single = df_bear_single.copy()"
      ]
    },
    {
      "cell_type": "code",
      "execution_count": null,
      "metadata": {
        "id": "D5DgiI3YZtkp"
      },
      "outputs": [],
      "source": [
        "df_bear_60p = df_bear_double.copy()"
      ]
    },
    {
      "cell_type": "code",
      "execution_count": null,
      "metadata": {
        "colab": {
          "base_uri": "https://localhost:8080/",
          "height": 2170
        },
        "id": "m47etHJbZwTx",
        "outputId": "2190b896-0b80-4152-c321-62164c9a6d39"
      },
      "outputs": [
        {
          "data": {
            "text/html": [
              "\n",
              "  <div id=\"df-625bc1fb-dcd1-4850-9793-9f1c8707f524\">\n",
              "    <div class=\"colab-df-container\">\n",
              "      <div>\n",
              "<style scoped>\n",
              "    .dataframe tbody tr th:only-of-type {\n",
              "        vertical-align: middle;\n",
              "    }\n",
              "\n",
              "    .dataframe tbody tr th {\n",
              "        vertical-align: top;\n",
              "    }\n",
              "\n",
              "    .dataframe thead th {\n",
              "        text-align: right;\n",
              "    }\n",
              "</style>\n",
              "<table border=\"1\" class=\"dataframe\">\n",
              "  <thead>\n",
              "    <tr style=\"text-align: right;\">\n",
              "      <th></th>\n",
              "      <th>emoji(s)</th>\n",
              "      <th>probs</th>\n",
              "    </tr>\n",
              "  </thead>\n",
              "  <tbody>\n",
              "    <tr>\n",
              "      <th>0</th>\n",
              "      <td>🩳</td>\n",
              "      <td>0.731058</td>\n",
              "    </tr>\n",
              "    <tr>\n",
              "      <th>1</th>\n",
              "      <td>🎅</td>\n",
              "      <td>0.731059</td>\n",
              "    </tr>\n",
              "    <tr>\n",
              "      <th>2</th>\n",
              "      <td>🪐</td>\n",
              "      <td>0.731066</td>\n",
              "    </tr>\n",
              "    <tr>\n",
              "      <th>3</th>\n",
              "      <td>🖤</td>\n",
              "      <td>0.731064</td>\n",
              "    </tr>\n",
              "    <tr>\n",
              "      <th>4</th>\n",
              "      <td>😊</td>\n",
              "      <td>0.731051</td>\n",
              "    </tr>\n",
              "    <tr>\n",
              "      <th>...</th>\n",
              "      <td>...</td>\n",
              "      <td>...</td>\n",
              "    </tr>\n",
              "    <tr>\n",
              "      <th>91</th>\n",
              "      <td>🍻</td>\n",
              "      <td>0.731106</td>\n",
              "    </tr>\n",
              "    <tr>\n",
              "      <th>92</th>\n",
              "      <td>💎</td>\n",
              "      <td>0.731072</td>\n",
              "    </tr>\n",
              "    <tr>\n",
              "      <th>93</th>\n",
              "      <td>🔐</td>\n",
              "      <td>0.731063</td>\n",
              "    </tr>\n",
              "    <tr>\n",
              "      <th>94</th>\n",
              "      <td>💯</td>\n",
              "      <td>0.731110</td>\n",
              "    </tr>\n",
              "    <tr>\n",
              "      <th>95</th>\n",
              "      <td>🐐</td>\n",
              "      <td>0.731078</td>\n",
              "    </tr>\n",
              "  </tbody>\n",
              "</table>\n",
              "<p>96 rows × 2 columns</p>\n",
              "</div>\n",
              "      <button class=\"colab-df-convert\" onclick=\"convertToInteractive('df-625bc1fb-dcd1-4850-9793-9f1c8707f524')\"\n",
              "              title=\"Convert this dataframe to an interactive table.\"\n",
              "              style=\"display:none;\">\n",
              "        \n",
              "  <svg xmlns=\"http://www.w3.org/2000/svg\" height=\"24px\"viewBox=\"0 0 24 24\"\n",
              "       width=\"24px\">\n",
              "    <path d=\"M0 0h24v24H0V0z\" fill=\"none\"/>\n",
              "    <path d=\"M18.56 5.44l.94 2.06.94-2.06 2.06-.94-2.06-.94-.94-2.06-.94 2.06-2.06.94zm-11 1L8.5 8.5l.94-2.06 2.06-.94-2.06-.94L8.5 2.5l-.94 2.06-2.06.94zm10 10l.94 2.06.94-2.06 2.06-.94-2.06-.94-.94-2.06-.94 2.06-2.06.94z\"/><path d=\"M17.41 7.96l-1.37-1.37c-.4-.4-.92-.59-1.43-.59-.52 0-1.04.2-1.43.59L10.3 9.45l-7.72 7.72c-.78.78-.78 2.05 0 2.83L4 21.41c.39.39.9.59 1.41.59.51 0 1.02-.2 1.41-.59l7.78-7.78 2.81-2.81c.8-.78.8-2.07 0-2.86zM5.41 20L4 18.59l7.72-7.72 1.47 1.35L5.41 20z\"/>\n",
              "  </svg>\n",
              "      </button>\n",
              "      \n",
              "  <style>\n",
              "    .colab-df-container {\n",
              "      display:flex;\n",
              "      flex-wrap:wrap;\n",
              "      gap: 12px;\n",
              "    }\n",
              "\n",
              "    .colab-df-convert {\n",
              "      background-color: #E8F0FE;\n",
              "      border: none;\n",
              "      border-radius: 50%;\n",
              "      cursor: pointer;\n",
              "      display: none;\n",
              "      fill: #1967D2;\n",
              "      height: 32px;\n",
              "      padding: 0 0 0 0;\n",
              "      width: 32px;\n",
              "    }\n",
              "\n",
              "    .colab-df-convert:hover {\n",
              "      background-color: #E2EBFA;\n",
              "      box-shadow: 0px 1px 2px rgba(60, 64, 67, 0.3), 0px 1px 3px 1px rgba(60, 64, 67, 0.15);\n",
              "      fill: #174EA6;\n",
              "    }\n",
              "\n",
              "    [theme=dark] .colab-df-convert {\n",
              "      background-color: #3B4455;\n",
              "      fill: #D2E3FC;\n",
              "    }\n",
              "\n",
              "    [theme=dark] .colab-df-convert:hover {\n",
              "      background-color: #434B5C;\n",
              "      box-shadow: 0px 1px 3px 1px rgba(0, 0, 0, 0.15);\n",
              "      filter: drop-shadow(0px 1px 2px rgba(0, 0, 0, 0.3));\n",
              "      fill: #FFFFFF;\n",
              "    }\n",
              "  </style>\n",
              "\n",
              "      <script>\n",
              "        const buttonEl =\n",
              "          document.querySelector('#df-625bc1fb-dcd1-4850-9793-9f1c8707f524 button.colab-df-convert');\n",
              "        buttonEl.style.display =\n",
              "          google.colab.kernel.accessAllowed ? 'block' : 'none';\n",
              "\n",
              "        async function convertToInteractive(key) {\n",
              "          const element = document.querySelector('#df-625bc1fb-dcd1-4850-9793-9f1c8707f524');\n",
              "          const dataTable =\n",
              "            await google.colab.kernel.invokeFunction('convertToInteractive',\n",
              "                                                     [key], {});\n",
              "          if (!dataTable) return;\n",
              "\n",
              "          const docLinkHtml = 'Like what you see? Visit the ' +\n",
              "            '<a target=\"_blank\" href=https://colab.research.google.com/notebooks/data_table.ipynb>data table notebook</a>'\n",
              "            + ' to learn more about interactive tables.';\n",
              "          element.innerHTML = '';\n",
              "          dataTable['output_type'] = 'display_data';\n",
              "          await google.colab.output.renderOutput(dataTable, element);\n",
              "          const docLink = document.createElement('div');\n",
              "          docLink.innerHTML = docLinkHtml;\n",
              "          element.appendChild(docLink);\n",
              "        }\n",
              "      </script>\n",
              "    </div>\n",
              "  </div>\n",
              "  "
            ],
            "text/plain": [
              "   emoji(s)     probs\n",
              "0         🩳  0.731058\n",
              "1         🎅  0.731059\n",
              "2         🪐  0.731066\n",
              "3         🖤  0.731064\n",
              "4         😊  0.731051\n",
              "..      ...       ...\n",
              "91        🍻  0.731106\n",
              "92        💎  0.731072\n",
              "93        🔐  0.731063\n",
              "94        💯  0.731110\n",
              "95        🐐  0.731078\n",
              "\n",
              "[96 rows x 2 columns]"
            ]
          },
          "execution_count": 235,
          "metadata": {},
          "output_type": "execute_result"
        }
      ],
      "source": [
        "df_bull_single"
      ]
    },
    {
      "cell_type": "code",
      "execution_count": null,
      "metadata": {
        "id": "GFMD0n8-aulk"
      },
      "outputs": [],
      "source": [
        "# df = df_bull_single\n",
        "# df2 = df_bear_single\n",
        "df2 = df_bear_60p\n",
        "df = df_bull_60p"
      ]
    },
    {
      "cell_type": "code",
      "execution_count": null,
      "metadata": {
        "id": "1YghCTZmbR_4"
      },
      "outputs": [],
      "source": [
        "df2 = df2.drop(4)\n",
        "df2 = df2.drop(25)\n",
        "df = df.drop(6)\n",
        "df = df.drop(30)"
      ]
    },
    {
      "cell_type": "code",
      "execution_count": null,
      "metadata": {
        "id": "wiXI8hu1blgw"
      },
      "outputs": [],
      "source": [
        "# df_bull_single = df\n",
        "# df_bear_single = df2\n",
        "df_bull_double = df\n",
        "df_bear_double = df2"
      ]
    },
    {
      "cell_type": "code",
      "execution_count": null,
      "metadata": {
        "colab": {
          "base_uri": "https://localhost:8080/",
          "height": 36
        },
        "id": "axu605vXebTc",
        "outputId": "71d45cc2-4772-4e21-f683-5ad9bfd01d55"
      },
      "outputs": [
        {
          "data": {
            "application/vnd.google.colaboratory.intrinsic+json": {
              "type": "string"
            },
            "text/plain": [
              "'/content/drive/MyDrive/Data_Thesis_Temp/SA_files/emoji-classifier/Crypto-Emoji-Lexicon/'"
            ]
          },
          "execution_count": 274,
          "metadata": {},
          "output_type": "execute_result"
        }
      ],
      "source": [
        "path_lexi"
      ]
    },
    {
      "cell_type": "code",
      "execution_count": null,
      "metadata": {
        "colab": {
          "base_uri": "https://localhost:8080/"
        },
        "id": "Pj4HvNjGcZDW",
        "outputId": "93f482d3-fdb2-4476-d90b-128db4ae9847"
      },
      "outputs": [
        {
          "data": {
            "text/plain": [
              "False    13308\n",
              "True       947\n",
              "Name: emoji(s), dtype: int64"
            ]
          },
          "execution_count": 45,
          "metadata": {},
          "output_type": "execute_result"
        }
      ],
      "source": [
        "df['emoji(s)'].isin(df2['emoji(s)']).value_counts()"
      ]
    },
    {
      "cell_type": "code",
      "execution_count": null,
      "metadata": {
        "colab": {
          "base_uri": "https://localhost:8080/",
          "height": 36
        },
        "id": "WqiEJFNfhNQ5",
        "outputId": "feda95b5-2842-4c8c-b45c-48f5a807ed0f"
      },
      "outputs": [
        {
          "data": {
            "application/vnd.google.colaboratory.intrinsic+json": {
              "type": "string"
            },
            "text/plain": [
              "'/content/drive/MyDrive/Data_Thesis_Temp/SA_files/emoji-classifier/Crypto-Emoji-Lexicon/emoji-lexi-bull.xlsx'"
            ]
          },
          "execution_count": 292,
          "metadata": {},
          "output_type": "execute_result"
        }
      ],
      "source": [
        "fn_lexi_bull"
      ]
    },
    {
      "cell_type": "code",
      "execution_count": null,
      "metadata": {
        "id": "hxJDXf6ZewOx"
      },
      "outputs": [],
      "source": [
        "# import xlsxwriter\n",
        "# writer = pd.ExcelWriter(fn_lexi_bear, engine='xlsxwriter')\n",
        "\n",
        "# df_bear_single.to_excel(writer, sheet_name='Singles_bear')\n",
        "# df_bear_double.to_excel(writer, sheet_name='Doubles_bear')\n"
      ]
    },
    {
      "cell_type": "code",
      "execution_count": null,
      "metadata": {
        "id": "JdtPzuVSgvfx"
      },
      "outputs": [],
      "source": [
        "# writer = pd.ExcelWriter(fn_lexi_bull, engine='xlsxwriter')\n",
        "# df_bull_single.to_excel(writer, sheet_name='Singles_bull')\n",
        "# df_bull_double.to_excel(writer, sheet_name='Doubles_bull')"
      ]
    },
    {
      "cell_type": "code",
      "execution_count": null,
      "metadata": {
        "id": "Il7En-bjefdx"
      },
      "outputs": [],
      "source": [
        "path_lexi = path + 'Crypto-Emoji-Lexicon/'\n",
        "fn_lexi_bear_single = path_lexi + 'emoji-lexi-bear-single.txt'\n",
        "fn_lexi_bear_double = path_lexi + 'emoji-lexi-bear-double.txt'\n",
        "fn_lexi_bull_single = path_lexi + 'emoji-lexi-bull-single.txt'\n",
        "fn_lexi_bull_double = path_lexi + 'emoji-lexi-bull-double.txt'"
      ]
    },
    {
      "cell_type": "code",
      "execution_count": null,
      "metadata": {
        "id": "EyMip9N2hpWf"
      },
      "outputs": [],
      "source": [
        "fn_save = fn_lexi_bear_single\n",
        "df_save = df_bear_single['emoji(s)']\n",
        "with open(fn_save, 'w') as fp:\n",
        "    for item in df_save:\n",
        "        # write each item on a new line\n",
        "        fp.write(\"%s\\n\" % item)\n",
        "fn_save = fn_lexi_bear_double\n",
        "df_save = df_bear_double['emoji(s)']\n",
        "with open(fn_save, 'w') as fp:\n",
        "    for item in df_save:\n",
        "        # write each item on a new line\n",
        "        fp.write(\"%s\\n\" % item)\n",
        "fn_save = fn_lexi_bull_single\n",
        "df_save = df_bull_single['emoji(s)']\n",
        "with open(fn_save, 'w') as fp:\n",
        "    for item in df_save:\n",
        "        # write each item on a new line\n",
        "        fp.write(\"%s\\n\" % item)\n",
        "fn_save = fn_lexi_bull_double\n",
        "df_save = df_bull_double['emoji(s)']\n",
        "with open(fn_save, 'w') as fp:\n",
        "    for item in df_save:\n",
        "        # write each item on a new line\n",
        "        fp.write(\"%s\\n\" % item)"
      ]
    },
    {
      "cell_type": "code",
      "execution_count": null,
      "metadata": {
        "id": "xGFw5548dmb_"
      },
      "outputs": [],
      "source": [
        "for line in df2['emoji(s)']:\n",
        "  print(line)"
      ]
    },
    {
      "cell_type": "code",
      "execution_count": null,
      "metadata": {
        "id": "vEDlBgaWcnny"
      },
      "outputs": [],
      "source": [
        "df2"
      ]
    },
    {
      "cell_type": "code",
      "execution_count": null,
      "metadata": {
        "id": "qOVmkFkLciW8"
      },
      "outputs": [],
      "source": [
        "df"
      ]
    },
    {
      "cell_type": "code",
      "execution_count": null,
      "metadata": {
        "id": "0P2Iz_Ydatau"
      },
      "outputs": [],
      "source": [
        "pd.DataFrame(df['emoji(s)'].isin(df2['emoji(s)']))"
      ]
    },
    {
      "cell_type": "code",
      "execution_count": null,
      "metadata": {
        "id": "vFC3pKwdaSGj"
      },
      "outputs": [],
      "source": [
        "df_bull_single.where(df_bull_single['emoji(s)'].values==df_bear_single['emoji(s)'].values).notna()"
      ]
    },
    {
      "cell_type": "code",
      "execution_count": null,
      "metadata": {
        "colab": {
          "base_uri": "https://localhost:8080/"
        },
        "id": "CQOp6IQ3Ccz4",
        "outputId": "2a4b4a62-4eb1-4480-aa92-fa62bc0f80a7"
      },
      "outputs": [
        {
          "name": "stdout",
          "output_type": "stream",
          "text": [
            "Looking in indexes: https://pypi.org/simple, https://us-python.pkg.dev/colab-wheels/public/simple/\n",
            "Collecting xlsxwriter\n",
            "  Downloading XlsxWriter-3.0.3-py3-none-any.whl (149 kB)\n",
            "\u001b[?25l\r\u001b[K     |██▏                             | 10 kB 28.7 MB/s eta 0:00:01\r\u001b[K     |████▍                           | 20 kB 9.2 MB/s eta 0:00:01\r\u001b[K     |██████▌                         | 30 kB 7.6 MB/s eta 0:00:01\r\u001b[K     |████████▊                       | 40 kB 3.5 MB/s eta 0:00:01\r\u001b[K     |███████████                     | 51 kB 3.6 MB/s eta 0:00:01\r\u001b[K     |█████████████                   | 61 kB 4.2 MB/s eta 0:00:01\r\u001b[K     |███████████████▎                | 71 kB 4.4 MB/s eta 0:00:01\r\u001b[K     |█████████████████▌              | 81 kB 4.4 MB/s eta 0:00:01\r\u001b[K     |███████████████████▋            | 92 kB 4.9 MB/s eta 0:00:01\r\u001b[K     |█████████████████████▉          | 102 kB 4.2 MB/s eta 0:00:01\r\u001b[K     |████████████████████████        | 112 kB 4.2 MB/s eta 0:00:01\r\u001b[K     |██████████████████████████▏     | 122 kB 4.2 MB/s eta 0:00:01\r\u001b[K     |████████████████████████████▍   | 133 kB 4.2 MB/s eta 0:00:01\r\u001b[K     |██████████████████████████████▋ | 143 kB 4.2 MB/s eta 0:00:01\r\u001b[K     |████████████████████████████████| 149 kB 4.2 MB/s \n",
            "\u001b[?25hInstalling collected packages: xlsxwriter\n",
            "Successfully installed xlsxwriter-3.0.3\n"
          ]
        }
      ],
      "source": [
        "!pip install xlsxwriter"
      ]
    },
    {
      "cell_type": "code",
      "execution_count": null,
      "metadata": {
        "id": "8G4I__CWZDHR"
      },
      "outputs": [],
      "source": [
        "import xlsxwriter\n",
        "fn_lex_singles = path + 'emoji_lexicon_singles.xlsx'\n",
        "writer = pd.ExcelWriter(fn_lex_singles, engine='xlsxwriter')\n",
        "\n",
        "df_bear_80p.to_excel(writer, sheet_name='Singles_bear')\n",
        "df_bear_90p.to_excel(writer, sheet_name='Singles_bull')"
      ]
    },
    {
      "cell_type": "code",
      "execution_count": null,
      "metadata": {
        "id": "twr5O0_p-exI"
      },
      "outputs": [],
      "source": [
        "import xlsxwriter\n",
        "fn_lex_bear_emos = path + 'emoji_lexicon_bear_doubles.xlsx'\n",
        "writer = pd.ExcelWriter(fn_lex_bear_emos, engine='xlsxwriter')\n",
        "\n",
        "df_bear_80p.to_excel(writer, sheet_name='Bear_double_80p')\n",
        "df_bear_90p.to_excel(writer, sheet_name='Bear_double_90p')\n",
        "df_bear_9187p.to_excel(writer, sheet_name='Bear_double_9187p')"
      ]
    },
    {
      "cell_type": "code",
      "execution_count": null,
      "metadata": {
        "id": "RoiIxORA_hBt"
      },
      "outputs": [],
      "source": [
        "for emma in df_bull_9029p['emoji(s)']:\n",
        "  dup = emma.encode('unicode-escape')\n",
        "  dupa = dup.decode('unicode-escape')\n",
        "  print(dup)\n",
        "  print(dupa)"
      ]
    },
    {
      "cell_type": "code",
      "execution_count": null,
      "metadata": {
        "id": "d92thC_RC4wI"
      },
      "outputs": [],
      "source": [
        "import xlsxwriter\n",
        "fn_lex_bull_emos = path + 'emoji_lexicon_bull_doubles.xlsx'\n",
        "writer = pd.ExcelWriter(fn_lex_bull_emos, engine='xlsxwriter')\n",
        "\n",
        "df_bull_90p.to_excel(writer, sheet_name='Bull_double_90p')\n",
        "df_bull_9029p.to_excel(writer, sheet_name='Bull_double_9029p')\n",
        "df_bull_903p.to_excel(writer, sheet_name='Bull_double_903p')\n",
        "df_bull_91p.to_excel(writer, sheet_name='Bull_double_91p')\n",
        "df_bull_92p.to_excel(writer, sheet_name='Bull_double_92p')\n",
        "df_bull_93p.to_excel(writer, sheet_name='Bull_double_93p')\n",
        "df_bull_935p.to_excel(writer, sheet_name='Bull_double_935p')\n",
        "df_bull_94p.to_excel(writer, sheet_name='Bull_double_94p')\n",
        "df_bull_95p.to_excel(writer, sheet_name='Bull_double_95p')\n",
        "df_bull_96p.to_excel(writer, sheet_name='Bull_double_96p')"
      ]
    },
    {
      "cell_type": "markdown",
      "metadata": {
        "id": "cx1lWRU0ioen"
      },
      "source": [
        "### Fix Unicode encoding issues with some of the emojis"
      ]
    },
    {
      "cell_type": "code",
      "execution_count": null,
      "metadata": {
        "id": "e8InR6ee6iUS"
      },
      "outputs": [],
      "source": [
        "df_bear_double = df_bear_60p.copy()\n",
        "# df_bull_double = df_bull_60p"
      ]
    },
    {
      "cell_type": "code",
      "execution_count": null,
      "metadata": {
        "id": "JKEtvqi1isbP"
      },
      "outputs": [],
      "source": [
        "df_p1 = df_bear_single['emoji(s)']\n",
        "df_p2 = df_bear_double['emoji(s)']\n",
        "df_n1 = df_bull_single['emoji(s)']\n",
        "df_n2 = df_bull_double['emoji(s)']"
      ]
    },
    {
      "cell_type": "code",
      "execution_count": null,
      "metadata": {
        "id": "6GLhBu6QjBpK"
      },
      "outputs": [],
      "source": [
        "pd.DataFrame(df_p2)"
      ]
    },
    {
      "cell_type": "code",
      "execution_count": null,
      "metadata": {
        "id": "C8Vn-tt2puU9"
      },
      "outputs": [],
      "source": [
        "pd.DataFrame(df_temp)"
      ]
    },
    {
      "cell_type": "code",
      "execution_count": null,
      "metadata": {
        "id": "C_wwq4AsjMa2"
      },
      "outputs": [],
      "source": [
        "df_temp = df_p2\n",
        "new_df = []\n",
        "for ind, line in enumerate(df_temp):\n",
        "  for item in line:\n",
        "    print(len(line))\n",
        "    print(len(item))"
      ]
    },
    {
      "cell_type": "code",
      "execution_count": null,
      "metadata": {
        "id": "8eH_YZua6vEa"
      },
      "outputs": [],
      "source": [
        "df_p1 = df_temp"
      ]
    },
    {
      "cell_type": "code",
      "execution_count": null,
      "metadata": {
        "colab": {
          "base_uri": "https://localhost:8080/",
          "height": 36
        },
        "id": "eF3_ZQPT7HDM",
        "outputId": "0f8018df-de9a-40d8-e8fc-bf87135d7816"
      },
      "outputs": [
        {
          "data": {
            "application/vnd.google.colaboratory.intrinsic+json": {
              "type": "string"
            },
            "text/plain": [
              "'😐'"
            ]
          },
          "execution_count": 61,
          "metadata": {},
          "output_type": "execute_result"
        }
      ],
      "source": [
        "df_p1[1][0]"
      ]
    },
    {
      "cell_type": "markdown",
      "metadata": {
        "id": "9ahNJbV4_hl8"
      },
      "source": [
        "### Change emojis from string to list of emojis (remove issues)"
      ]
    },
    {
      "cell_type": "code",
      "execution_count": null,
      "metadata": {
        "id": "PdXZLA2T_l4f"
      },
      "outputs": [],
      "source": [
        "# df_n1 = df_bear_single['emoji(s)'].copy()\n",
        "df_n2 = df_bear_double['emoji(s)'].copy()\n",
        "# df_p1 = df_bull_single['emoji(s)'].copy()\n",
        "# df_p2 = df_bull_double['emoji(s)'].copy()"
      ]
    },
    {
      "cell_type": "code",
      "execution_count": null,
      "metadata": {
        "id": "cZqd5sIZpmwn"
      },
      "outputs": [],
      "source": [
        "import regex\n",
        "df_temp = df_n2\n",
        "# new_df = []\n",
        "df_temp = df_temp.replace(r'[(]', '', regex = True)\n",
        "df_temp = df_temp.replace(r'[)]', '', regex = True)\n",
        "df_temp = df_temp.replace(r'[ ]', '', regex = True)\n",
        "df_temp = df_temp.replace(r'\\'', '', regex = True)\n",
        "for ind, line in enumerate(df_temp):\n",
        "  line = line.split(',')\n",
        "  df_temp[ind] = line\n",
        "# for ind, line in enumerate(df_temp):\n",
        "#   # for it_ind, it in enumerate(line):\n",
        "#   # print(it)\n",
        "#   df_temp[ind] = re.sub('[)]', '', line)\n",
        "#   df_temp[ind] = re.sub('[(]', '', line)\n",
        "#   df_temp[ind] = re.sub('[ ]', '', line)\n",
        "#   df_temp[ind]= re.sub('[\\']', '', line)\n",
        "#   print(df_temp[ind])\n",
        "    # it.replace('[\\']', '').replace('[\\)]', '').replace('[\\(]', '')"
      ]
    },
    {
      "cell_type": "code",
      "execution_count": null,
      "metadata": {
        "colab": {
          "base_uri": "https://localhost:8080/",
          "height": 36
        },
        "id": "59Rlp3_uAa97",
        "outputId": "2be878aa-eceb-45db-c81b-ea4dd149a282"
      },
      "outputs": [
        {
          "data": {
            "application/vnd.google.colaboratory.intrinsic+json": {
              "type": "string"
            },
            "text/plain": [
              "'\\\\U0001fa73'"
            ]
          },
          "execution_count": 253,
          "metadata": {},
          "output_type": "execute_result"
        }
      ],
      "source": [
        "df_temp[0][0]"
      ]
    },
    {
      "cell_type": "code",
      "execution_count": null,
      "metadata": {
        "id": "UnvH3gnmArRh"
      },
      "outputs": [],
      "source": [
        "columns = ['emoji_1', 'emoji_2']\n",
        "\n",
        "df_emo = pd.DataFrame([[a,*b] for a,*b in df_temp.values], columns=columns)"
      ]
    },
    {
      "cell_type": "code",
      "execution_count": null,
      "metadata": {
        "id": "gH8_xM7aCQKu"
      },
      "outputs": [],
      "source": [
        "df_temp = df_bear_double.copy()"
      ]
    },
    {
      "cell_type": "code",
      "execution_count": null,
      "metadata": {
        "id": "mMS-aueGFh5K"
      },
      "outputs": [],
      "source": [
        "df_bear_double = df_temp.copy()"
      ]
    },
    {
      "cell_type": "code",
      "execution_count": null,
      "metadata": {
        "id": "Fdihc1hMCfVa"
      },
      "outputs": [],
      "source": [
        "# df_bull_double = df_bull_60p.copy()"
      ]
    },
    {
      "cell_type": "code",
      "execution_count": null,
      "metadata": {
        "id": "QyvTk6OVBHZj"
      },
      "outputs": [],
      "source": [
        "# df_emo = df_emo.copy()\n",
        "# df_bull_double = df_bull_double.append(df_emo, ignore_index = True)\n",
        "# df_bull_double = df_bull_double.drop(columns = 'emoji(s)')"
      ]
    },
    {
      "cell_type": "code",
      "execution_count": null,
      "metadata": {
        "id": "1Yqo7B3eFcD7"
      },
      "outputs": [],
      "source": [
        "df_emo = df_emo.copy()\n",
        "# df_bear_double = df_bear_double.append(df_emo, ignore_index = True)\n",
        "# df_bear_double = df_bear_double.drop(columns = 'emoji(s)')"
      ]
    },
    {
      "cell_type": "code",
      "execution_count": null,
      "metadata": {
        "id": "Ppsp2cKLD82K"
      },
      "outputs": [],
      "source": [
        "df_new = pd.concat((df_emo, df_bear_double), axis = 1)"
      ]
    },
    {
      "cell_type": "code",
      "execution_count": null,
      "metadata": {
        "id": "nQSlo0bGEHKI"
      },
      "outputs": [],
      "source": [
        "df_new = df_new.drop(columns = 'emoji(s)')"
      ]
    },
    {
      "cell_type": "code",
      "execution_count": null,
      "metadata": {
        "id": "qfMphSDeB288"
      },
      "outputs": [],
      "source": [
        "df_bear_double = df_new.copy()\n",
        "# df_bull_double = df_new.copy()"
      ]
    },
    {
      "cell_type": "markdown",
      "metadata": {
        "id": "czbN8H6dGARm"
      },
      "source": [
        "### Save the resulting emoji lexicon"
      ]
    },
    {
      "cell_type": "code",
      "execution_count": null,
      "metadata": {
        "id": "ETYOCfGvGMjU"
      },
      "outputs": [],
      "source": [
        "path_lexi = '/content/drive/MyDrive/Data_Thesis_Temp/SA_files/'"
      ]
    },
    {
      "cell_type": "code",
      "execution_count": null,
      "metadata": {
        "id": "K5b1PUldFt2V"
      },
      "outputs": [],
      "source": [
        "import xlsxwriter\n",
        "fn_lex_bull_emos = path_lexi + 'emoji-lexicon-scored.xlsx'\n",
        "with pd.ExcelWriter(fn_lex_bull_emos, engine='xlsxwriter') as writer:\n",
        "  df_bear_double.to_excel(writer, sheet_name='bear-double')\n",
        "  df_bear_single.to_excel(writer, sheet_name='bear-single')\n",
        "  df_bull_double.to_excel(writer, sheet_name='bull-double')\n",
        "  df_bull_single.to_excel(writer, sheet_name='bull-single')"
      ]
    },
    {
      "cell_type": "code",
      "execution_count": null,
      "metadata": {
        "colab": {
          "base_uri": "https://localhost:8080/",
          "height": 54
        },
        "id": "WOOQHB_4HZAW",
        "outputId": "93da3cab-5d35-40dd-aa45-0312ada853fc"
      },
      "outputs": [
        {
          "data": {
            "application/vnd.google.colaboratory.intrinsic+json": {
              "type": "string"
            },
            "text/plain": [
              "'/content/drive/MyDrive/Data_Thesis_Temp/SA_files/emoji-classifier/Crypto-Emoji-Lexicon/lex-miko/emoji_lexicon_scored.xlsx'"
            ]
          },
          "execution_count": 269,
          "metadata": {},
          "output_type": "execute_result"
        }
      ],
      "source": [
        "fn_lex_bull_emos"
      ]
    },
    {
      "cell_type": "code",
      "execution_count": null,
      "metadata": {
        "colab": {
          "base_uri": "https://localhost:8080/"
        },
        "id": "mtF9llQD33rb",
        "outputId": "e56128f5-2298-4b92-bdbf-586dea8c3a79"
      },
      "outputs": [
        {
          "name": "stderr",
          "output_type": "stream",
          "text": [
            "/usr/local/lib/python3.7/dist-packages/ipykernel_launcher.py:6: SettingWithCopyWarning: \n",
            "A value is trying to be set on a copy of a slice from a DataFrame\n",
            "\n",
            "See the caveats in the documentation: https://pandas.pydata.org/pandas-docs/stable/user_guide/indexing.html#returning-a-view-versus-a-copy\n",
            "  \n"
          ]
        }
      ],
      "source": [
        "df_temp = df_p1\n",
        "# new_df = []\n",
        "\n",
        "for ind, line in enumerate(df_temp):\n",
        "  line = line.split(',')\n",
        "  df_temp[ind] = line"
      ]
    },
    {
      "cell_type": "code",
      "execution_count": null,
      "metadata": {
        "colab": {
          "base_uri": "https://localhost:8080/"
        },
        "id": "gHTG92Vu7rct",
        "outputId": "17fe44b0-9086-492d-ea14-e198718b66aa"
      },
      "outputs": [
        {
          "data": {
            "text/plain": [
              "['(\\\\U0001fa73', '🚩)']"
            ]
          },
          "execution_count": 102,
          "metadata": {},
          "output_type": "execute_result"
        }
      ],
      "source": [
        "df_temp[5]"
      ]
    },
    {
      "cell_type": "code",
      "execution_count": null,
      "metadata": {
        "id": "y3noRGnm7QnA"
      },
      "outputs": [],
      "source": [
        "df_p2 = df_temp"
      ]
    },
    {
      "cell_type": "code",
      "execution_count": null,
      "metadata": {
        "id": "-Wy-T7PJzvru"
      },
      "outputs": [],
      "source": [
        "dup = '\\\\U0001fa78'\n",
        "dupa = re.sub(\"[\\\\\\\\\\\\\\\\]\", \"\\\\\\\\\", dup)"
      ]
    },
    {
      "cell_type": "code",
      "execution_count": null,
      "metadata": {
        "colab": {
          "base_uri": "https://localhost:8080/"
        },
        "id": "UdGN6q7L2w5h",
        "outputId": "50d28f54-165f-4439-ad81-b2f1dbf1f468"
      },
      "outputs": [
        {
          "name": "stdout",
          "output_type": "stream",
          "text": [
            "\\U0001fa78\n"
          ]
        }
      ],
      "source": [
        "print(dupa)"
      ]
    },
    {
      "cell_type": "code",
      "execution_count": null,
      "metadata": {
        "id": "qrin7kxK2ARf"
      },
      "outputs": [],
      "source": [
        "dup = dup.replace('\\\\','*')\n",
        "dup = dup.replace('*', '\\\\')"
      ]
    },
    {
      "cell_type": "code",
      "execution_count": null,
      "metadata": {
        "id": "AZiMJh9k2a5O"
      },
      "outputs": [],
      "source": []
    },
    {
      "cell_type": "code",
      "execution_count": null,
      "metadata": {
        "id": "b4mHIo0Wvo-K"
      },
      "outputs": [],
      "source": [
        "df_left = []\n",
        "df_right = []\n",
        "for line in df_temp:\n",
        "  line[0] = re.sub('[)]', '', line[0])\n",
        "  line[0] = re.sub('[(]', '', line[0])\n",
        "  line[0] = re.sub('[ ]', '', line[0])\n",
        "  line[0] = re.sub('\"', '', line[0])\n",
        "  line[0] = re.sub('\\'', '', line[0])\n",
        "  line[1] = re.sub('[)]', '', line[1])\n",
        "  line[1] = re.sub('[(]', '', line[1])\n",
        "  line[1] = re.sub('[ ]', '', line[1])\n",
        "  line[1] = re.sub('\"', '', line[1])\n",
        "  line[1] = re.sub('\\'', '', line[1])\n",
        "  df_left.append(line[0])\n",
        "  df_right.append(line[1])"
      ]
    },
    {
      "cell_type": "code",
      "execution_count": null,
      "metadata": {
        "id": "TGrdX9IC42oz"
      },
      "outputs": [],
      "source": [
        "df_l = []\n",
        "df_r = []\n",
        "for line in df_left:\n",
        "  line = line.split(',')\n",
        "  line = line[0]\n",
        "  df_l.append(line)\n",
        "for line in df_right:\n",
        "  line = line.split(',')\n",
        "  line = line[0]\n",
        "  df_r.append(line)"
      ]
    },
    {
      "cell_type": "markdown",
      "metadata": {
        "id": "S1fnfIWvIj2u"
      },
      "source": [
        "### Remove duplicates among emoji arrays"
      ]
    },
    {
      "cell_type": "code",
      "execution_count": null,
      "metadata": {
        "id": "LUGlDCpm3fHB"
      },
      "outputs": [],
      "source": [
        "df_bear_e = df_bear_double.copy()"
      ]
    },
    {
      "cell_type": "code",
      "execution_count": null,
      "metadata": {
        "id": "F3IjzW0E3weL"
      },
      "outputs": [],
      "source": [
        "df_bull_e = df_bull_double.copy()"
      ]
    },
    {
      "cell_type": "code",
      "execution_count": null,
      "metadata": {
        "id": "ZODz7DcuIh26"
      },
      "outputs": [],
      "source": []
    },
    {
      "cell_type": "code",
      "execution_count": null,
      "metadata": {
        "id": "jxSQNDMU8BAQ"
      },
      "outputs": [],
      "source": [
        "arr1 = df_bear_e.iloc[:,0:2].copy()\n",
        "arr2 = df_bull_e.iloc[:,0:2].copy()"
      ]
    },
    {
      "cell_type": "code",
      "execution_count": null,
      "metadata": {
        "id": "UkLd_5hD8qpF"
      },
      "outputs": [],
      "source": [
        "n = min(len(arr1), len(arr2))\n",
        "out_idx = np.flatnonzero(arr1[:n] == arr2[:n])\n",
        "out_val = arr1[out_idx]"
      ]
    },
    {
      "cell_type": "code",
      "execution_count": null,
      "metadata": {
        "id": "vv4On9PmKMYC"
      },
      "outputs": [],
      "source": [
        "df_bear_e = df_bear_e.reset_index().iloc[:,1:]"
      ]
    },
    {
      "cell_type": "code",
      "execution_count": null,
      "metadata": {
        "id": "TSeBd-iEKagw"
      },
      "outputs": [],
      "source": [
        "df_bull_e = df_bull_e.reset_index().iloc[:,1:]"
      ]
    },
    {
      "cell_type": "code",
      "execution_count": null,
      "metadata": {
        "id": "bl8khwRFJlXR"
      },
      "outputs": [],
      "source": [
        "# from operator import index\n",
        "def compare_arrays_e(df_bear, df_bull):\n",
        "  out_bear = pd.DataFrame()\n",
        "  out_bull = pd.DataFrame()\n",
        "  emos_bear = df_bear.iloc[:,0:2].copy()\n",
        "  emos_bull = df_bull.iloc[:,0:2].copy()\n",
        "  dups = 0\n",
        "  for ind_bear, line_bear in enumerate(df_bear):\n",
        "    for ind_bull, line_bull in enumerate(df_bull):\n",
        "      booly = True\n",
        "      if (line_bear[0]==line_bull[0] and line_bear[1]==line_bull[1]):\n",
        "        booly = False\n",
        "        dups +=1\n",
        "      elif (line_bear[0]==line_bull[1] and line_bear[1]==line_bull[0]):\n",
        "        booly = False\n",
        "        dups +=1\n",
        "      if booly:\n",
        "        out_bear = out_bear.append(df_bear.iloc[ind_bear, :])\n",
        "        out_bull = out_bull.append(df_bull.iloc[ind_bull, :])\n",
        "        print(line_bear)\n",
        "      # if not booly:\n",
        "      #   print(line_bear)\n",
        "      #   print(line_bull)\n",
        "  print(dups)\n",
        "  return out_bear, out_bull"
      ]
    },
    {
      "cell_type": "code",
      "execution_count": null,
      "metadata": {
        "colab": {
          "base_uri": "https://localhost:8080/"
        },
        "id": "e8xW6G2hJ-o_",
        "outputId": "c6dd14fc-8678-4aa7-98ce-385e63c4fb52"
      },
      "outputs": [
        {
          "name": "stdout",
          "output_type": "stream",
          "text": [
            "emoji_1\n",
            "emoji_1\n",
            "emoji_2\n",
            "emoji_2\n",
            "probs\n",
            "probs\n",
            "probs\n",
            "score\n",
            "score\n",
            "score\n",
            "6\n"
          ]
        }
      ],
      "source": [
        "new_bear, new_bull = compare_arrays_e(df_bear_e, df_bull_e)"
      ]
    },
    {
      "cell_type": "code",
      "execution_count": null,
      "metadata": {
        "id": "Cn6YPxE1NzDW"
      },
      "outputs": [],
      "source": [
        "# test_1 = df_bear_e.iloc[6:10,:2]\n",
        "# test_2 = df_bear_e.iloc[3:11,:2]"
      ]
    },
    {
      "cell_type": "code",
      "execution_count": null,
      "metadata": {
        "id": "uJSR80q5N_vV"
      },
      "outputs": [],
      "source": [
        "# t1, t2 = compare_arrays_e(test_1, test_2)"
      ]
    },
    {
      "cell_type": "code",
      "execution_count": null,
      "metadata": {
        "id": "Jqoo6MHq9LD2"
      },
      "outputs": [],
      "source": [
        "def compare_arrays(df_bear, df_bull):\n",
        "  out_bear = df_bear.values\n",
        "  out_bull = df_bull.values\n",
        "  dups = 0\n",
        "  for ind_bear, line_bear in enumerate(df_bear):\n",
        "    for ind_bull, line_bull in enumerate(df_bull):\n",
        "      booly = False\n",
        "      print(line_bear)\n",
        "      print(line_bull)\n",
        "      if (line_bear[0]==line_bull[0] and line_bear[1]==line_bull[1]):\n",
        "        booly = True\n",
        "        dups +=1\n",
        "      elif (line_bear[0]==line_bull[1] and line_bear[1]==line_bull[0]):\n",
        "        booly = True\n",
        "        dups +=1\n",
        "      if booly:\n",
        "        # print(line_bear)\n",
        "        # print(line_bull)\n",
        "        out_bear = np.delete(out_bear, ind_bear, 0)\n",
        "        out_bull = np.delete(out_bull, ind_bull, 0)\n",
        "  print(dups)\n",
        "  return out_bear, out_bull"
      ]
    },
    {
      "cell_type": "code",
      "execution_count": null,
      "metadata": {
        "colab": {
          "base_uri": "https://localhost:8080/"
        },
        "id": "-IYIUkxnOxWs",
        "outputId": "125091c0-93b5-416d-9f32-de2f2ea06237"
      },
      "outputs": [
        {
          "name": "stdout",
          "output_type": "stream",
          "text": [
            "emoji_1\n",
            "emoji_1\n",
            "emoji_1\n",
            "emoji_2\n",
            "emoji_2\n",
            "emoji_1\n",
            "emoji_2\n",
            "emoji_2\n",
            "4\n"
          ]
        }
      ],
      "source": [
        "t1, t2 = compare_arrays(arr1, arr2)"
      ]
    },
    {
      "cell_type": "code",
      "execution_count": null,
      "metadata": {
        "id": "1A6ERgyRB0am"
      },
      "outputs": [],
      "source": [
        "for a, b in enumerate(arr1):\n",
        "  for c, d in enumerate(b):\n",
        "    print(d)"
      ]
    },
    {
      "cell_type": "code",
      "execution_count": null,
      "metadata": {
        "id": "_6FFE3A2ClhS"
      },
      "outputs": [],
      "source": [
        "df_arr1 = pd.DataFrame(arr1)\n",
        "df_arr2 = pd.DataFrame(arr2)"
      ]
    },
    {
      "cell_type": "code",
      "execution_count": null,
      "metadata": {
        "id": "uWO2neoSCBxw"
      },
      "outputs": [],
      "source": [
        "df_arr1.to_excel(path_lexi + 'bear-emoji-double.xlsx')\n",
        "df_arr2.to_excel(path_lexi + 'bull-emoji-double.xlsx')"
      ]
    },
    {
      "cell_type": "code",
      "execution_count": null,
      "metadata": {
        "id": "h9mYivtkwZvI"
      },
      "outputs": [],
      "source": [
        "df_left_n = []\n",
        "df_right_n = []\n",
        "for line in df_left:\n",
        "  if line.encode:\n",
        "    line = line.encode\n",
        "  df_left_n.append(line)"
      ]
    },
    {
      "cell_type": "code",
      "execution_count": null,
      "metadata": {
        "id": "QAH0HqBSDW1T"
      },
      "outputs": [],
      "source": [
        "fn_save = path_lexi + 'bear-emoji-double.txt'\n",
        "df_save = arr1\n",
        "with open(fn_save, 'w') as fp:\n",
        "    for item in df_save:\n",
        "        # write each item on a new line\n",
        "        fp.write(\"%s\\n\" % item)"
      ]
    },
    {
      "cell_type": "code",
      "execution_count": null,
      "metadata": {
        "id": "goPsiJU1DuU_"
      },
      "outputs": [],
      "source": [
        "fn_save = path_lexi + 'bull-emoji-double.txt'\n",
        "df_save = arr2\n",
        "with open(fn_save, 'w') as fp:\n",
        "    for item in df_save:\n",
        "        # write each item on a new line\n",
        "        fp.write(\"%s\\n\" % item)"
      ]
    },
    {
      "cell_type": "code",
      "execution_count": null,
      "metadata": {
        "colab": {
          "base_uri": "https://localhost:8080/"
        },
        "id": "Hgb5o3Q_xm28",
        "outputId": "089b2834-4c22-4820-fa00-a0cebd24cbdf"
      },
      "outputs": [
        {
          "name": "stdout",
          "output_type": "stream",
          "text": [
            "🤌\n"
          ]
        }
      ],
      "source": [
        "print('\\U0001f90c')"
      ]
    },
    {
      "cell_type": "code",
      "execution_count": null,
      "metadata": {
        "colab": {
          "base_uri": "https://localhost:8080/",
          "height": 36
        },
        "id": "bltJh4aEwrdZ",
        "outputId": "cae3705a-9e55-484f-fc38-59a349ea05e7"
      },
      "outputs": [
        {
          "data": {
            "application/vnd.google.colaboratory.intrinsic+json": {
              "type": "string"
            },
            "text/plain": [
              "'🕳'"
            ]
          },
          "execution_count": 383,
          "metadata": {},
          "output_type": "execute_result"
        }
      ],
      "source": [
        "df_left[0].encode('utf-8').decode('utf-8')"
      ]
    },
    {
      "cell_type": "code",
      "execution_count": null,
      "metadata": {
        "colab": {
          "base_uri": "https://localhost:8080/",
          "height": 36
        },
        "id": "370MKznGxTBh",
        "outputId": "7b1b7b67-140f-4e6b-91dd-d613570b35f8"
      },
      "outputs": [
        {
          "data": {
            "application/vnd.google.colaboratory.intrinsic+json": {
              "type": "string"
            },
            "text/plain": [
              "'\\U0001fa78'"
            ]
          },
          "execution_count": 389,
          "metadata": {},
          "output_type": "execute_result"
        }
      ],
      "source": [
        "'\\\\U0001fa78'.encode('ascii').decode('unicode-escape').encode('utf-16', 'surrogatepass').decode('utf-16')"
      ]
    },
    {
      "cell_type": "code",
      "execution_count": null,
      "metadata": {
        "colab": {
          "base_uri": "https://localhost:8080/"
        },
        "id": "EPciJFDKy9KV",
        "outputId": "049594c0-3414-4242-e082-21cb12b4e047"
      },
      "outputs": [
        {
          "name": "stdout",
          "output_type": "stream",
          "text": [
            "Looking in indexes: https://pypi.org/simple, https://us-python.pkg.dev/colab-wheels/public/simple/\n",
            "Collecting unicode\n",
            "  Downloading unicode-2.9-py2.py3-none-any.whl (14 kB)\n",
            "Installing collected packages: unicode\n",
            "Successfully installed unicode-2.9\n"
          ]
        }
      ],
      "source": [
        "!pip install unicode"
      ]
    },
    {
      "cell_type": "code",
      "execution_count": null,
      "metadata": {
        "colab": {
          "base_uri": "https://localhost:8080/"
        },
        "id": "9RGXS_vgzpUo",
        "outputId": "5792c2ba-cced-455c-cb26-8d39caa5a30b"
      },
      "outputs": [
        {
          "name": "stdout",
          "output_type": "stream",
          "text": [
            "🩸\n"
          ]
        }
      ],
      "source": [
        "print('\\U0001fa78')"
      ]
    },
    {
      "cell_type": "code",
      "execution_count": null,
      "metadata": {
        "colab": {
          "base_uri": "https://localhost:8080/",
          "height": 36
        },
        "id": "fx-9yTn4t8AJ",
        "outputId": "e23dca26-a95a-4b3a-cc1d-50950fb212ca"
      },
      "outputs": [
        {
          "data": {
            "application/vnd.google.colaboratory.intrinsic+json": {
              "type": "string"
            },
            "text/plain": [
              "'🥴'"
            ]
          },
          "execution_count": 355,
          "metadata": {},
          "output_type": "execute_result"
        }
      ],
      "source": [
        "df_temp[0][1]"
      ]
    },
    {
      "cell_type": "code",
      "execution_count": null,
      "metadata": {
        "colab": {
          "base_uri": "https://localhost:8080/"
        },
        "id": "UDjhQ4S5rkhA",
        "outputId": "fa336c5c-4200-488f-acee-5fa6cd37bcbf"
      },
      "outputs": [
        {
          "data": {
            "text/plain": [
              "[<function str.encode>,\n",
              " <function str.encode>,\n",
              " <function str.encode>,\n",
              " <function str.encode>,\n",
              " <function str.encode>,\n",
              " <function str.encode>,\n",
              " <function str.encode>,\n",
              " <function str.encode>,\n",
              " <function str.encode>,\n",
              " <function str.encode>,\n",
              " <function str.encode>,\n",
              " <function str.encode>,\n",
              " <function str.encode>,\n",
              " <function str.encode>,\n",
              " <function str.encode>,\n",
              " <function str.encode>,\n",
              " <function str.encode>,\n",
              " <function str.encode>,\n",
              " <function str.encode>,\n",
              " <function str.encode>,\n",
              " <function str.encode>,\n",
              " <function str.encode>,\n",
              " <function str.encode>,\n",
              " <function str.encode>,\n",
              " <function str.encode>,\n",
              " <function str.encode>,\n",
              " <function str.encode>,\n",
              " <function str.encode>,\n",
              " <function str.encode>,\n",
              " <function str.encode>,\n",
              " <function str.encode>,\n",
              " <function str.encode>,\n",
              " <function str.encode>,\n",
              " <function str.encode>,\n",
              " <function str.encode>,\n",
              " <function str.encode>,\n",
              " <function str.encode>,\n",
              " <function str.encode>,\n",
              " <function str.encode>,\n",
              " <function str.encode>,\n",
              " <function str.encode>,\n",
              " <function str.encode>,\n",
              " <function str.encode>,\n",
              " <function str.encode>,\n",
              " <function str.encode>,\n",
              " <function str.encode>,\n",
              " <function str.encode>,\n",
              " <function str.encode>,\n",
              " <function str.encode>,\n",
              " <function str.encode>,\n",
              " <function str.encode>,\n",
              " <function str.encode>,\n",
              " <function str.encode>,\n",
              " <function str.encode>,\n",
              " <function str.encode>,\n",
              " <function str.encode>,\n",
              " <function str.encode>,\n",
              " <function str.encode>,\n",
              " <function str.encode>,\n",
              " <function str.encode>,\n",
              " <function str.encode>,\n",
              " <function str.encode>,\n",
              " <function str.encode>,\n",
              " <function str.encode>,\n",
              " <function str.encode>,\n",
              " <function str.encode>,\n",
              " <function str.encode>,\n",
              " <function str.encode>,\n",
              " <function str.encode>,\n",
              " <function str.encode>,\n",
              " <function str.encode>,\n",
              " <function str.encode>,\n",
              " <function str.encode>,\n",
              " <function str.encode>,\n",
              " <function str.encode>,\n",
              " <function str.encode>,\n",
              " <function str.encode>,\n",
              " <function str.encode>,\n",
              " <function str.encode>,\n",
              " <function str.encode>,\n",
              " <function str.encode>,\n",
              " <function str.encode>,\n",
              " <function str.encode>,\n",
              " <function str.encode>,\n",
              " <function str.encode>,\n",
              " <function str.encode>,\n",
              " <function str.encode>,\n",
              " <function str.encode>,\n",
              " <function str.encode>,\n",
              " <function str.encode>,\n",
              " <function str.encode>,\n",
              " <function str.encode>,\n",
              " <function str.encode>,\n",
              " <function str.encode>,\n",
              " <function str.encode>,\n",
              " <function str.encode>,\n",
              " <function str.encode>,\n",
              " <function str.encode>,\n",
              " <function str.encode>,\n",
              " <function str.encode>,\n",
              " <function str.encode>,\n",
              " <function str.encode>,\n",
              " <function str.encode>,\n",
              " <function str.encode>,\n",
              " <function str.encode>,\n",
              " <function str.encode>,\n",
              " <function str.encode>,\n",
              " <function str.encode>,\n",
              " <function str.encode>,\n",
              " <function str.encode>,\n",
              " <function str.encode>,\n",
              " <function str.encode>,\n",
              " <function str.encode>,\n",
              " <function str.encode>,\n",
              " <function str.encode>,\n",
              " <function str.encode>,\n",
              " <function str.encode>,\n",
              " <function str.encode>,\n",
              " <function str.encode>,\n",
              " <function str.encode>,\n",
              " <function str.encode>,\n",
              " <function str.encode>,\n",
              " <function str.encode>,\n",
              " <function str.encode>,\n",
              " <function str.encode>,\n",
              " <function str.encode>,\n",
              " <function str.encode>,\n",
              " <function str.encode>,\n",
              " <function str.encode>,\n",
              " <function str.encode>,\n",
              " <function str.encode>,\n",
              " <function str.encode>,\n",
              " <function str.encode>,\n",
              " <function str.encode>,\n",
              " <function str.encode>,\n",
              " <function str.encode>,\n",
              " <function str.encode>,\n",
              " <function str.encode>,\n",
              " <function str.encode>,\n",
              " <function str.encode>,\n",
              " <function str.encode>,\n",
              " <function str.encode>,\n",
              " <function str.encode>,\n",
              " <function str.encode>,\n",
              " <function str.encode>,\n",
              " <function str.encode>,\n",
              " <function str.encode>,\n",
              " <function str.encode>,\n",
              " <function str.encode>,\n",
              " <function str.encode>,\n",
              " <function str.encode>,\n",
              " <function str.encode>,\n",
              " <function str.encode>,\n",
              " <function str.encode>,\n",
              " <function str.encode>,\n",
              " <function str.encode>,\n",
              " <function str.encode>,\n",
              " <function str.encode>,\n",
              " <function str.encode>,\n",
              " <function str.encode>,\n",
              " <function str.encode>,\n",
              " <function str.encode>,\n",
              " <function str.encode>,\n",
              " <function str.encode>,\n",
              " <function str.encode>,\n",
              " <function str.encode>,\n",
              " <function str.encode>,\n",
              " <function str.encode>,\n",
              " <function str.encode>,\n",
              " <function str.encode>,\n",
              " <function str.encode>,\n",
              " <function str.encode>,\n",
              " <function str.encode>,\n",
              " <function str.encode>,\n",
              " <function str.encode>,\n",
              " <function str.encode>,\n",
              " <function str.encode>,\n",
              " <function str.encode>,\n",
              " <function str.encode>,\n",
              " <function str.encode>,\n",
              " <function str.encode>,\n",
              " <function str.encode>,\n",
              " <function str.encode>,\n",
              " <function str.encode>,\n",
              " <function str.encode>,\n",
              " <function str.encode>,\n",
              " <function str.encode>,\n",
              " <function str.encode>,\n",
              " <function str.encode>,\n",
              " <function str.encode>,\n",
              " <function str.encode>,\n",
              " <function str.encode>,\n",
              " <function str.encode>,\n",
              " <function str.encode>,\n",
              " <function str.encode>,\n",
              " <function str.encode>,\n",
              " <function str.encode>,\n",
              " <function str.encode>,\n",
              " <function str.encode>,\n",
              " <function str.encode>,\n",
              " <function str.encode>,\n",
              " <function str.encode>,\n",
              " <function str.encode>,\n",
              " <function str.encode>,\n",
              " <function str.encode>,\n",
              " <function str.encode>,\n",
              " <function str.encode>,\n",
              " <function str.encode>,\n",
              " <function str.encode>,\n",
              " <function str.encode>,\n",
              " <function str.encode>,\n",
              " <function str.encode>,\n",
              " <function str.encode>,\n",
              " <function str.encode>,\n",
              " <function str.encode>,\n",
              " <function str.encode>,\n",
              " <function str.encode>,\n",
              " <function str.encode>,\n",
              " <function str.encode>,\n",
              " <function str.encode>,\n",
              " <function str.encode>,\n",
              " <function str.encode>,\n",
              " <function str.encode>,\n",
              " <function str.encode>,\n",
              " <function str.encode>,\n",
              " <function str.encode>,\n",
              " <function str.encode>,\n",
              " <function str.encode>,\n",
              " <function str.encode>,\n",
              " <function str.encode>,\n",
              " <function str.encode>,\n",
              " <function str.encode>,\n",
              " <function str.encode>,\n",
              " <function str.encode>,\n",
              " <function str.encode>,\n",
              " <function str.encode>,\n",
              " <function str.encode>,\n",
              " <function str.encode>,\n",
              " <function str.encode>,\n",
              " <function str.encode>,\n",
              " <function str.encode>,\n",
              " <function str.encode>,\n",
              " <function str.encode>,\n",
              " <function str.encode>,\n",
              " <function str.encode>,\n",
              " <function str.encode>,\n",
              " <function str.encode>,\n",
              " <function str.encode>,\n",
              " <function str.encode>,\n",
              " <function str.encode>,\n",
              " <function str.encode>,\n",
              " <function str.encode>,\n",
              " <function str.encode>,\n",
              " <function str.encode>,\n",
              " <function str.encode>,\n",
              " <function str.encode>,\n",
              " <function str.encode>,\n",
              " <function str.encode>,\n",
              " <function str.encode>,\n",
              " <function str.encode>,\n",
              " <function str.encode>,\n",
              " <function str.encode>,\n",
              " <function str.encode>,\n",
              " <function str.encode>,\n",
              " <function str.encode>,\n",
              " <function str.encode>,\n",
              " <function str.encode>,\n",
              " <function str.encode>,\n",
              " <function str.encode>,\n",
              " <function str.encode>,\n",
              " <function str.encode>,\n",
              " <function str.encode>,\n",
              " <function str.encode>,\n",
              " <function str.encode>,\n",
              " <function str.encode>,\n",
              " <function str.encode>,\n",
              " <function str.encode>,\n",
              " <function str.encode>,\n",
              " <function str.encode>,\n",
              " <function str.encode>,\n",
              " <function str.encode>,\n",
              " <function str.encode>,\n",
              " <function str.encode>,\n",
              " <function str.encode>,\n",
              " <function str.encode>,\n",
              " <function str.encode>,\n",
              " <function str.encode>,\n",
              " <function str.encode>,\n",
              " <function str.encode>,\n",
              " <function str.encode>,\n",
              " <function str.encode>,\n",
              " <function str.encode>,\n",
              " <function str.encode>,\n",
              " <function str.encode>,\n",
              " <function str.encode>,\n",
              " <function str.encode>,\n",
              " <function str.encode>,\n",
              " <function str.encode>,\n",
              " <function str.encode>,\n",
              " <function str.encode>,\n",
              " <function str.encode>,\n",
              " <function str.encode>,\n",
              " <function str.encode>,\n",
              " <function str.encode>,\n",
              " <function str.encode>,\n",
              " <function str.encode>,\n",
              " <function str.encode>,\n",
              " <function str.encode>,\n",
              " <function str.encode>,\n",
              " <function str.encode>,\n",
              " <function str.encode>,\n",
              " <function str.encode>,\n",
              " <function str.encode>,\n",
              " <function str.encode>,\n",
              " <function str.encode>,\n",
              " <function str.encode>,\n",
              " <function str.encode>,\n",
              " <function str.encode>,\n",
              " <function str.encode>,\n",
              " <function str.encode>,\n",
              " <function str.encode>,\n",
              " <function str.encode>,\n",
              " <function str.encode>,\n",
              " <function str.encode>,\n",
              " <function str.encode>,\n",
              " <function str.encode>,\n",
              " <function str.encode>,\n",
              " <function str.encode>,\n",
              " <function str.encode>,\n",
              " <function str.encode>,\n",
              " <function str.encode>,\n",
              " <function str.encode>,\n",
              " <function str.encode>,\n",
              " <function str.encode>,\n",
              " <function str.encode>,\n",
              " <function str.encode>,\n",
              " <function str.encode>,\n",
              " <function str.encode>,\n",
              " <function str.encode>,\n",
              " <function str.encode>,\n",
              " <function str.encode>,\n",
              " <function str.encode>,\n",
              " <function str.encode>,\n",
              " <function str.encode>,\n",
              " <function str.encode>,\n",
              " <function str.encode>,\n",
              " <function str.encode>,\n",
              " <function str.encode>,\n",
              " <function str.encode>,\n",
              " <function str.encode>,\n",
              " <function str.encode>,\n",
              " <function str.encode>,\n",
              " <function str.encode>,\n",
              " <function str.encode>,\n",
              " <function str.encode>,\n",
              " <function str.encode>,\n",
              " <function str.encode>,\n",
              " <function str.encode>,\n",
              " <function str.encode>,\n",
              " <function str.encode>,\n",
              " <function str.encode>,\n",
              " <function str.encode>,\n",
              " <function str.encode>,\n",
              " <function str.encode>,\n",
              " <function str.encode>,\n",
              " <function str.encode>,\n",
              " <function str.encode>,\n",
              " <function str.encode>,\n",
              " <function str.encode>,\n",
              " <function str.encode>,\n",
              " <function str.encode>,\n",
              " <function str.encode>,\n",
              " <function str.encode>,\n",
              " <function str.encode>,\n",
              " <function str.encode>,\n",
              " <function str.encode>,\n",
              " <function str.encode>,\n",
              " <function str.encode>,\n",
              " <function str.encode>,\n",
              " <function str.encode>,\n",
              " <function str.encode>,\n",
              " <function str.encode>,\n",
              " <function str.encode>,\n",
              " <function str.encode>,\n",
              " <function str.encode>,\n",
              " <function str.encode>,\n",
              " <function str.encode>,\n",
              " <function str.encode>,\n",
              " <function str.encode>,\n",
              " <function str.encode>,\n",
              " <function str.encode>,\n",
              " <function str.encode>,\n",
              " <function str.encode>,\n",
              " <function str.encode>,\n",
              " <function str.encode>,\n",
              " <function str.encode>,\n",
              " <function str.encode>,\n",
              " <function str.encode>,\n",
              " <function str.encode>,\n",
              " <function str.encode>,\n",
              " <function str.encode>,\n",
              " <function str.encode>,\n",
              " <function str.encode>,\n",
              " <function str.encode>,\n",
              " <function str.encode>,\n",
              " <function str.encode>,\n",
              " <function str.encode>,\n",
              " <function str.encode>,\n",
              " <function str.encode>,\n",
              " <function str.encode>,\n",
              " <function str.encode>,\n",
              " <function str.encode>,\n",
              " <function str.encode>,\n",
              " <function str.encode>,\n",
              " <function str.encode>,\n",
              " <function str.encode>,\n",
              " <function str.encode>,\n",
              " <function str.encode>,\n",
              " <function str.encode>,\n",
              " <function str.encode>,\n",
              " <function str.encode>,\n",
              " <function str.encode>,\n",
              " <function str.encode>,\n",
              " <function str.encode>,\n",
              " <function str.encode>,\n",
              " <function str.encode>,\n",
              " <function str.encode>,\n",
              " <function str.encode>,\n",
              " <function str.encode>,\n",
              " <function str.encode>,\n",
              " <function str.encode>,\n",
              " <function str.encode>,\n",
              " <function str.encode>,\n",
              " <function str.encode>,\n",
              " <function str.encode>,\n",
              " <function str.encode>,\n",
              " <function str.encode>,\n",
              " <function str.encode>,\n",
              " <function str.encode>,\n",
              " <function str.encode>,\n",
              " <function str.encode>,\n",
              " <function str.encode>,\n",
              " <function str.encode>,\n",
              " <function str.encode>,\n",
              " <function str.encode>,\n",
              " <function str.encode>,\n",
              " <function str.encode>,\n",
              " <function str.encode>,\n",
              " <function str.encode>,\n",
              " <function str.encode>,\n",
              " <function str.encode>,\n",
              " <function str.encode>,\n",
              " <function str.encode>,\n",
              " <function str.encode>,\n",
              " <function str.encode>,\n",
              " <function str.encode>,\n",
              " <function str.encode>,\n",
              " <function str.encode>,\n",
              " <function str.encode>,\n",
              " <function str.encode>,\n",
              " <function str.encode>,\n",
              " <function str.encode>,\n",
              " <function str.encode>,\n",
              " <function str.encode>,\n",
              " <function str.encode>,\n",
              " <function str.encode>,\n",
              " <function str.encode>,\n",
              " <function str.encode>,\n",
              " <function str.encode>,\n",
              " <function str.encode>,\n",
              " <function str.encode>,\n",
              " <function str.encode>,\n",
              " <function str.encode>,\n",
              " <function str.encode>,\n",
              " <function str.encode>,\n",
              " <function str.encode>,\n",
              " <function str.encode>,\n",
              " <function str.encode>,\n",
              " <function str.encode>,\n",
              " <function str.encode>,\n",
              " <function str.encode>,\n",
              " <function str.encode>,\n",
              " <function str.encode>,\n",
              " <function str.encode>,\n",
              " <function str.encode>,\n",
              " <function str.encode>,\n",
              " <function str.encode>,\n",
              " <function str.encode>,\n",
              " <function str.encode>,\n",
              " <function str.encode>,\n",
              " <function str.encode>,\n",
              " <function str.encode>,\n",
              " <function str.encode>,\n",
              " <function str.encode>,\n",
              " <function str.encode>,\n",
              " <function str.encode>,\n",
              " <function str.encode>,\n",
              " <function str.encode>,\n",
              " <function str.encode>,\n",
              " <function str.encode>,\n",
              " <function str.encode>,\n",
              " <function str.encode>,\n",
              " <function str.encode>,\n",
              " <function str.encode>,\n",
              " <function str.encode>,\n",
              " <function str.encode>,\n",
              " <function str.encode>,\n",
              " <function str.encode>,\n",
              " <function str.encode>,\n",
              " <function str.encode>,\n",
              " <function str.encode>,\n",
              " <function str.encode>,\n",
              " <function str.encode>,\n",
              " <function str.encode>,\n",
              " <function str.encode>,\n",
              " <function str.encode>,\n",
              " <function str.encode>,\n",
              " <function str.encode>,\n",
              " <function str.encode>,\n",
              " <function str.encode>,\n",
              " <function str.encode>,\n",
              " <function str.encode>,\n",
              " <function str.encode>,\n",
              " <function str.encode>,\n",
              " <function str.encode>,\n",
              " <function str.encode>,\n",
              " <function str.encode>,\n",
              " <function str.encode>,\n",
              " <function str.encode>,\n",
              " <function str.encode>,\n",
              " <function str.encode>,\n",
              " <function str.encode>,\n",
              " <function str.encode>,\n",
              " <function str.encode>,\n",
              " <function str.encode>,\n",
              " <function str.encode>,\n",
              " <function str.encode>,\n",
              " <function str.encode>,\n",
              " <function str.encode>,\n",
              " <function str.encode>,\n",
              " <function str.encode>,\n",
              " <function str.encode>,\n",
              " <function str.encode>,\n",
              " <function str.encode>,\n",
              " <function str.encode>,\n",
              " <function str.encode>,\n",
              " <function str.encode>,\n",
              " <function str.encode>,\n",
              " <function str.encode>,\n",
              " <function str.encode>,\n",
              " <function str.encode>,\n",
              " <function str.encode>,\n",
              " <function str.encode>,\n",
              " <function str.encode>,\n",
              " <function str.encode>,\n",
              " <function str.encode>,\n",
              " <function str.encode>,\n",
              " <function str.encode>,\n",
              " <function str.encode>,\n",
              " <function str.encode>,\n",
              " <function str.encode>,\n",
              " <function str.encode>,\n",
              " <function str.encode>,\n",
              " <function str.encode>,\n",
              " <function str.encode>,\n",
              " <function str.encode>,\n",
              " <function str.encode>,\n",
              " <function str.encode>,\n",
              " <function str.encode>,\n",
              " <function str.encode>,\n",
              " <function str.encode>,\n",
              " <function str.encode>,\n",
              " <function str.encode>,\n",
              " <function str.encode>,\n",
              " <function str.encode>,\n",
              " <function str.encode>,\n",
              " <function str.encode>,\n",
              " <function str.encode>,\n",
              " <function str.encode>,\n",
              " <function str.encode>,\n",
              " <function str.encode>]"
            ]
          },
          "execution_count": 379,
          "metadata": {},
          "output_type": "execute_result"
        }
      ],
      "source": [
        "df_left_n"
      ]
    },
    {
      "cell_type": "code",
      "execution_count": null,
      "metadata": {
        "colab": {
          "base_uri": "https://localhost:8080/"
        },
        "id": "KwPODI4jpJaL",
        "outputId": "443e848b-514e-4586-b73d-23e943c21faa"
      },
      "outputs": [
        {
          "data": {
            "text/plain": [
              "0     🕳\n",
              "1     😐\n",
              "2     🥴\n",
              "3     😬\n",
              "5     🚩\n",
              "     ..\n",
              "62    🪦\n",
              "63    📉\n",
              "64    🔪\n",
              "65    ☠\n",
              "66    🥱\n",
              "Name: emoji(s), Length: 65, dtype: object"
            ]
          },
          "execution_count": 303,
          "metadata": {},
          "output_type": "execute_result"
        }
      ],
      "source": [
        "df_p1"
      ]
    },
    {
      "cell_type": "markdown",
      "metadata": {
        "id": "MfKh0TUzdpaM"
      },
      "source": [
        "### Other SVM tasks"
      ]
    },
    {
      "cell_type": "code",
      "execution_count": null,
      "metadata": {
        "id": "leIkeUue2FB2"
      },
      "outputs": [],
      "source": [
        "df_bear_train.iloc[:,:211]"
      ]
    },
    {
      "cell_type": "code",
      "execution_count": null,
      "metadata": {
        "colab": {
          "base_uri": "https://localhost:8080/"
        },
        "id": "1BWCuzeqiwLR",
        "outputId": "8275d33a-6b71-4b5d-92b6-fff66c854a35"
      },
      "outputs": [
        {
          "name": "stdout",
          "output_type": "stream",
          "text": [
            "SVM Accuracy Score ->  73.575\n"
          ]
        }
      ],
      "source": [
        "# Classifier - Algorithm - SVM\n",
        "# fit the training dataset on the classifier\n",
        "SVM_bear = svm.SVC(C=1.0, \n",
        "                   kernel='poly', \n",
        "                   degree=2, \n",
        "                   gamma='scale',\n",
        "                   cache_size=4000)\n",
        "SVM_bear.fit(df_bear_train.iloc[:,:-1],df_bear_train['labels'])\n",
        "# predict the labels on validation dataset\n",
        "predictions_SVM = SVM_bear.predict(val_bear.iloc[:,:-1])\n",
        "# Use accuracy_score function to get the accuracy\n",
        "print(\"SVM Accuracy Score -> \",accuracy_score(predictions_SVM, val_bear['labels'])*100)"
      ]
    },
    {
      "cell_type": "code",
      "execution_count": null,
      "metadata": {
        "colab": {
          "base_uri": "https://localhost:8080/",
          "height": 423
        },
        "id": "_LuLx8EM8mcZ",
        "outputId": "ffa07db9-20c1-444d-f619-6a3a2318faf3"
      },
      "outputs": [
        {
          "data": {
            "text/html": [
              "\n",
              "  <div id=\"df-eb613fa9-e227-44be-83c0-d1d3b7bd04e9\">\n",
              "    <div class=\"colab-df-container\">\n",
              "      <div>\n",
              "<style scoped>\n",
              "    .dataframe tbody tr th:only-of-type {\n",
              "        vertical-align: middle;\n",
              "    }\n",
              "\n",
              "    .dataframe tbody tr th {\n",
              "        vertical-align: top;\n",
              "    }\n",
              "\n",
              "    .dataframe thead th {\n",
              "        text-align: right;\n",
              "    }\n",
              "</style>\n",
              "<table border=\"1\" class=\"dataframe\">\n",
              "  <thead>\n",
              "    <tr style=\"text-align: right;\">\n",
              "      <th></th>\n",
              "      <th>0</th>\n",
              "      <th>1</th>\n",
              "      <th>2</th>\n",
              "      <th>3</th>\n",
              "      <th>4</th>\n",
              "      <th>5</th>\n",
              "      <th>6</th>\n",
              "      <th>7</th>\n",
              "      <th>8</th>\n",
              "      <th>9</th>\n",
              "      <th>...</th>\n",
              "      <th>201</th>\n",
              "      <th>202</th>\n",
              "      <th>203</th>\n",
              "      <th>204</th>\n",
              "      <th>205</th>\n",
              "      <th>206</th>\n",
              "      <th>207</th>\n",
              "      <th>208</th>\n",
              "      <th>209</th>\n",
              "      <th>210</th>\n",
              "    </tr>\n",
              "  </thead>\n",
              "  <tbody>\n",
              "    <tr>\n",
              "      <th>0</th>\n",
              "      <td>0</td>\n",
              "      <td>0</td>\n",
              "      <td>0</td>\n",
              "      <td>0</td>\n",
              "      <td>0</td>\n",
              "      <td>0</td>\n",
              "      <td>0</td>\n",
              "      <td>0</td>\n",
              "      <td>0</td>\n",
              "      <td>0</td>\n",
              "      <td>...</td>\n",
              "      <td>0</td>\n",
              "      <td>0</td>\n",
              "      <td>0</td>\n",
              "      <td>0</td>\n",
              "      <td>0</td>\n",
              "      <td>0</td>\n",
              "      <td>0</td>\n",
              "      <td>1</td>\n",
              "      <td>0</td>\n",
              "      <td>0</td>\n",
              "    </tr>\n",
              "    <tr>\n",
              "      <th>1</th>\n",
              "      <td>0</td>\n",
              "      <td>0</td>\n",
              "      <td>0</td>\n",
              "      <td>0</td>\n",
              "      <td>0</td>\n",
              "      <td>0</td>\n",
              "      <td>0</td>\n",
              "      <td>0</td>\n",
              "      <td>0</td>\n",
              "      <td>0</td>\n",
              "      <td>...</td>\n",
              "      <td>0</td>\n",
              "      <td>0</td>\n",
              "      <td>0</td>\n",
              "      <td>0</td>\n",
              "      <td>0</td>\n",
              "      <td>0</td>\n",
              "      <td>0</td>\n",
              "      <td>0</td>\n",
              "      <td>0</td>\n",
              "      <td>0</td>\n",
              "    </tr>\n",
              "    <tr>\n",
              "      <th>2</th>\n",
              "      <td>0</td>\n",
              "      <td>0</td>\n",
              "      <td>0</td>\n",
              "      <td>0</td>\n",
              "      <td>0</td>\n",
              "      <td>0</td>\n",
              "      <td>0</td>\n",
              "      <td>0</td>\n",
              "      <td>0</td>\n",
              "      <td>0</td>\n",
              "      <td>...</td>\n",
              "      <td>0</td>\n",
              "      <td>0</td>\n",
              "      <td>0</td>\n",
              "      <td>0</td>\n",
              "      <td>0</td>\n",
              "      <td>0</td>\n",
              "      <td>0</td>\n",
              "      <td>0</td>\n",
              "      <td>0</td>\n",
              "      <td>0</td>\n",
              "    </tr>\n",
              "    <tr>\n",
              "      <th>3</th>\n",
              "      <td>0</td>\n",
              "      <td>0</td>\n",
              "      <td>0</td>\n",
              "      <td>0</td>\n",
              "      <td>0</td>\n",
              "      <td>0</td>\n",
              "      <td>0</td>\n",
              "      <td>0</td>\n",
              "      <td>0</td>\n",
              "      <td>0</td>\n",
              "      <td>...</td>\n",
              "      <td>0</td>\n",
              "      <td>0</td>\n",
              "      <td>0</td>\n",
              "      <td>0</td>\n",
              "      <td>0</td>\n",
              "      <td>0</td>\n",
              "      <td>1</td>\n",
              "      <td>0</td>\n",
              "      <td>0</td>\n",
              "      <td>0</td>\n",
              "    </tr>\n",
              "    <tr>\n",
              "      <th>4</th>\n",
              "      <td>0</td>\n",
              "      <td>0</td>\n",
              "      <td>0</td>\n",
              "      <td>0</td>\n",
              "      <td>0</td>\n",
              "      <td>0</td>\n",
              "      <td>0</td>\n",
              "      <td>0</td>\n",
              "      <td>0</td>\n",
              "      <td>0</td>\n",
              "      <td>...</td>\n",
              "      <td>0</td>\n",
              "      <td>0</td>\n",
              "      <td>0</td>\n",
              "      <td>0</td>\n",
              "      <td>0</td>\n",
              "      <td>0</td>\n",
              "      <td>0</td>\n",
              "      <td>0</td>\n",
              "      <td>0</td>\n",
              "      <td>0</td>\n",
              "    </tr>\n",
              "    <tr>\n",
              "      <th>...</th>\n",
              "      <td>...</td>\n",
              "      <td>...</td>\n",
              "      <td>...</td>\n",
              "      <td>...</td>\n",
              "      <td>...</td>\n",
              "      <td>...</td>\n",
              "      <td>...</td>\n",
              "      <td>...</td>\n",
              "      <td>...</td>\n",
              "      <td>...</td>\n",
              "      <td>...</td>\n",
              "      <td>...</td>\n",
              "      <td>...</td>\n",
              "      <td>...</td>\n",
              "      <td>...</td>\n",
              "      <td>...</td>\n",
              "      <td>...</td>\n",
              "      <td>...</td>\n",
              "      <td>...</td>\n",
              "      <td>...</td>\n",
              "      <td>...</td>\n",
              "    </tr>\n",
              "    <tr>\n",
              "      <th>35995</th>\n",
              "      <td>0</td>\n",
              "      <td>0</td>\n",
              "      <td>0</td>\n",
              "      <td>0</td>\n",
              "      <td>0</td>\n",
              "      <td>0</td>\n",
              "      <td>0</td>\n",
              "      <td>0</td>\n",
              "      <td>0</td>\n",
              "      <td>0</td>\n",
              "      <td>...</td>\n",
              "      <td>0</td>\n",
              "      <td>0</td>\n",
              "      <td>0</td>\n",
              "      <td>0</td>\n",
              "      <td>0</td>\n",
              "      <td>0</td>\n",
              "      <td>0</td>\n",
              "      <td>0</td>\n",
              "      <td>0</td>\n",
              "      <td>0</td>\n",
              "    </tr>\n",
              "    <tr>\n",
              "      <th>35996</th>\n",
              "      <td>0</td>\n",
              "      <td>0</td>\n",
              "      <td>0</td>\n",
              "      <td>0</td>\n",
              "      <td>0</td>\n",
              "      <td>0</td>\n",
              "      <td>0</td>\n",
              "      <td>0</td>\n",
              "      <td>0</td>\n",
              "      <td>0</td>\n",
              "      <td>...</td>\n",
              "      <td>0</td>\n",
              "      <td>0</td>\n",
              "      <td>0</td>\n",
              "      <td>0</td>\n",
              "      <td>0</td>\n",
              "      <td>0</td>\n",
              "      <td>0</td>\n",
              "      <td>0</td>\n",
              "      <td>0</td>\n",
              "      <td>0</td>\n",
              "    </tr>\n",
              "    <tr>\n",
              "      <th>35997</th>\n",
              "      <td>0</td>\n",
              "      <td>0</td>\n",
              "      <td>0</td>\n",
              "      <td>0</td>\n",
              "      <td>0</td>\n",
              "      <td>0</td>\n",
              "      <td>0</td>\n",
              "      <td>0</td>\n",
              "      <td>0</td>\n",
              "      <td>0</td>\n",
              "      <td>...</td>\n",
              "      <td>0</td>\n",
              "      <td>0</td>\n",
              "      <td>0</td>\n",
              "      <td>0</td>\n",
              "      <td>0</td>\n",
              "      <td>0</td>\n",
              "      <td>0</td>\n",
              "      <td>0</td>\n",
              "      <td>0</td>\n",
              "      <td>0</td>\n",
              "    </tr>\n",
              "    <tr>\n",
              "      <th>35998</th>\n",
              "      <td>0</td>\n",
              "      <td>0</td>\n",
              "      <td>0</td>\n",
              "      <td>0</td>\n",
              "      <td>0</td>\n",
              "      <td>0</td>\n",
              "      <td>0</td>\n",
              "      <td>0</td>\n",
              "      <td>0</td>\n",
              "      <td>0</td>\n",
              "      <td>...</td>\n",
              "      <td>0</td>\n",
              "      <td>0</td>\n",
              "      <td>0</td>\n",
              "      <td>0</td>\n",
              "      <td>0</td>\n",
              "      <td>1</td>\n",
              "      <td>0</td>\n",
              "      <td>0</td>\n",
              "      <td>0</td>\n",
              "      <td>0</td>\n",
              "    </tr>\n",
              "    <tr>\n",
              "      <th>35999</th>\n",
              "      <td>0</td>\n",
              "      <td>0</td>\n",
              "      <td>0</td>\n",
              "      <td>0</td>\n",
              "      <td>0</td>\n",
              "      <td>0</td>\n",
              "      <td>0</td>\n",
              "      <td>0</td>\n",
              "      <td>0</td>\n",
              "      <td>0</td>\n",
              "      <td>...</td>\n",
              "      <td>0</td>\n",
              "      <td>0</td>\n",
              "      <td>0</td>\n",
              "      <td>0</td>\n",
              "      <td>0</td>\n",
              "      <td>0</td>\n",
              "      <td>0</td>\n",
              "      <td>1</td>\n",
              "      <td>0</td>\n",
              "      <td>0</td>\n",
              "    </tr>\n",
              "  </tbody>\n",
              "</table>\n",
              "<p>36000 rows × 211 columns</p>\n",
              "</div>\n",
              "      <button class=\"colab-df-convert\" onclick=\"convertToInteractive('df-eb613fa9-e227-44be-83c0-d1d3b7bd04e9')\"\n",
              "              title=\"Convert this dataframe to an interactive table.\"\n",
              "              style=\"display:none;\">\n",
              "        \n",
              "  <svg xmlns=\"http://www.w3.org/2000/svg\" height=\"24px\"viewBox=\"0 0 24 24\"\n",
              "       width=\"24px\">\n",
              "    <path d=\"M0 0h24v24H0V0z\" fill=\"none\"/>\n",
              "    <path d=\"M18.56 5.44l.94 2.06.94-2.06 2.06-.94-2.06-.94-.94-2.06-.94 2.06-2.06.94zm-11 1L8.5 8.5l.94-2.06 2.06-.94-2.06-.94L8.5 2.5l-.94 2.06-2.06.94zm10 10l.94 2.06.94-2.06 2.06-.94-2.06-.94-.94-2.06-.94 2.06-2.06.94z\"/><path d=\"M17.41 7.96l-1.37-1.37c-.4-.4-.92-.59-1.43-.59-.52 0-1.04.2-1.43.59L10.3 9.45l-7.72 7.72c-.78.78-.78 2.05 0 2.83L4 21.41c.39.39.9.59 1.41.59.51 0 1.02-.2 1.41-.59l7.78-7.78 2.81-2.81c.8-.78.8-2.07 0-2.86zM5.41 20L4 18.59l7.72-7.72 1.47 1.35L5.41 20z\"/>\n",
              "  </svg>\n",
              "      </button>\n",
              "      \n",
              "  <style>\n",
              "    .colab-df-container {\n",
              "      display:flex;\n",
              "      flex-wrap:wrap;\n",
              "      gap: 12px;\n",
              "    }\n",
              "\n",
              "    .colab-df-convert {\n",
              "      background-color: #E8F0FE;\n",
              "      border: none;\n",
              "      border-radius: 50%;\n",
              "      cursor: pointer;\n",
              "      display: none;\n",
              "      fill: #1967D2;\n",
              "      height: 32px;\n",
              "      padding: 0 0 0 0;\n",
              "      width: 32px;\n",
              "    }\n",
              "\n",
              "    .colab-df-convert:hover {\n",
              "      background-color: #E2EBFA;\n",
              "      box-shadow: 0px 1px 2px rgba(60, 64, 67, 0.3), 0px 1px 3px 1px rgba(60, 64, 67, 0.15);\n",
              "      fill: #174EA6;\n",
              "    }\n",
              "\n",
              "    [theme=dark] .colab-df-convert {\n",
              "      background-color: #3B4455;\n",
              "      fill: #D2E3FC;\n",
              "    }\n",
              "\n",
              "    [theme=dark] .colab-df-convert:hover {\n",
              "      background-color: #434B5C;\n",
              "      box-shadow: 0px 1px 3px 1px rgba(0, 0, 0, 0.15);\n",
              "      filter: drop-shadow(0px 1px 2px rgba(0, 0, 0, 0.3));\n",
              "      fill: #FFFFFF;\n",
              "    }\n",
              "  </style>\n",
              "\n",
              "      <script>\n",
              "        const buttonEl =\n",
              "          document.querySelector('#df-eb613fa9-e227-44be-83c0-d1d3b7bd04e9 button.colab-df-convert');\n",
              "        buttonEl.style.display =\n",
              "          google.colab.kernel.accessAllowed ? 'block' : 'none';\n",
              "\n",
              "        async function convertToInteractive(key) {\n",
              "          const element = document.querySelector('#df-eb613fa9-e227-44be-83c0-d1d3b7bd04e9');\n",
              "          const dataTable =\n",
              "            await google.colab.kernel.invokeFunction('convertToInteractive',\n",
              "                                                     [key], {});\n",
              "          if (!dataTable) return;\n",
              "\n",
              "          const docLinkHtml = 'Like what you see? Visit the ' +\n",
              "            '<a target=\"_blank\" href=https://colab.research.google.com/notebooks/data_table.ipynb>data table notebook</a>'\n",
              "            + ' to learn more about interactive tables.';\n",
              "          element.innerHTML = '';\n",
              "          dataTable['output_type'] = 'display_data';\n",
              "          await google.colab.output.renderOutput(dataTable, element);\n",
              "          const docLink = document.createElement('div');\n",
              "          docLink.innerHTML = docLinkHtml;\n",
              "          element.appendChild(docLink);\n",
              "        }\n",
              "      </script>\n",
              "    </div>\n",
              "  </div>\n",
              "  "
            ],
            "text/plain": [
              "       0  1  2  3  4  5  6  7  8  9  ...  201  202  203  204  205  206  207  \\\n",
              "0      0  0  0  0  0  0  0  0  0  0  ...    0    0    0    0    0    0    0   \n",
              "1      0  0  0  0  0  0  0  0  0  0  ...    0    0    0    0    0    0    0   \n",
              "2      0  0  0  0  0  0  0  0  0  0  ...    0    0    0    0    0    0    0   \n",
              "3      0  0  0  0  0  0  0  0  0  0  ...    0    0    0    0    0    0    1   \n",
              "4      0  0  0  0  0  0  0  0  0  0  ...    0    0    0    0    0    0    0   \n",
              "...   .. .. .. .. .. .. .. .. .. ..  ...  ...  ...  ...  ...  ...  ...  ...   \n",
              "35995  0  0  0  0  0  0  0  0  0  0  ...    0    0    0    0    0    0    0   \n",
              "35996  0  0  0  0  0  0  0  0  0  0  ...    0    0    0    0    0    0    0   \n",
              "35997  0  0  0  0  0  0  0  0  0  0  ...    0    0    0    0    0    0    0   \n",
              "35998  0  0  0  0  0  0  0  0  0  0  ...    0    0    0    0    0    1    0   \n",
              "35999  0  0  0  0  0  0  0  0  0  0  ...    0    0    0    0    0    0    0   \n",
              "\n",
              "       208  209  210  \n",
              "0        1    0    0  \n",
              "1        0    0    0  \n",
              "2        0    0    0  \n",
              "3        0    0    0  \n",
              "4        0    0    0  \n",
              "...    ...  ...  ...  \n",
              "35995    0    0    0  \n",
              "35996    0    0    0  \n",
              "35997    0    0    0  \n",
              "35998    0    0    0  \n",
              "35999    1    0    0  \n",
              "\n",
              "[36000 rows x 211 columns]"
            ]
          },
          "execution_count": 360,
          "metadata": {},
          "output_type": "execute_result"
        }
      ],
      "source": [
        "df_bear_train.iloc[:,:-1]"
      ]
    },
    {
      "cell_type": "code",
      "execution_count": null,
      "metadata": {
        "id": "ErQXhqk85KHU"
      },
      "outputs": [],
      "source": [
        "# time with cache_size:\n",
        "# 1000 - 3 min 33s\n",
        "# 2000 - 3 min 25s\n",
        "# 4000 - 3 min 8s\n",
        "# 8000 - 3 min 17s"
      ]
    },
    {
      "cell_type": "code",
      "execution_count": null,
      "metadata": {
        "id": "Zhbg3bmr5Vd9"
      },
      "outputs": [],
      "source": [
        "from sklearn.model_selection import GridSearchCV\n",
        "from sklearn.svm import SVC  \n",
        "param_grid = {'C': [0.01, 0.1, 1, 10],\n",
        "              'gamma': [10, 5, 1, 0.1],\n",
        "              # 'kernel': ['poly', 'rbf', 'sigmoid'],\n",
        "              'kernel': ['poly'],\n",
        "              'degree': [1, 2, 3]\n",
        "              }\n",
        "grid_bear = GridSearchCV(SVC(cache_size=4000), param_grid, refit = True, verbose = 3, return_train_score = True)"
      ]
    },
    {
      "cell_type": "code",
      "execution_count": null,
      "metadata": {
        "id": "6SvjIoJz-Erx"
      },
      "outputs": [],
      "source": [
        "# df_bear_train2 = df_bear_train.iloc[:500,:]"
      ]
    },
    {
      "cell_type": "code",
      "execution_count": null,
      "metadata": {
        "colab": {
          "background_save": true,
          "base_uri": "https://localhost:8080/"
        },
        "id": "ZlhWvEQo7787",
        "outputId": "18972084-35c3-42c1-8f13-38b7a076795b"
      },
      "outputs": [
        {
          "name": "stdout",
          "output_type": "stream",
          "text": [
            "Fitting 5 folds for each of 48 candidates, totalling 240 fits\n",
            "[CV 1/5] END C=0.01, degree=1, gamma=10, kernel=poly;, score=(train=0.721, test=0.713) total time= 2.6min\n",
            "[CV 2/5] END C=0.01, degree=1, gamma=10, kernel=poly;, score=(train=0.722, test=0.717) total time= 2.6min\n",
            "[CV 3/5] END C=0.01, degree=1, gamma=10, kernel=poly;, score=(train=0.725, test=0.719) total time= 2.7min\n",
            "[CV 4/5] END C=0.01, degree=1, gamma=10, kernel=poly;, score=(train=0.721, test=0.721) total time= 2.6min\n",
            "[CV 5/5] END C=0.01, degree=1, gamma=10, kernel=poly;, score=(train=0.721, test=0.718) total time= 2.7min\n",
            "[CV 1/5] END C=0.01, degree=1, gamma=5, kernel=poly;, score=(train=0.723, test=0.714) total time= 2.6min\n",
            "[CV 2/5] END C=0.01, degree=1, gamma=5, kernel=poly;, score=(train=0.721, test=0.717) total time= 2.7min\n",
            "[CV 3/5] END C=0.01, degree=1, gamma=5, kernel=poly;, score=(train=0.723, test=0.720) total time= 2.6min\n",
            "[CV 4/5] END C=0.01, degree=1, gamma=5, kernel=poly;, score=(train=0.721, test=0.723) total time= 2.7min\n",
            "[CV 5/5] END C=0.01, degree=1, gamma=5, kernel=poly;, score=(train=0.720, test=0.717) total time= 2.7min\n",
            "[CV 1/5] END C=0.01, degree=1, gamma=1, kernel=poly;, score=(train=0.708, test=0.696) total time= 2.9min\n",
            "[CV 2/5] END C=0.01, degree=1, gamma=1, kernel=poly;, score=(train=0.707, test=0.708) total time= 2.8min\n",
            "[CV 3/5] END C=0.01, degree=1, gamma=1, kernel=poly;, score=(train=0.707, test=0.705) total time= 3.0min\n",
            "[CV 4/5] END C=0.01, degree=1, gamma=1, kernel=poly;, score=(train=0.706, test=0.710) total time= 3.0min\n",
            "[CV 5/5] END C=0.01, degree=1, gamma=1, kernel=poly;, score=(train=0.702, test=0.693) total time= 2.9min\n",
            "[CV 1/5] END C=0.01, degree=1, gamma=0.1, kernel=poly;, score=(train=0.671, test=0.668) total time= 3.5min\n",
            "[CV 2/5] END C=0.01, degree=1, gamma=0.1, kernel=poly;, score=(train=0.670, test=0.674) total time= 3.7min\n",
            "[CV 3/5] END C=0.01, degree=1, gamma=0.1, kernel=poly;, score=(train=0.671, test=0.673) total time= 3.7min\n",
            "[CV 4/5] END C=0.01, degree=1, gamma=0.1, kernel=poly;, score=(train=0.670, test=0.674) total time= 3.6min\n",
            "[CV 5/5] END C=0.01, degree=1, gamma=0.1, kernel=poly;, score=(train=0.672, test=0.663) total time= 3.8min\n",
            "[CV 1/5] END C=0.01, degree=2, gamma=10, kernel=poly;, score=(train=0.761, test=0.738) total time= 2.2min\n",
            "[CV 2/5] END C=0.01, degree=2, gamma=10, kernel=poly;, score=(train=0.761, test=0.736) total time= 2.2min\n",
            "[CV 3/5] END C=0.01, degree=2, gamma=10, kernel=poly;, score=(train=0.760, test=0.739) total time= 2.2min\n",
            "[CV 4/5] END C=0.01, degree=2, gamma=10, kernel=poly;, score=(train=0.760, test=0.738) total time= 2.2min\n",
            "[CV 5/5] END C=0.01, degree=2, gamma=10, kernel=poly;, score=(train=0.761, test=0.740) total time= 2.2min\n",
            "[CV 1/5] END C=0.01, degree=2, gamma=5, kernel=poly;, score=(train=0.753, test=0.732) total time= 2.3min\n",
            "[CV 2/5] END C=0.01, degree=2, gamma=5, kernel=poly;, score=(train=0.753, test=0.733) total time= 2.3min\n",
            "[CV 3/5] END C=0.01, degree=2, gamma=5, kernel=poly;, score=(train=0.752, test=0.736) total time= 2.2min\n",
            "[CV 4/5] END C=0.01, degree=2, gamma=5, kernel=poly;, score=(train=0.752, test=0.737) total time= 2.2min\n",
            "[CV 5/5] END C=0.01, degree=2, gamma=5, kernel=poly;, score=(train=0.751, test=0.739) total time= 2.2min\n",
            "[CV 1/5] END C=0.01, degree=2, gamma=1, kernel=poly;, score=(train=0.709, test=0.700) total time= 2.8min\n",
            "[CV 2/5] END C=0.01, degree=2, gamma=1, kernel=poly;, score=(train=0.704, test=0.702) total time= 2.8min\n",
            "[CV 3/5] END C=0.01, degree=2, gamma=1, kernel=poly;, score=(train=0.708, test=0.705) total time= 2.9min\n",
            "[CV 4/5] END C=0.01, degree=2, gamma=1, kernel=poly;, score=(train=0.706, test=0.707) total time= 2.8min\n",
            "[CV 5/5] END C=0.01, degree=2, gamma=1, kernel=poly;, score=(train=0.705, test=0.695) total time= 2.8min\n",
            "[CV 1/5] END C=0.01, degree=2, gamma=0.1, kernel=poly;, score=(train=0.664, test=0.664) total time= 3.8min\n",
            "[CV 2/5] END C=0.01, degree=2, gamma=0.1, kernel=poly;, score=(train=0.662, test=0.667) total time= 3.8min\n",
            "[CV 3/5] END C=0.01, degree=2, gamma=0.1, kernel=poly;, score=(train=0.664, test=0.664) total time= 3.7min\n",
            "[CV 4/5] END C=0.01, degree=2, gamma=0.1, kernel=poly;, score=(train=0.666, test=0.667) total time= 3.8min\n",
            "[CV 5/5] END C=0.01, degree=2, gamma=0.1, kernel=poly;, score=(train=0.664, test=0.659) total time= 3.8min\n",
            "[CV 1/5] END C=0.01, degree=3, gamma=10, kernel=poly;, score=(train=0.765, test=0.737) total time= 2.0min\n",
            "[CV 2/5] END C=0.01, degree=3, gamma=10, kernel=poly;, score=(train=0.767, test=0.731) total time= 1.9min\n",
            "[CV 3/5] END C=0.01, degree=3, gamma=10, kernel=poly;, score=(train=0.765, test=0.738) total time= 1.9min\n",
            "[CV 4/5] END C=0.01, degree=3, gamma=10, kernel=poly;, score=(train=0.765, test=0.735) total time= 1.9min\n",
            "[CV 5/5] END C=0.01, degree=3, gamma=10, kernel=poly;, score=(train=0.766, test=0.733) total time= 1.9min\n",
            "[CV 1/5] END C=0.01, degree=3, gamma=5, kernel=poly;, score=(train=0.765, test=0.739) total time= 2.0min\n",
            "[CV 2/5] END C=0.01, degree=3, gamma=5, kernel=poly;, score=(train=0.766, test=0.732) total time= 2.0min\n",
            "[CV 3/5] END C=0.01, degree=3, gamma=5, kernel=poly;, score=(train=0.765, test=0.738) total time= 2.0min\n",
            "[CV 4/5] END C=0.01, degree=3, gamma=5, kernel=poly;, score=(train=0.765, test=0.736) total time= 2.0min\n",
            "[CV 5/5] END C=0.01, degree=3, gamma=5, kernel=poly;, score=(train=0.766, test=0.735) total time= 2.0min\n",
            "[CV 1/5] END C=0.01, degree=3, gamma=1, kernel=poly;, score=(train=0.710, test=0.702) total time= 2.8min\n",
            "[CV 2/5] END C=0.01, degree=3, gamma=1, kernel=poly;, score=(train=0.709, test=0.707) total time= 2.7min\n",
            "[CV 3/5] END C=0.01, degree=3, gamma=1, kernel=poly;, score=(train=0.709, test=0.702) total time= 2.7min\n",
            "[CV 4/5] END C=0.01, degree=3, gamma=1, kernel=poly;, score=(train=0.713, test=0.710) total time= 2.8min\n",
            "[CV 5/5] END C=0.01, degree=3, gamma=1, kernel=poly;, score=(train=0.712, test=0.700) total time= 2.7min\n",
            "[CV 1/5] END C=0.01, degree=3, gamma=0.1, kernel=poly;, score=(train=0.582, test=0.575) total time= 3.6min\n",
            "[CV 2/5] END C=0.01, degree=3, gamma=0.1, kernel=poly;, score=(train=0.665, test=0.667) total time= 3.7min\n",
            "[CV 3/5] END C=0.01, degree=3, gamma=0.1, kernel=poly;, score=(train=0.610, test=0.608) total time= 3.8min\n",
            "[CV 4/5] END C=0.01, degree=3, gamma=0.1, kernel=poly;, score=(train=0.568, test=0.568) total time= 3.7min\n",
            "[CV 5/5] END C=0.01, degree=3, gamma=0.1, kernel=poly;, score=(train=0.610, test=0.616) total time= 3.8min\n",
            "[CV 1/5] END C=0.1, degree=1, gamma=10, kernel=poly;, score=(train=0.725, test=0.717) total time= 2.3min\n",
            "[CV 2/5] END C=0.1, degree=1, gamma=10, kernel=poly;, score=(train=0.717, test=0.709) total time= 2.3min\n",
            "[CV 3/5] END C=0.1, degree=1, gamma=10, kernel=poly;, score=(train=0.718, test=0.709) total time= 2.3min\n",
            "[CV 4/5] END C=0.1, degree=1, gamma=10, kernel=poly;, score=(train=0.713, test=0.713) total time= 2.2min\n",
            "[CV 5/5] END C=0.1, degree=1, gamma=10, kernel=poly;, score=(train=0.725, test=0.723) total time= 2.4min\n",
            "[CV 1/5] END C=0.1, degree=1, gamma=5, kernel=poly;, score=(train=0.726, test=0.719) total time= 2.2min\n",
            "[CV 2/5] END C=0.1, degree=1, gamma=5, kernel=poly;, score=(train=0.727, test=0.718) total time= 2.2min\n",
            "[CV 3/5] END C=0.1, degree=1, gamma=5, kernel=poly;, score=(train=0.717, test=0.708) total time= 2.2min\n",
            "[CV 4/5] END C=0.1, degree=1, gamma=5, kernel=poly;, score=(train=0.723, test=0.724) total time= 2.2min\n",
            "[CV 5/5] END C=0.1, degree=1, gamma=5, kernel=poly;, score=(train=0.723, test=0.720) total time= 2.3min\n",
            "[CV 1/5] END C=0.1, degree=1, gamma=1, kernel=poly;, score=(train=0.721, test=0.713) total time= 2.4min\n",
            "[CV 2/5] END C=0.1, degree=1, gamma=1, kernel=poly;, score=(train=0.722, test=0.717) total time= 2.5min\n",
            "[CV 3/5] END C=0.1, degree=1, gamma=1, kernel=poly;, score=(train=0.724, test=0.719) total time= 2.6min\n",
            "[CV 4/5] END C=0.1, degree=1, gamma=1, kernel=poly;, score=(train=0.721, test=0.721) total time= 2.5min\n",
            "[CV 5/5] END C=0.1, degree=1, gamma=1, kernel=poly;, score=(train=0.721, test=0.718) total time= 2.5min\n",
            "[CV 1/5] END C=0.1, degree=1, gamma=0.1, kernel=poly;, score=(train=0.708, test=0.696) total time= 2.9min\n",
            "[CV 2/5] END C=0.1, degree=1, gamma=0.1, kernel=poly;, score=(train=0.707, test=0.708) total time= 3.0min\n",
            "[CV 3/5] END C=0.1, degree=1, gamma=0.1, kernel=poly;, score=(train=0.707, test=0.705) total time= 3.0min\n",
            "[CV 4/5] END C=0.1, degree=1, gamma=0.1, kernel=poly;, score=(train=0.706, test=0.710) total time= 3.0min\n",
            "[CV 5/5] END C=0.1, degree=1, gamma=0.1, kernel=poly;, score=(train=0.702, test=0.693) total time= 3.0min\n",
            "[CV 1/5] END C=0.1, degree=2, gamma=10, kernel=poly;, score=(train=0.764, test=0.736) total time= 2.3min\n",
            "[CV 2/5] END C=0.1, degree=2, gamma=10, kernel=poly;, score=(train=0.765, test=0.729) total time= 2.5min\n",
            "[CV 3/5] END C=0.1, degree=2, gamma=10, kernel=poly;, score=(train=0.763, test=0.734) total time= 2.3min\n",
            "[CV 4/5] END C=0.1, degree=2, gamma=10, kernel=poly;, score=(train=0.764, test=0.734) total time= 2.5min\n",
            "[CV 5/5] END C=0.1, degree=2, gamma=10, kernel=poly;, score=(train=0.764, test=0.734) total time= 2.4min\n",
            "[CV 1/5] END C=0.1, degree=2, gamma=5, kernel=poly;, score=(train=0.762, test=0.736) total time= 2.3min\n",
            "[CV 2/5] END C=0.1, degree=2, gamma=5, kernel=poly;, score=(train=0.763, test=0.732) total time= 2.2min\n",
            "[CV 3/5] END C=0.1, degree=2, gamma=5, kernel=poly;, score=(train=0.762, test=0.734) total time= 2.3min\n",
            "[CV 4/5] END C=0.1, degree=2, gamma=5, kernel=poly;, score=(train=0.762, test=0.735) total time= 2.3min\n",
            "[CV 5/5] END C=0.1, degree=2, gamma=5, kernel=poly;, score=(train=0.763, test=0.735) total time= 2.3min\n",
            "[CV 1/5] END C=0.1, degree=2, gamma=1, kernel=poly;, score=(train=0.743, test=0.728) total time= 2.4min\n",
            "[CV 2/5] END C=0.1, degree=2, gamma=1, kernel=poly;, score=(train=0.742, test=0.728) total time= 2.3min\n",
            "[CV 3/5] END C=0.1, degree=2, gamma=1, kernel=poly;, score=(train=0.743, test=0.729) total time= 2.3min\n",
            "[CV 4/5] END C=0.1, degree=2, gamma=1, kernel=poly;, score=(train=0.741, test=0.734) total time= 2.3min\n",
            "[CV 5/5] END C=0.1, degree=2, gamma=1, kernel=poly;, score=(train=0.742, test=0.735) total time= 2.3min\n",
            "[CV 1/5] END C=0.1, degree=2, gamma=0.1, kernel=poly;, score=(train=0.674, test=0.673) total time= 3.5min\n",
            "[CV 2/5] END C=0.1, degree=2, gamma=0.1, kernel=poly;, score=(train=0.674, test=0.674) total time= 3.5min\n",
            "[CV 3/5] END C=0.1, degree=2, gamma=0.1, kernel=poly;, score=(train=0.667, test=0.667) total time= 3.4min\n",
            "[CV 4/5] END C=0.1, degree=2, gamma=0.1, kernel=poly;, score=(train=0.666, test=0.667) total time= 3.6min\n",
            "[CV 5/5] END C=0.1, degree=2, gamma=0.1, kernel=poly;, score=(train=0.668, test=0.659) total time= 3.7min\n",
            "[CV 1/5] END C=0.1, degree=3, gamma=10, kernel=poly;, score=(train=0.765, test=0.737) total time= 2.1min\n",
            "[CV 2/5] END C=0.1, degree=3, gamma=10, kernel=poly;, score=(train=0.767, test=0.731) total time= 2.1min\n",
            "[CV 3/5] END C=0.1, degree=3, gamma=10, kernel=poly;, score=(train=0.765, test=0.738) total time= 2.1min\n",
            "[CV 4/5] END C=0.1, degree=3, gamma=10, kernel=poly;, score=(train=0.765, test=0.735) total time= 2.1min\n",
            "[CV 5/5] END C=0.1, degree=3, gamma=10, kernel=poly;, score=(train=0.766, test=0.733) total time= 2.1min\n",
            "[CV 1/5] END C=0.1, degree=3, gamma=5, kernel=poly;, score=(train=0.765, test=0.737) total time= 2.1min\n",
            "[CV 2/5] END C=0.1, degree=3, gamma=5, kernel=poly;, score=(train=0.767, test=0.731) total time= 2.0min\n",
            "[CV 3/5] END C=0.1, degree=3, gamma=5, kernel=poly;, score=(train=0.765, test=0.738) total time= 1.9min\n",
            "[CV 4/5] END C=0.1, degree=3, gamma=5, kernel=poly;, score=(train=0.765, test=0.735) total time= 1.9min\n",
            "[CV 5/5] END C=0.1, degree=3, gamma=5, kernel=poly;, score=(train=0.766, test=0.733) total time= 2.0min\n",
            "[CV 1/5] END C=0.1, degree=3, gamma=1, kernel=poly;, score=(train=0.756, test=0.738) total time= 2.2min\n",
            "[CV 2/5] END C=0.1, degree=3, gamma=1, kernel=poly;, score=(train=0.757, test=0.734) total time= 2.2min\n",
            "[CV 3/5] END C=0.1, degree=3, gamma=1, kernel=poly;, score=(train=0.755, test=0.739) total time= 2.3min\n",
            "[CV 4/5] END C=0.1, degree=3, gamma=1, kernel=poly;, score=(train=0.755, test=0.740) total time= 2.5min\n",
            "[CV 5/5] END C=0.1, degree=3, gamma=1, kernel=poly;, score=(train=0.755, test=0.741) total time= 2.5min\n",
            "[CV 1/5] END C=0.1, degree=3, gamma=0.1, kernel=poly;, score=(train=0.543, test=0.544) total time= 4.0min\n",
            "[CV 2/5] END C=0.1, degree=3, gamma=0.1, kernel=poly;, score=(train=0.541, test=0.545) total time= 3.8min\n",
            "[CV 3/5] END C=0.1, degree=3, gamma=0.1, kernel=poly;, score=(train=0.543, test=0.539) total time= 4.1min\n",
            "[CV 4/5] END C=0.1, degree=3, gamma=0.1, kernel=poly;, score=(train=0.543, test=0.544) total time= 4.2min\n",
            "[CV 5/5] END C=0.1, degree=3, gamma=0.1, kernel=poly;, score=(train=0.543, test=0.539) total time= 4.1min\n",
            "[CV 1/5] END C=1, degree=1, gamma=10, kernel=poly;, score=(train=0.726, test=0.717) total time= 2.7min\n",
            "[CV 2/5] END C=1, degree=1, gamma=10, kernel=poly;, score=(train=0.717, test=0.712) total time= 2.8min\n",
            "[CV 3/5] END C=1, degree=1, gamma=10, kernel=poly;, score=(train=0.719, test=0.710) total time= 2.9min\n",
            "[CV 4/5] END C=1, degree=1, gamma=10, kernel=poly;, score=(train=0.716, test=0.714) total time= 2.8min\n",
            "[CV 5/5] END C=1, degree=1, gamma=10, kernel=poly;, score=(train=0.725, test=0.720) total time= 2.8min\n",
            "[CV 1/5] END C=1, degree=1, gamma=5, kernel=poly;, score=(train=0.726, test=0.720) total time= 2.7min\n",
            "[CV 2/5] END C=1, degree=1, gamma=5, kernel=poly;, score=(train=0.716, test=0.711) total time= 2.7min\n",
            "[CV 3/5] END C=1, degree=1, gamma=5, kernel=poly;, score=(train=0.714, test=0.706) total time= 2.6min\n",
            "[CV 4/5] END C=1, degree=1, gamma=5, kernel=poly;, score=(train=0.716, test=0.716) total time= 2.6min\n",
            "[CV 5/5] END C=1, degree=1, gamma=5, kernel=poly;, score=(train=0.726, test=0.720) total time= 2.7min\n",
            "[CV 1/5] END C=1, degree=1, gamma=1, kernel=poly;, score=(train=0.725, test=0.718) total time= 2.5min\n",
            "[CV 2/5] END C=1, degree=1, gamma=1, kernel=poly;, score=(train=0.715, test=0.706) total time= 2.6min\n",
            "[CV 3/5] END C=1, degree=1, gamma=1, kernel=poly;, score=(train=0.717, test=0.709) total time= 2.6min\n",
            "[CV 4/5] END C=1, degree=1, gamma=1, kernel=poly;, score=(train=0.716, test=0.714) total time= 2.5min\n",
            "[CV 5/5] END C=1, degree=1, gamma=1, kernel=poly;, score=(train=0.724, test=0.721) total time= 2.4min\n",
            "[CV 1/5] END C=1, degree=1, gamma=0.1, kernel=poly;, score=(train=0.721, test=0.714) total time= 2.5min\n",
            "[CV 2/5] END C=1, degree=1, gamma=0.1, kernel=poly;, score=(train=0.722, test=0.717) total time= 2.5min\n",
            "[CV 3/5] END C=1, degree=1, gamma=0.1, kernel=poly;, score=(train=0.725, test=0.719) total time= 2.6min\n",
            "[CV 4/5] END C=1, degree=1, gamma=0.1, kernel=poly;, score=(train=0.721, test=0.721) total time= 2.6min\n",
            "[CV 5/5] END C=1, degree=1, gamma=0.1, kernel=poly;, score=(train=0.721, test=0.718) total time= 2.6min\n",
            "[CV 1/5] END C=1, degree=2, gamma=10, kernel=poly;, score=(train=0.764, test=0.734) total time= 3.1min\n",
            "[CV 2/5] END C=1, degree=2, gamma=10, kernel=poly;, score=(train=0.765, test=0.729) total time= 3.3min\n",
            "[CV 3/5] END C=1, degree=2, gamma=10, kernel=poly;, score=(train=0.763, test=0.734) total time= 2.9min\n",
            "[CV 4/5] END C=1, degree=2, gamma=10, kernel=poly;, score=(train=0.764, test=0.734) total time= 3.1min\n",
            "[CV 5/5] END C=1, degree=2, gamma=10, kernel=poly;, score=(train=0.764, test=0.734) total time= 3.2min\n",
            "[CV 1/5] END C=1, degree=2, gamma=5, kernel=poly;, score=(train=0.764, test=0.735) total time= 2.5min\n",
            "[CV 2/5] END C=1, degree=2, gamma=5, kernel=poly;, score=(train=0.765, test=0.729) total time= 2.6min\n",
            "[CV 3/5] END C=1, degree=2, gamma=5, kernel=poly;, score=(train=0.763, test=0.734) total time= 2.5min\n",
            "[CV 4/5] END C=1, degree=2, gamma=5, kernel=poly;, score=(train=0.764, test=0.734) total time= 2.9min\n",
            "[CV 5/5] END C=1, degree=2, gamma=5, kernel=poly;, score=(train=0.764, test=0.734) total time= 2.8min\n",
            "[CV 1/5] END C=1, degree=2, gamma=1, kernel=poly;, score=(train=0.761, test=0.738) total time= 2.3min\n",
            "[CV 2/5] END C=1, degree=2, gamma=1, kernel=poly;, score=(train=0.761, test=0.736) total time= 2.3min\n",
            "[CV 3/5] END C=1, degree=2, gamma=1, kernel=poly;, score=(train=0.760, test=0.739) total time= 2.4min\n",
            "[CV 4/5] END C=1, degree=2, gamma=1, kernel=poly;, score=(train=0.760, test=0.738) total time= 2.3min\n",
            "[CV 5/5] END C=1, degree=2, gamma=1, kernel=poly;, score=(train=0.761, test=0.740) total time= 2.3min\n",
            "[CV 1/5] END C=1, degree=2, gamma=0.1, kernel=poly;, score=(train=0.709, test=0.700) total time= 3.1min\n",
            "[CV 2/5] END C=1, degree=2, gamma=0.1, kernel=poly;, score=(train=0.704, test=0.702) total time= 3.0min\n",
            "[CV 3/5] END C=1, degree=2, gamma=0.1, kernel=poly;, score=(train=0.708, test=0.705) total time= 3.0min\n",
            "[CV 4/5] END C=1, degree=2, gamma=0.1, kernel=poly;, score=(train=0.706, test=0.707) total time= 3.0min\n",
            "[CV 5/5] END C=1, degree=2, gamma=0.1, kernel=poly;, score=(train=0.705, test=0.695) total time= 3.1min\n",
            "[CV 1/5] END C=1, degree=3, gamma=10, kernel=poly;, score=(train=0.765, test=0.737) total time= 2.1min\n",
            "[CV 2/5] END C=1, degree=3, gamma=10, kernel=poly;, score=(train=0.767, test=0.731) total time= 2.1min\n",
            "[CV 3/5] END C=1, degree=3, gamma=10, kernel=poly;, score=(train=0.765, test=0.738) total time= 2.1min\n",
            "[CV 4/5] END C=1, degree=3, gamma=10, kernel=poly;, score=(train=0.765, test=0.735) total time= 2.2min\n",
            "[CV 5/5] END C=1, degree=3, gamma=10, kernel=poly;, score=(train=0.766, test=0.733) total time= 2.2min\n",
            "[CV 1/5] END C=1, degree=3, gamma=5, kernel=poly;, score=(train=0.765, test=0.737) total time= 2.2min\n",
            "[CV 2/5] END C=1, degree=3, gamma=5, kernel=poly;, score=(train=0.767, test=0.731) total time= 2.2min\n",
            "[CV 3/5] END C=1, degree=3, gamma=5, kernel=poly;, score=(train=0.765, test=0.738) total time= 2.2min\n",
            "[CV 4/5] END C=1, degree=3, gamma=5, kernel=poly;, score=(train=0.765, test=0.735) total time= 2.1min\n",
            "[CV 5/5] END C=1, degree=3, gamma=5, kernel=poly;, score=(train=0.766, test=0.733) total time= 2.2min\n",
            "[CV 1/5] END C=1, degree=3, gamma=1, kernel=poly;, score=(train=0.765, test=0.739) total time= 2.2min\n",
            "[CV 2/5] END C=1, degree=3, gamma=1, kernel=poly;, score=(train=0.766, test=0.733) total time= 2.2min\n",
            "[CV 3/5] END C=1, degree=3, gamma=1, kernel=poly;, score=(train=0.764, test=0.738) total time= 2.2min\n",
            "[CV 4/5] END C=1, degree=3, gamma=1, kernel=poly;, score=(train=0.765, test=0.738) total time= 2.2min\n",
            "[CV 5/5] END C=1, degree=3, gamma=1, kernel=poly;, score=(train=0.765, test=0.735) total time= 2.2min\n",
            "[CV 1/5] END C=1, degree=3, gamma=0.1, kernel=poly;, score=(train=0.662, test=0.663) total time= 3.8min\n",
            "[CV 2/5] END C=1, degree=3, gamma=0.1, kernel=poly;, score=(train=0.662, test=0.660) total time= 3.8min\n",
            "[CV 3/5] END C=1, degree=3, gamma=0.1, kernel=poly;, score=(train=0.662, test=0.660) total time= 3.7min\n",
            "[CV 4/5] END C=1, degree=3, gamma=0.1, kernel=poly;, score=(train=0.661, test=0.661) total time= 3.8min\n",
            "[CV 5/5] END C=1, degree=3, gamma=0.1, kernel=poly;, score=(train=0.662, test=0.658) total time= 3.7min\n",
            "[CV 1/5] END C=10, degree=1, gamma=10, kernel=poly;, score=(train=0.716, test=0.711) total time= 4.2min\n",
            "[CV 2/5] END C=10, degree=1, gamma=10, kernel=poly;, score=(train=0.717, test=0.712) total time= 4.6min\n",
            "[CV 3/5] END C=10, degree=1, gamma=10, kernel=poly;, score=(train=0.718, test=0.709) total time= 4.6min\n",
            "[CV 4/5] END C=10, degree=1, gamma=10, kernel=poly;, score=(train=0.717, test=0.716) total time= 4.2min\n",
            "[CV 5/5] END C=10, degree=1, gamma=10, kernel=poly;, score=(train=0.724, test=0.719) total time= 4.5min\n",
            "[CV 1/5] END C=10, degree=1, gamma=5, kernel=poly;, score=(train=0.716, test=0.707) total time= 3.5min\n",
            "[CV 2/5] END C=10, degree=1, gamma=5, kernel=poly;, score=(train=0.717, test=0.710) total time= 3.7min\n",
            "[CV 3/5] END C=10, degree=1, gamma=5, kernel=poly;, score=(train=0.718, test=0.706) total time= 3.7min\n",
            "[CV 4/5] END C=10, degree=1, gamma=5, kernel=poly;, score=(train=0.716, test=0.715) total time= 3.5min\n",
            "[CV 5/5] END C=10, degree=1, gamma=5, kernel=poly;, score=(train=0.724, test=0.718) total time= 3.7min\n",
            "[CV 1/5] END C=10, degree=1, gamma=1, kernel=poly;, score=(train=0.726, test=0.720) total time= 2.8min\n",
            "[CV 2/5] END C=10, degree=1, gamma=1, kernel=poly;, score=(train=0.717, test=0.711) total time= 2.9min\n",
            "[CV 3/5] END C=10, degree=1, gamma=1, kernel=poly;, score=(train=0.714, test=0.704) total time= 2.8min\n",
            "[CV 4/5] END C=10, degree=1, gamma=1, kernel=poly;, score=(train=0.717, test=0.714) total time= 2.9min\n",
            "[CV 5/5] END C=10, degree=1, gamma=1, kernel=poly;, score=(train=0.724, test=0.718) total time= 2.8min\n",
            "[CV 1/5] END C=10, degree=1, gamma=0.1, kernel=poly;, score=(train=0.726, test=0.719) total time= 2.5min\n",
            "[CV 2/5] END C=10, degree=1, gamma=0.1, kernel=poly;, score=(train=0.716, test=0.708) total time= 2.6min\n",
            "[CV 3/5] END C=10, degree=1, gamma=0.1, kernel=poly;, score=(train=0.715, test=0.706) total time= 2.5min\n",
            "[CV 4/5] END C=10, degree=1, gamma=0.1, kernel=poly;, score=(train=0.724, test=0.725) total time= 2.5min\n",
            "[CV 5/5] END C=10, degree=1, gamma=0.1, kernel=poly;, score=(train=0.725, test=0.719) total time= 2.6min\n",
            "[CV 1/5] END C=10, degree=2, gamma=10, kernel=poly;, score=(train=0.764, test=0.734) total time= 7.4min\n",
            "[CV 2/5] END C=10, degree=2, gamma=10, kernel=poly;, score=(train=0.765, test=0.729) total time= 9.6min\n",
            "[CV 3/5] END C=10, degree=2, gamma=10, kernel=poly;, score=(train=0.763, test=0.734) total time= 7.8min\n",
            "[CV 4/5] END C=10, degree=2, gamma=10, kernel=poly;, score=(train=0.764, test=0.734) total time= 7.4min\n",
            "[CV 5/5] END C=10, degree=2, gamma=10, kernel=poly;, score=(train=0.764, test=0.734) total time= 9.6min\n",
            "[CV 1/5] END C=10, degree=2, gamma=5, kernel=poly;, score=(train=0.764, test=0.734) total time= 3.7min\n",
            "[CV 2/5] END C=10, degree=2, gamma=5, kernel=poly;, score=(train=0.765, test=0.729) total time= 4.3min\n",
            "[CV 3/5] END C=10, degree=2, gamma=5, kernel=poly;, score=(train=0.763, test=0.734) total time= 3.8min\n",
            "[CV 4/5] END C=10, degree=2, gamma=5, kernel=poly;, score=(train=0.764, test=0.734) total time= 3.8min\n",
            "[CV 5/5] END C=10, degree=2, gamma=5, kernel=poly;, score=(train=0.764, test=0.734) total time= 4.2min\n",
            "[CV 1/5] END C=10, degree=2, gamma=1, kernel=poly;, score=(train=0.764, test=0.736) total time= 2.5min\n",
            "[CV 2/5] END C=10, degree=2, gamma=1, kernel=poly;, score=(train=0.765, test=0.729) total time= 2.6min\n",
            "[CV 3/5] END C=10, degree=2, gamma=1, kernel=poly;, score=(train=0.763, test=0.734) total time= 2.4min\n",
            "[CV 4/5] END C=10, degree=2, gamma=1, kernel=poly;, score=(train=0.764, test=0.734) total time= 2.5min\n",
            "[CV 5/5] END C=10, degree=2, gamma=1, kernel=poly;, score=(train=0.764, test=0.734) total time= 2.4min\n",
            "[CV 1/5] END C=10, degree=2, gamma=0.1, kernel=poly;, score=(train=0.743, test=0.728) total time= 2.4min\n",
            "[CV 2/5] END C=10, degree=2, gamma=0.1, kernel=poly;, score=(train=0.742, test=0.728) total time= 2.4min\n",
            "[CV 3/5] END C=10, degree=2, gamma=0.1, kernel=poly;, score=(train=0.743, test=0.729) total time= 2.3min\n",
            "[CV 4/5] END C=10, degree=2, gamma=0.1, kernel=poly;, score=(train=0.741, test=0.734) total time= 2.3min\n",
            "[CV 5/5] END C=10, degree=2, gamma=0.1, kernel=poly;, score=(train=0.742, test=0.735) total time= 2.3min\n",
            "[CV 1/5] END C=10, degree=3, gamma=10, kernel=poly;, score=(train=0.765, test=0.737) total time= 2.1min\n",
            "[CV 2/5] END C=10, degree=3, gamma=10, kernel=poly;, score=(train=0.767, test=0.731) total time= 2.1min\n",
            "[CV 3/5] END C=10, degree=3, gamma=10, kernel=poly;, score=(train=0.765, test=0.738) total time= 2.1min\n",
            "[CV 4/5] END C=10, degree=3, gamma=10, kernel=poly;, score=(train=0.765, test=0.735) total time= 2.1min\n",
            "[CV 5/5] END C=10, degree=3, gamma=10, kernel=poly;, score=(train=0.766, test=0.733) total time= 1.9min\n"
          ]
        }
      ],
      "source": [
        "grid_bear.fit(df_bear_train.iloc[:,:-1],df_bear_train['labels'])\n",
        "print(grid_bear.best_estimator_)\n",
        "\n",
        "import joblib\n",
        "fn_gridsearch_bear = path + 'grid_search_bear.pkl'\n",
        "#save your model or results\n",
        "joblib.dump(grid_bear, fn_gridsearch_bear)"
      ]
    },
    {
      "cell_type": "code",
      "execution_count": null,
      "metadata": {
        "id": "ky6EvuhTANyQ"
      },
      "outputs": [],
      "source": [
        "grid_bull = GridSearchCV(SVC(cache_size=4000), param_grid, refit = True, verbose = 3, return_train_score = True)\n",
        "grid_bull.fit(df_bull_train.iloc[:,:-1],df_bull_train['labels'])\n",
        "print(grid_bull.best_estimator_)\n",
        "\n",
        "import joblib\n",
        "fn_gridsearch_bull = path + 'grid_search_bull.pkl'\n",
        "#save your model or results\n",
        "joblib.dump(grid_bull, fn_gridsearch_bull)"
      ]
    },
    {
      "cell_type": "code",
      "execution_count": null,
      "metadata": {
        "colab": {
          "base_uri": "https://localhost:8080/"
        },
        "id": "UX0AD2kA-nkv",
        "outputId": "64478939-5829-4d41-bd6c-57f1ec770f77"
      },
      "outputs": [
        {
          "name": "stdout",
          "output_type": "stream",
          "text": [
            "SVC(C=1, cache_size=4000, degree=1, gamma=1)\n"
          ]
        }
      ],
      "source": [
        "print(grid_bear.best_estimator_)"
      ]
    },
    {
      "cell_type": "code",
      "execution_count": null,
      "metadata": {
        "colab": {
          "base_uri": "https://localhost:8080/"
        },
        "id": "b2dJYEDJ88kZ",
        "outputId": "b2f98cc9-58c8-4de8-cbfa-e372174082c1"
      },
      "outputs": [
        {
          "data": {
            "text/plain": [
              "['/content/drive/MyDrive/Data_Thesis_Temp/SA_files/emoji-classifier/grid_search_bear.pkl']"
            ]
          },
          "execution_count": 361,
          "metadata": {},
          "output_type": "execute_result"
        }
      ],
      "source": [
        "import joblib\n",
        "fn_gridsearch_bear = path + 'grid_search_bear.pkl'\n",
        "#save your model or results\n",
        "joblib.dump(grid_bear, fn_gridsearch_bear)\n",
        "\n",
        "#load your model for further usage\n",
        "# joblib.load(\"model_file_name.pkl\")\n"
      ]
    },
    {
      "cell_type": "markdown",
      "metadata": {
        "id": "5JYEKn47k83a"
      },
      "source": [
        "## Testing the Emoji Lexicon on Validation Dataset of Stocktwits 01.05.22-15.06.22"
      ]
    },
    {
      "cell_type": "code",
      "execution_count": null,
      "metadata": {
        "colab": {
          "base_uri": "https://localhost:8080/"
        },
        "id": "5n9ehq-9mImz",
        "outputId": "1ae8892d-75d0-4dec-8024-9340b0da2467"
      },
      "outputs": [
        {
          "name": "stdout",
          "output_type": "stream",
          "text": [
            "Looking in indexes: https://pypi.org/simple, https://us-python.pkg.dev/colab-wheels/public/simple/\n",
            "Requirement already satisfied: emoji in /usr/local/lib/python3.7/dist-packages (1.7.0)\n"
          ]
        }
      ],
      "source": [
        "!pip install emoji"
      ]
    },
    {
      "cell_type": "code",
      "execution_count": null,
      "metadata": {
        "id": "3W2KQADvlD_Q"
      },
      "outputs": [],
      "source": [
        "import pandas as pd\n",
        "import numpy as np\n",
        "import emoji\n",
        "\n",
        "path = '/content/drive/MyDrive/Data_Thesis_Temp/SA_files/'\n",
        "fn_bull = path + 'posts-bull-test.txt'\n",
        "fn_net = path + 'posts-net-test.txt'\n",
        "fn_bear = path + 'posts-bear-test.txt'\n",
        "fn_emo = path + 'emos_voc.txt'\n",
        "\n",
        "path_lex = '/content/drive/MyDrive/Data_Thesis_Temp/SA_files/emoji-classifier/Crypto-Emoji-Lexicon/'\n",
        "fn_lex_bear_double = path_lex + 'bear-emoji-double.xlsx'\n",
        "fn_lex_bull_double = path_lex + 'bull-emoji-double.xlsx'\n",
        "\n",
        "fn_lex_bear_single = path_lex + 'emoji-lexi-bear-single.txt'\n",
        "fn_lex_bull_single = path_lex + 'emoji-lexi-bull-single.txt'"
      ]
    },
    {
      "cell_type": "code",
      "execution_count": null,
      "metadata": {
        "id": "91hdnWBvm2hu"
      },
      "outputs": [],
      "source": [
        "config = open(fn_lex_bear_single, \"r\")\n",
        "emos_bear_single = config.read().splitlines()\n",
        "config.close()\n",
        "config = open(fn_lex_bull_single, \"r\")\n",
        "emos_bull_single = config.read().splitlines()\n",
        "config.close()\n",
        "config = open(fn_bear, \"r\")\n",
        "df_test_bear = config.read().splitlines()\n",
        "config.close()\n",
        "config = open(fn_bull, \"r\")\n",
        "df_test_bull = config.read().splitlines()\n",
        "config.close()\n",
        "config = open(fn_net, \"r\")\n",
        "df_test_net = config.read().splitlines()\n",
        "config.close()"
      ]
    },
    {
      "cell_type": "code",
      "execution_count": null,
      "metadata": {
        "id": "mFr_YKyynWUi"
      },
      "outputs": [],
      "source": [
        "emos_bear_double = pd.read_excel(fn_lex_bear_double)\n",
        "emos_bull_double = pd.read_excel(fn_lex_bull_double)\n",
        "emos_bear_double = emos_bear_double.iloc[:,1:]\n",
        "emos_bull_double = emos_bull_double.iloc[:,1:]"
      ]
    },
    {
      "cell_type": "code",
      "execution_count": null,
      "metadata": {
        "id": "WgNOEf2Mnshu"
      },
      "outputs": [],
      "source": [
        "emos_bear_double"
      ]
    },
    {
      "cell_type": "code",
      "execution_count": null,
      "metadata": {
        "id": "JKBxcMHpoF1Z"
      },
      "outputs": [],
      "source": [
        "df = emos_bear_double.copy()"
      ]
    },
    {
      "cell_type": "code",
      "execution_count": null,
      "metadata": {
        "id": "Zq32iwh-oNR3"
      },
      "outputs": [],
      "source": []
    }
  ],
  "metadata": {
    "colab": {
      "collapsed_sections": [
        "MfKh0TUzdpaM"
      ],
      "machine_shape": "hm",
      "provenance": [],
      "toc_visible": true
    },
    "gpuClass": "standard",
    "kernelspec": {
      "display_name": "Python 3",
      "name": "python3"
    },
    "language_info": {
      "name": "python"
    }
  },
  "nbformat": 4,
  "nbformat_minor": 0
}