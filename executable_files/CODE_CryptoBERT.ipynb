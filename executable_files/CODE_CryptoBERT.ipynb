{
  "nbformat": 4,
  "nbformat_minor": 0,
  "metadata": {
    "colab": {
      "provenance": [],
      "collapsed_sections": [
        "76wYBxnto0K-"
      ]
    },
    "kernelspec": {
      "name": "python3",
      "display_name": "Python 3"
    },
    "language_info": {
      "name": "python"
    },
    "widgets": {
      "application/vnd.jupyter.widget-state+json": {
        "5818893872e44463b35d1ca68534c59b": {
          "model_module": "@jupyter-widgets/controls",
          "model_name": "HBoxModel",
          "model_module_version": "1.5.0",
          "state": {
            "_dom_classes": [],
            "_model_module": "@jupyter-widgets/controls",
            "_model_module_version": "1.5.0",
            "_model_name": "HBoxModel",
            "_view_count": null,
            "_view_module": "@jupyter-widgets/controls",
            "_view_module_version": "1.5.0",
            "_view_name": "HBoxView",
            "box_style": "",
            "children": [
              "IPY_MODEL_d60f9ced6bfc4e409a9816b7b0f49736",
              "IPY_MODEL_6ad668f31e0e42a287f8d6e6c0226cc3",
              "IPY_MODEL_2e7f5d2c732f42bb9feda65e36f3fc01"
            ],
            "layout": "IPY_MODEL_b93aae13c8e94e208b5c52512d4a7751"
          }
        },
        "d60f9ced6bfc4e409a9816b7b0f49736": {
          "model_module": "@jupyter-widgets/controls",
          "model_name": "HTMLModel",
          "model_module_version": "1.5.0",
          "state": {
            "_dom_classes": [],
            "_model_module": "@jupyter-widgets/controls",
            "_model_module_version": "1.5.0",
            "_model_name": "HTMLModel",
            "_view_count": null,
            "_view_module": "@jupyter-widgets/controls",
            "_view_module_version": "1.5.0",
            "_view_name": "HTMLView",
            "description": "",
            "description_tooltip": null,
            "layout": "IPY_MODEL_ebccc2cbd29d4e1692ec431d1b5fe1c7",
            "placeholder": "​",
            "style": "IPY_MODEL_b351250595714ffbb49da046837f8088",
            "value": "Downloading config.json: 100%"
          }
        },
        "6ad668f31e0e42a287f8d6e6c0226cc3": {
          "model_module": "@jupyter-widgets/controls",
          "model_name": "FloatProgressModel",
          "model_module_version": "1.5.0",
          "state": {
            "_dom_classes": [],
            "_model_module": "@jupyter-widgets/controls",
            "_model_module_version": "1.5.0",
            "_model_name": "FloatProgressModel",
            "_view_count": null,
            "_view_module": "@jupyter-widgets/controls",
            "_view_module_version": "1.5.0",
            "_view_name": "ProgressView",
            "bar_style": "success",
            "description": "",
            "description_tooltip": null,
            "layout": "IPY_MODEL_66e4521619834c3d9df55b4d75e192c3",
            "max": 565,
            "min": 0,
            "orientation": "horizontal",
            "style": "IPY_MODEL_091d71cec0f441beb781d617a24f8d6e",
            "value": 565
          }
        },
        "2e7f5d2c732f42bb9feda65e36f3fc01": {
          "model_module": "@jupyter-widgets/controls",
          "model_name": "HTMLModel",
          "model_module_version": "1.5.0",
          "state": {
            "_dom_classes": [],
            "_model_module": "@jupyter-widgets/controls",
            "_model_module_version": "1.5.0",
            "_model_name": "HTMLModel",
            "_view_count": null,
            "_view_module": "@jupyter-widgets/controls",
            "_view_module_version": "1.5.0",
            "_view_name": "HTMLView",
            "description": "",
            "description_tooltip": null,
            "layout": "IPY_MODEL_5840fbaeeee2481585ea7e00e0b6450f",
            "placeholder": "​",
            "style": "IPY_MODEL_87f8d3bbccf443a5b841713334046a65",
            "value": " 565/565 [00:00&lt;00:00, 11.5kB/s]"
          }
        },
        "b93aae13c8e94e208b5c52512d4a7751": {
          "model_module": "@jupyter-widgets/base",
          "model_name": "LayoutModel",
          "model_module_version": "1.2.0",
          "state": {
            "_model_module": "@jupyter-widgets/base",
            "_model_module_version": "1.2.0",
            "_model_name": "LayoutModel",
            "_view_count": null,
            "_view_module": "@jupyter-widgets/base",
            "_view_module_version": "1.2.0",
            "_view_name": "LayoutView",
            "align_content": null,
            "align_items": null,
            "align_self": null,
            "border": null,
            "bottom": null,
            "display": null,
            "flex": null,
            "flex_flow": null,
            "grid_area": null,
            "grid_auto_columns": null,
            "grid_auto_flow": null,
            "grid_auto_rows": null,
            "grid_column": null,
            "grid_gap": null,
            "grid_row": null,
            "grid_template_areas": null,
            "grid_template_columns": null,
            "grid_template_rows": null,
            "height": null,
            "justify_content": null,
            "justify_items": null,
            "left": null,
            "margin": null,
            "max_height": null,
            "max_width": null,
            "min_height": null,
            "min_width": null,
            "object_fit": null,
            "object_position": null,
            "order": null,
            "overflow": null,
            "overflow_x": null,
            "overflow_y": null,
            "padding": null,
            "right": null,
            "top": null,
            "visibility": null,
            "width": null
          }
        },
        "ebccc2cbd29d4e1692ec431d1b5fe1c7": {
          "model_module": "@jupyter-widgets/base",
          "model_name": "LayoutModel",
          "model_module_version": "1.2.0",
          "state": {
            "_model_module": "@jupyter-widgets/base",
            "_model_module_version": "1.2.0",
            "_model_name": "LayoutModel",
            "_view_count": null,
            "_view_module": "@jupyter-widgets/base",
            "_view_module_version": "1.2.0",
            "_view_name": "LayoutView",
            "align_content": null,
            "align_items": null,
            "align_self": null,
            "border": null,
            "bottom": null,
            "display": null,
            "flex": null,
            "flex_flow": null,
            "grid_area": null,
            "grid_auto_columns": null,
            "grid_auto_flow": null,
            "grid_auto_rows": null,
            "grid_column": null,
            "grid_gap": null,
            "grid_row": null,
            "grid_template_areas": null,
            "grid_template_columns": null,
            "grid_template_rows": null,
            "height": null,
            "justify_content": null,
            "justify_items": null,
            "left": null,
            "margin": null,
            "max_height": null,
            "max_width": null,
            "min_height": null,
            "min_width": null,
            "object_fit": null,
            "object_position": null,
            "order": null,
            "overflow": null,
            "overflow_x": null,
            "overflow_y": null,
            "padding": null,
            "right": null,
            "top": null,
            "visibility": null,
            "width": null
          }
        },
        "b351250595714ffbb49da046837f8088": {
          "model_module": "@jupyter-widgets/controls",
          "model_name": "DescriptionStyleModel",
          "model_module_version": "1.5.0",
          "state": {
            "_model_module": "@jupyter-widgets/controls",
            "_model_module_version": "1.5.0",
            "_model_name": "DescriptionStyleModel",
            "_view_count": null,
            "_view_module": "@jupyter-widgets/base",
            "_view_module_version": "1.2.0",
            "_view_name": "StyleView",
            "description_width": ""
          }
        },
        "66e4521619834c3d9df55b4d75e192c3": {
          "model_module": "@jupyter-widgets/base",
          "model_name": "LayoutModel",
          "model_module_version": "1.2.0",
          "state": {
            "_model_module": "@jupyter-widgets/base",
            "_model_module_version": "1.2.0",
            "_model_name": "LayoutModel",
            "_view_count": null,
            "_view_module": "@jupyter-widgets/base",
            "_view_module_version": "1.2.0",
            "_view_name": "LayoutView",
            "align_content": null,
            "align_items": null,
            "align_self": null,
            "border": null,
            "bottom": null,
            "display": null,
            "flex": null,
            "flex_flow": null,
            "grid_area": null,
            "grid_auto_columns": null,
            "grid_auto_flow": null,
            "grid_auto_rows": null,
            "grid_column": null,
            "grid_gap": null,
            "grid_row": null,
            "grid_template_areas": null,
            "grid_template_columns": null,
            "grid_template_rows": null,
            "height": null,
            "justify_content": null,
            "justify_items": null,
            "left": null,
            "margin": null,
            "max_height": null,
            "max_width": null,
            "min_height": null,
            "min_width": null,
            "object_fit": null,
            "object_position": null,
            "order": null,
            "overflow": null,
            "overflow_x": null,
            "overflow_y": null,
            "padding": null,
            "right": null,
            "top": null,
            "visibility": null,
            "width": null
          }
        },
        "091d71cec0f441beb781d617a24f8d6e": {
          "model_module": "@jupyter-widgets/controls",
          "model_name": "ProgressStyleModel",
          "model_module_version": "1.5.0",
          "state": {
            "_model_module": "@jupyter-widgets/controls",
            "_model_module_version": "1.5.0",
            "_model_name": "ProgressStyleModel",
            "_view_count": null,
            "_view_module": "@jupyter-widgets/base",
            "_view_module_version": "1.2.0",
            "_view_name": "StyleView",
            "bar_color": null,
            "description_width": ""
          }
        },
        "5840fbaeeee2481585ea7e00e0b6450f": {
          "model_module": "@jupyter-widgets/base",
          "model_name": "LayoutModel",
          "model_module_version": "1.2.0",
          "state": {
            "_model_module": "@jupyter-widgets/base",
            "_model_module_version": "1.2.0",
            "_model_name": "LayoutModel",
            "_view_count": null,
            "_view_module": "@jupyter-widgets/base",
            "_view_module_version": "1.2.0",
            "_view_name": "LayoutView",
            "align_content": null,
            "align_items": null,
            "align_self": null,
            "border": null,
            "bottom": null,
            "display": null,
            "flex": null,
            "flex_flow": null,
            "grid_area": null,
            "grid_auto_columns": null,
            "grid_auto_flow": null,
            "grid_auto_rows": null,
            "grid_column": null,
            "grid_gap": null,
            "grid_row": null,
            "grid_template_areas": null,
            "grid_template_columns": null,
            "grid_template_rows": null,
            "height": null,
            "justify_content": null,
            "justify_items": null,
            "left": null,
            "margin": null,
            "max_height": null,
            "max_width": null,
            "min_height": null,
            "min_width": null,
            "object_fit": null,
            "object_position": null,
            "order": null,
            "overflow": null,
            "overflow_x": null,
            "overflow_y": null,
            "padding": null,
            "right": null,
            "top": null,
            "visibility": null,
            "width": null
          }
        },
        "87f8d3bbccf443a5b841713334046a65": {
          "model_module": "@jupyter-widgets/controls",
          "model_name": "DescriptionStyleModel",
          "model_module_version": "1.5.0",
          "state": {
            "_model_module": "@jupyter-widgets/controls",
            "_model_module_version": "1.5.0",
            "_model_name": "DescriptionStyleModel",
            "_view_count": null,
            "_view_module": "@jupyter-widgets/base",
            "_view_module_version": "1.2.0",
            "_view_name": "StyleView",
            "description_width": ""
          }
        },
        "af5420b424ac473db26669a495a70a70": {
          "model_module": "@jupyter-widgets/controls",
          "model_name": "HBoxModel",
          "model_module_version": "1.5.0",
          "state": {
            "_dom_classes": [],
            "_model_module": "@jupyter-widgets/controls",
            "_model_module_version": "1.5.0",
            "_model_name": "HBoxModel",
            "_view_count": null,
            "_view_module": "@jupyter-widgets/controls",
            "_view_module_version": "1.5.0",
            "_view_name": "HBoxView",
            "box_style": "",
            "children": [
              "IPY_MODEL_d5446c718cdf4f91baac314621076954",
              "IPY_MODEL_e0a2e505cb13413aa5a719678f7ab617",
              "IPY_MODEL_bb584bdafabb499f8654347f1498e4fb"
            ],
            "layout": "IPY_MODEL_aafb1ebef2dc48f8aeac09c36a095886"
          }
        },
        "d5446c718cdf4f91baac314621076954": {
          "model_module": "@jupyter-widgets/controls",
          "model_name": "HTMLModel",
          "model_module_version": "1.5.0",
          "state": {
            "_dom_classes": [],
            "_model_module": "@jupyter-widgets/controls",
            "_model_module_version": "1.5.0",
            "_model_name": "HTMLModel",
            "_view_count": null,
            "_view_module": "@jupyter-widgets/controls",
            "_view_module_version": "1.5.0",
            "_view_name": "HTMLView",
            "description": "",
            "description_tooltip": null,
            "layout": "IPY_MODEL_6c7677ee4400406693f32ff80dadc926",
            "placeholder": "​",
            "style": "IPY_MODEL_ebe3711b58be46f283d4722017f07315",
            "value": "Downloading vocab.json: 100%"
          }
        },
        "e0a2e505cb13413aa5a719678f7ab617": {
          "model_module": "@jupyter-widgets/controls",
          "model_name": "FloatProgressModel",
          "model_module_version": "1.5.0",
          "state": {
            "_dom_classes": [],
            "_model_module": "@jupyter-widgets/controls",
            "_model_module_version": "1.5.0",
            "_model_name": "FloatProgressModel",
            "_view_count": null,
            "_view_module": "@jupyter-widgets/controls",
            "_view_module_version": "1.5.0",
            "_view_name": "ProgressView",
            "bar_style": "success",
            "description": "",
            "description_tooltip": null,
            "layout": "IPY_MODEL_b41c6187485041e48e185ad97481f23a",
            "max": 898823,
            "min": 0,
            "orientation": "horizontal",
            "style": "IPY_MODEL_036315192a8a41348c0a709283e51dfe",
            "value": 898823
          }
        },
        "bb584bdafabb499f8654347f1498e4fb": {
          "model_module": "@jupyter-widgets/controls",
          "model_name": "HTMLModel",
          "model_module_version": "1.5.0",
          "state": {
            "_dom_classes": [],
            "_model_module": "@jupyter-widgets/controls",
            "_model_module_version": "1.5.0",
            "_model_name": "HTMLModel",
            "_view_count": null,
            "_view_module": "@jupyter-widgets/controls",
            "_view_module_version": "1.5.0",
            "_view_name": "HTMLView",
            "description": "",
            "description_tooltip": null,
            "layout": "IPY_MODEL_5224ece0215349609dee8e7847bbe8d0",
            "placeholder": "​",
            "style": "IPY_MODEL_3727b53c2c8944e98110a277a78a5bfa",
            "value": " 878k/878k [00:01&lt;00:00, 1.12MB/s]"
          }
        },
        "aafb1ebef2dc48f8aeac09c36a095886": {
          "model_module": "@jupyter-widgets/base",
          "model_name": "LayoutModel",
          "model_module_version": "1.2.0",
          "state": {
            "_model_module": "@jupyter-widgets/base",
            "_model_module_version": "1.2.0",
            "_model_name": "LayoutModel",
            "_view_count": null,
            "_view_module": "@jupyter-widgets/base",
            "_view_module_version": "1.2.0",
            "_view_name": "LayoutView",
            "align_content": null,
            "align_items": null,
            "align_self": null,
            "border": null,
            "bottom": null,
            "display": null,
            "flex": null,
            "flex_flow": null,
            "grid_area": null,
            "grid_auto_columns": null,
            "grid_auto_flow": null,
            "grid_auto_rows": null,
            "grid_column": null,
            "grid_gap": null,
            "grid_row": null,
            "grid_template_areas": null,
            "grid_template_columns": null,
            "grid_template_rows": null,
            "height": null,
            "justify_content": null,
            "justify_items": null,
            "left": null,
            "margin": null,
            "max_height": null,
            "max_width": null,
            "min_height": null,
            "min_width": null,
            "object_fit": null,
            "object_position": null,
            "order": null,
            "overflow": null,
            "overflow_x": null,
            "overflow_y": null,
            "padding": null,
            "right": null,
            "top": null,
            "visibility": null,
            "width": null
          }
        },
        "6c7677ee4400406693f32ff80dadc926": {
          "model_module": "@jupyter-widgets/base",
          "model_name": "LayoutModel",
          "model_module_version": "1.2.0",
          "state": {
            "_model_module": "@jupyter-widgets/base",
            "_model_module_version": "1.2.0",
            "_model_name": "LayoutModel",
            "_view_count": null,
            "_view_module": "@jupyter-widgets/base",
            "_view_module_version": "1.2.0",
            "_view_name": "LayoutView",
            "align_content": null,
            "align_items": null,
            "align_self": null,
            "border": null,
            "bottom": null,
            "display": null,
            "flex": null,
            "flex_flow": null,
            "grid_area": null,
            "grid_auto_columns": null,
            "grid_auto_flow": null,
            "grid_auto_rows": null,
            "grid_column": null,
            "grid_gap": null,
            "grid_row": null,
            "grid_template_areas": null,
            "grid_template_columns": null,
            "grid_template_rows": null,
            "height": null,
            "justify_content": null,
            "justify_items": null,
            "left": null,
            "margin": null,
            "max_height": null,
            "max_width": null,
            "min_height": null,
            "min_width": null,
            "object_fit": null,
            "object_position": null,
            "order": null,
            "overflow": null,
            "overflow_x": null,
            "overflow_y": null,
            "padding": null,
            "right": null,
            "top": null,
            "visibility": null,
            "width": null
          }
        },
        "ebe3711b58be46f283d4722017f07315": {
          "model_module": "@jupyter-widgets/controls",
          "model_name": "DescriptionStyleModel",
          "model_module_version": "1.5.0",
          "state": {
            "_model_module": "@jupyter-widgets/controls",
            "_model_module_version": "1.5.0",
            "_model_name": "DescriptionStyleModel",
            "_view_count": null,
            "_view_module": "@jupyter-widgets/base",
            "_view_module_version": "1.2.0",
            "_view_name": "StyleView",
            "description_width": ""
          }
        },
        "b41c6187485041e48e185ad97481f23a": {
          "model_module": "@jupyter-widgets/base",
          "model_name": "LayoutModel",
          "model_module_version": "1.2.0",
          "state": {
            "_model_module": "@jupyter-widgets/base",
            "_model_module_version": "1.2.0",
            "_model_name": "LayoutModel",
            "_view_count": null,
            "_view_module": "@jupyter-widgets/base",
            "_view_module_version": "1.2.0",
            "_view_name": "LayoutView",
            "align_content": null,
            "align_items": null,
            "align_self": null,
            "border": null,
            "bottom": null,
            "display": null,
            "flex": null,
            "flex_flow": null,
            "grid_area": null,
            "grid_auto_columns": null,
            "grid_auto_flow": null,
            "grid_auto_rows": null,
            "grid_column": null,
            "grid_gap": null,
            "grid_row": null,
            "grid_template_areas": null,
            "grid_template_columns": null,
            "grid_template_rows": null,
            "height": null,
            "justify_content": null,
            "justify_items": null,
            "left": null,
            "margin": null,
            "max_height": null,
            "max_width": null,
            "min_height": null,
            "min_width": null,
            "object_fit": null,
            "object_position": null,
            "order": null,
            "overflow": null,
            "overflow_x": null,
            "overflow_y": null,
            "padding": null,
            "right": null,
            "top": null,
            "visibility": null,
            "width": null
          }
        },
        "036315192a8a41348c0a709283e51dfe": {
          "model_module": "@jupyter-widgets/controls",
          "model_name": "ProgressStyleModel",
          "model_module_version": "1.5.0",
          "state": {
            "_model_module": "@jupyter-widgets/controls",
            "_model_module_version": "1.5.0",
            "_model_name": "ProgressStyleModel",
            "_view_count": null,
            "_view_module": "@jupyter-widgets/base",
            "_view_module_version": "1.2.0",
            "_view_name": "StyleView",
            "bar_color": null,
            "description_width": ""
          }
        },
        "5224ece0215349609dee8e7847bbe8d0": {
          "model_module": "@jupyter-widgets/base",
          "model_name": "LayoutModel",
          "model_module_version": "1.2.0",
          "state": {
            "_model_module": "@jupyter-widgets/base",
            "_model_module_version": "1.2.0",
            "_model_name": "LayoutModel",
            "_view_count": null,
            "_view_module": "@jupyter-widgets/base",
            "_view_module_version": "1.2.0",
            "_view_name": "LayoutView",
            "align_content": null,
            "align_items": null,
            "align_self": null,
            "border": null,
            "bottom": null,
            "display": null,
            "flex": null,
            "flex_flow": null,
            "grid_area": null,
            "grid_auto_columns": null,
            "grid_auto_flow": null,
            "grid_auto_rows": null,
            "grid_column": null,
            "grid_gap": null,
            "grid_row": null,
            "grid_template_areas": null,
            "grid_template_columns": null,
            "grid_template_rows": null,
            "height": null,
            "justify_content": null,
            "justify_items": null,
            "left": null,
            "margin": null,
            "max_height": null,
            "max_width": null,
            "min_height": null,
            "min_width": null,
            "object_fit": null,
            "object_position": null,
            "order": null,
            "overflow": null,
            "overflow_x": null,
            "overflow_y": null,
            "padding": null,
            "right": null,
            "top": null,
            "visibility": null,
            "width": null
          }
        },
        "3727b53c2c8944e98110a277a78a5bfa": {
          "model_module": "@jupyter-widgets/controls",
          "model_name": "DescriptionStyleModel",
          "model_module_version": "1.5.0",
          "state": {
            "_model_module": "@jupyter-widgets/controls",
            "_model_module_version": "1.5.0",
            "_model_name": "DescriptionStyleModel",
            "_view_count": null,
            "_view_module": "@jupyter-widgets/base",
            "_view_module_version": "1.2.0",
            "_view_name": "StyleView",
            "description_width": ""
          }
        },
        "dd1266a9087641b6b6af884f77179f42": {
          "model_module": "@jupyter-widgets/controls",
          "model_name": "HBoxModel",
          "model_module_version": "1.5.0",
          "state": {
            "_dom_classes": [],
            "_model_module": "@jupyter-widgets/controls",
            "_model_module_version": "1.5.0",
            "_model_name": "HBoxModel",
            "_view_count": null,
            "_view_module": "@jupyter-widgets/controls",
            "_view_module_version": "1.5.0",
            "_view_name": "HBoxView",
            "box_style": "",
            "children": [
              "IPY_MODEL_05503310e7074a5d9a304eb4fffce80f",
              "IPY_MODEL_c7a51f1b0b674cb7848a4ebd69e018cf",
              "IPY_MODEL_8df36859276940a0b52eabd31990b6cf"
            ],
            "layout": "IPY_MODEL_3f5c3c52bd004982b7b31052191b53a2"
          }
        },
        "05503310e7074a5d9a304eb4fffce80f": {
          "model_module": "@jupyter-widgets/controls",
          "model_name": "HTMLModel",
          "model_module_version": "1.5.0",
          "state": {
            "_dom_classes": [],
            "_model_module": "@jupyter-widgets/controls",
            "_model_module_version": "1.5.0",
            "_model_name": "HTMLModel",
            "_view_count": null,
            "_view_module": "@jupyter-widgets/controls",
            "_view_module_version": "1.5.0",
            "_view_name": "HTMLView",
            "description": "",
            "description_tooltip": null,
            "layout": "IPY_MODEL_06923faa682045d8bfdcb9d9e5212e0e",
            "placeholder": "​",
            "style": "IPY_MODEL_7dad8b326a1e48899c36009ac9ae9d79",
            "value": "Downloading merges.txt: 100%"
          }
        },
        "c7a51f1b0b674cb7848a4ebd69e018cf": {
          "model_module": "@jupyter-widgets/controls",
          "model_name": "FloatProgressModel",
          "model_module_version": "1.5.0",
          "state": {
            "_dom_classes": [],
            "_model_module": "@jupyter-widgets/controls",
            "_model_module_version": "1.5.0",
            "_model_name": "FloatProgressModel",
            "_view_count": null,
            "_view_module": "@jupyter-widgets/controls",
            "_view_module_version": "1.5.0",
            "_view_name": "ProgressView",
            "bar_style": "success",
            "description": "",
            "description_tooltip": null,
            "layout": "IPY_MODEL_0ca0c1deb47345a09ccf0dfcddafbe62",
            "max": 456318,
            "min": 0,
            "orientation": "horizontal",
            "style": "IPY_MODEL_e9fc2017c9aa4c068a676e9e829c429d",
            "value": 456318
          }
        },
        "8df36859276940a0b52eabd31990b6cf": {
          "model_module": "@jupyter-widgets/controls",
          "model_name": "HTMLModel",
          "model_module_version": "1.5.0",
          "state": {
            "_dom_classes": [],
            "_model_module": "@jupyter-widgets/controls",
            "_model_module_version": "1.5.0",
            "_model_name": "HTMLModel",
            "_view_count": null,
            "_view_module": "@jupyter-widgets/controls",
            "_view_module_version": "1.5.0",
            "_view_name": "HTMLView",
            "description": "",
            "description_tooltip": null,
            "layout": "IPY_MODEL_b2e34c73262f4f2a8fface8c100f4e4e",
            "placeholder": "​",
            "style": "IPY_MODEL_b65bbcbcbdf34f168b3780c5563420e0",
            "value": " 446k/446k [00:00&lt;00:00, 679kB/s]"
          }
        },
        "3f5c3c52bd004982b7b31052191b53a2": {
          "model_module": "@jupyter-widgets/base",
          "model_name": "LayoutModel",
          "model_module_version": "1.2.0",
          "state": {
            "_model_module": "@jupyter-widgets/base",
            "_model_module_version": "1.2.0",
            "_model_name": "LayoutModel",
            "_view_count": null,
            "_view_module": "@jupyter-widgets/base",
            "_view_module_version": "1.2.0",
            "_view_name": "LayoutView",
            "align_content": null,
            "align_items": null,
            "align_self": null,
            "border": null,
            "bottom": null,
            "display": null,
            "flex": null,
            "flex_flow": null,
            "grid_area": null,
            "grid_auto_columns": null,
            "grid_auto_flow": null,
            "grid_auto_rows": null,
            "grid_column": null,
            "grid_gap": null,
            "grid_row": null,
            "grid_template_areas": null,
            "grid_template_columns": null,
            "grid_template_rows": null,
            "height": null,
            "justify_content": null,
            "justify_items": null,
            "left": null,
            "margin": null,
            "max_height": null,
            "max_width": null,
            "min_height": null,
            "min_width": null,
            "object_fit": null,
            "object_position": null,
            "order": null,
            "overflow": null,
            "overflow_x": null,
            "overflow_y": null,
            "padding": null,
            "right": null,
            "top": null,
            "visibility": null,
            "width": null
          }
        },
        "06923faa682045d8bfdcb9d9e5212e0e": {
          "model_module": "@jupyter-widgets/base",
          "model_name": "LayoutModel",
          "model_module_version": "1.2.0",
          "state": {
            "_model_module": "@jupyter-widgets/base",
            "_model_module_version": "1.2.0",
            "_model_name": "LayoutModel",
            "_view_count": null,
            "_view_module": "@jupyter-widgets/base",
            "_view_module_version": "1.2.0",
            "_view_name": "LayoutView",
            "align_content": null,
            "align_items": null,
            "align_self": null,
            "border": null,
            "bottom": null,
            "display": null,
            "flex": null,
            "flex_flow": null,
            "grid_area": null,
            "grid_auto_columns": null,
            "grid_auto_flow": null,
            "grid_auto_rows": null,
            "grid_column": null,
            "grid_gap": null,
            "grid_row": null,
            "grid_template_areas": null,
            "grid_template_columns": null,
            "grid_template_rows": null,
            "height": null,
            "justify_content": null,
            "justify_items": null,
            "left": null,
            "margin": null,
            "max_height": null,
            "max_width": null,
            "min_height": null,
            "min_width": null,
            "object_fit": null,
            "object_position": null,
            "order": null,
            "overflow": null,
            "overflow_x": null,
            "overflow_y": null,
            "padding": null,
            "right": null,
            "top": null,
            "visibility": null,
            "width": null
          }
        },
        "7dad8b326a1e48899c36009ac9ae9d79": {
          "model_module": "@jupyter-widgets/controls",
          "model_name": "DescriptionStyleModel",
          "model_module_version": "1.5.0",
          "state": {
            "_model_module": "@jupyter-widgets/controls",
            "_model_module_version": "1.5.0",
            "_model_name": "DescriptionStyleModel",
            "_view_count": null,
            "_view_module": "@jupyter-widgets/base",
            "_view_module_version": "1.2.0",
            "_view_name": "StyleView",
            "description_width": ""
          }
        },
        "0ca0c1deb47345a09ccf0dfcddafbe62": {
          "model_module": "@jupyter-widgets/base",
          "model_name": "LayoutModel",
          "model_module_version": "1.2.0",
          "state": {
            "_model_module": "@jupyter-widgets/base",
            "_model_module_version": "1.2.0",
            "_model_name": "LayoutModel",
            "_view_count": null,
            "_view_module": "@jupyter-widgets/base",
            "_view_module_version": "1.2.0",
            "_view_name": "LayoutView",
            "align_content": null,
            "align_items": null,
            "align_self": null,
            "border": null,
            "bottom": null,
            "display": null,
            "flex": null,
            "flex_flow": null,
            "grid_area": null,
            "grid_auto_columns": null,
            "grid_auto_flow": null,
            "grid_auto_rows": null,
            "grid_column": null,
            "grid_gap": null,
            "grid_row": null,
            "grid_template_areas": null,
            "grid_template_columns": null,
            "grid_template_rows": null,
            "height": null,
            "justify_content": null,
            "justify_items": null,
            "left": null,
            "margin": null,
            "max_height": null,
            "max_width": null,
            "min_height": null,
            "min_width": null,
            "object_fit": null,
            "object_position": null,
            "order": null,
            "overflow": null,
            "overflow_x": null,
            "overflow_y": null,
            "padding": null,
            "right": null,
            "top": null,
            "visibility": null,
            "width": null
          }
        },
        "e9fc2017c9aa4c068a676e9e829c429d": {
          "model_module": "@jupyter-widgets/controls",
          "model_name": "ProgressStyleModel",
          "model_module_version": "1.5.0",
          "state": {
            "_model_module": "@jupyter-widgets/controls",
            "_model_module_version": "1.5.0",
            "_model_name": "ProgressStyleModel",
            "_view_count": null,
            "_view_module": "@jupyter-widgets/base",
            "_view_module_version": "1.2.0",
            "_view_name": "StyleView",
            "bar_color": null,
            "description_width": ""
          }
        },
        "b2e34c73262f4f2a8fface8c100f4e4e": {
          "model_module": "@jupyter-widgets/base",
          "model_name": "LayoutModel",
          "model_module_version": "1.2.0",
          "state": {
            "_model_module": "@jupyter-widgets/base",
            "_model_module_version": "1.2.0",
            "_model_name": "LayoutModel",
            "_view_count": null,
            "_view_module": "@jupyter-widgets/base",
            "_view_module_version": "1.2.0",
            "_view_name": "LayoutView",
            "align_content": null,
            "align_items": null,
            "align_self": null,
            "border": null,
            "bottom": null,
            "display": null,
            "flex": null,
            "flex_flow": null,
            "grid_area": null,
            "grid_auto_columns": null,
            "grid_auto_flow": null,
            "grid_auto_rows": null,
            "grid_column": null,
            "grid_gap": null,
            "grid_row": null,
            "grid_template_areas": null,
            "grid_template_columns": null,
            "grid_template_rows": null,
            "height": null,
            "justify_content": null,
            "justify_items": null,
            "left": null,
            "margin": null,
            "max_height": null,
            "max_width": null,
            "min_height": null,
            "min_width": null,
            "object_fit": null,
            "object_position": null,
            "order": null,
            "overflow": null,
            "overflow_x": null,
            "overflow_y": null,
            "padding": null,
            "right": null,
            "top": null,
            "visibility": null,
            "width": null
          }
        },
        "b65bbcbcbdf34f168b3780c5563420e0": {
          "model_module": "@jupyter-widgets/controls",
          "model_name": "DescriptionStyleModel",
          "model_module_version": "1.5.0",
          "state": {
            "_model_module": "@jupyter-widgets/controls",
            "_model_module_version": "1.5.0",
            "_model_name": "DescriptionStyleModel",
            "_view_count": null,
            "_view_module": "@jupyter-widgets/base",
            "_view_module_version": "1.2.0",
            "_view_name": "StyleView",
            "description_width": ""
          }
        }
      }
    }
  },
  "cells": [
    {
      "cell_type": "markdown",
      "source": [
        "# Post-Training the CryptoBERT model on the MLM task"
      ],
      "metadata": {
        "id": "Zd08TZBrj7Zn"
      }
    },
    {
      "cell_type": "code",
      "source": [
        "!pip install -q transformers\n",
        "!pip install emoji\n",
        "!pip install pandas\n",
        "!pip install numpy"
      ],
      "metadata": {
        "id": "znWi4QJzkAR0",
        "colab": {
          "base_uri": "https://localhost:8080/"
        },
        "outputId": "27d72eab-85dd-4558-89d0-4c4481e4a4df"
      },
      "execution_count": 1,
      "outputs": [
        {
          "output_type": "stream",
          "name": "stdout",
          "text": [
            "\u001b[K     |████████████████████████████████| 4.7 MB 4.1 MB/s \n",
            "\u001b[K     |████████████████████████████████| 120 kB 47.5 MB/s \n",
            "\u001b[K     |████████████████████████████████| 6.6 MB 37.1 MB/s \n",
            "\u001b[?25hLooking in indexes: https://pypi.org/simple, https://us-python.pkg.dev/colab-wheels/public/simple/\n",
            "Collecting emoji\n",
            "  Downloading emoji-2.0.0.tar.gz (197 kB)\n",
            "\u001b[K     |████████████████████████████████| 197 kB 4.2 MB/s \n",
            "\u001b[?25hBuilding wheels for collected packages: emoji\n",
            "  Building wheel for emoji (setup.py) ... \u001b[?25l\u001b[?25hdone\n",
            "  Created wheel for emoji: filename=emoji-2.0.0-py3-none-any.whl size=193022 sha256=c9b4c85d1d59548e37556820cb77ff60de6d84abc037089e8293f2c443030aef\n",
            "  Stored in directory: /root/.cache/pip/wheels/ec/29/4d/3cfe7452ac7d8d83b1930f8a6205c3c9649b24e80f9029fc38\n",
            "Successfully built emoji\n",
            "Installing collected packages: emoji\n",
            "Successfully installed emoji-2.0.0\n",
            "Looking in indexes: https://pypi.org/simple, https://us-python.pkg.dev/colab-wheels/public/simple/\n",
            "Requirement already satisfied: pandas in /usr/local/lib/python3.7/dist-packages (1.3.5)\n",
            "Requirement already satisfied: numpy>=1.17.3 in /usr/local/lib/python3.7/dist-packages (from pandas) (1.21.6)\n",
            "Requirement already satisfied: pytz>=2017.3 in /usr/local/lib/python3.7/dist-packages (from pandas) (2022.2.1)\n",
            "Requirement already satisfied: python-dateutil>=2.7.3 in /usr/local/lib/python3.7/dist-packages (from pandas) (2.8.2)\n",
            "Requirement already satisfied: six>=1.5 in /usr/local/lib/python3.7/dist-packages (from python-dateutil>=2.7.3->pandas) (1.15.0)\n",
            "Looking in indexes: https://pypi.org/simple, https://us-python.pkg.dev/colab-wheels/public/simple/\n",
            "Requirement already satisfied: numpy in /usr/local/lib/python3.7/dist-packages (1.21.6)\n"
          ]
        }
      ]
    },
    {
      "cell_type": "code",
      "source": [
        "import numpy as np\n",
        "import pandas as pd\n",
        "\n",
        "import logging\n",
        "import time\n",
        "\n",
        "import random\n",
        "import torch\n",
        "from torch import nn, optim\n",
        "from torch.utils.data import Dataset, DataLoader\n",
        "import torch.nn.functional as F\n",
        "\n",
        "from transformers import AutoTokenizer, AutoModelForMaskedLM\n",
        "\n",
        "# max_len = 128\n",
        "max_len = 32\n",
        "\n",
        "epochs = 12\n",
        "\n",
        "\n",
        "RANDOM_SEED = 2137\n",
        "np.random.seed(RANDOM_SEED)\n",
        "torch.manual_seed(RANDOM_SEED)\n",
        "random.seed(RANDOM_SEED)\n",
        "\n",
        "device = torch.device(\"cuda:0\" if torch.cuda.is_available() else \"cpu\")\n",
        "print(device)\n",
        "torch.set_num_threads(16)\n",
        "if torch.cuda.is_available():\n",
        "    print(torch.cuda.get_device_name(0))"
      ],
      "metadata": {
        "id": "np0PmU9Mkhij",
        "colab": {
          "base_uri": "https://localhost:8080/"
        },
        "outputId": "6264f058-c602-463c-81a7-fcdad5f6fbc6"
      },
      "execution_count": 2,
      "outputs": [
        {
          "output_type": "stream",
          "name": "stdout",
          "text": [
            "cpu\n"
          ]
        }
      ]
    },
    {
      "cell_type": "code",
      "source": [
        "# path_posts = '/datasets/cryptobert-corpus/'\n",
        "path_posts = '/content/drive/MyDrive/Data_Thesis_Temp/SA_files/'\n",
        "# fn_bull = path_posts + 'posts-bull.txt'\n",
        "# fn_net = path_posts + 'posts-net.txt'\n",
        "# fn_bear = path_posts + 'posts-bear.txt'\n",
        "\n",
        "# fn_bull_test = path_posts + 'posts-bull-test.txt'\n",
        "# fn_net_test = path_posts + 'posts-net-test.txt'\n",
        "# fn_bear_test = path_posts + 'posts-bear-test.txt'\n",
        "\n",
        "# fn_bull_new = path_posts + 'posts-bull-new.txt'\n",
        "# fn_net_new = path_posts + 'posts-net-new.txt'\n",
        "# fn_bear_new = path_posts + 'posts-bear-new.txt'\n",
        "# fn_red = path_posts + 'data-red.txt'\n",
        "# fn_twit = path_posts + 'data-twit.txt'\n",
        "# fn_tel = path_posts + 'data-tel.txt'\n",
        "fn_data = path_posts + \"bert-train-updated.txt\""
      ],
      "metadata": {
        "id": "9bJPk0xjkmS9"
      },
      "execution_count": 9,
      "outputs": []
    },
    {
      "cell_type": "code",
      "source": [
        "config = open(fn_red, \"r\")\n",
        "text_red = config.read().splitlines()\n",
        "config.close()\n",
        "config = open(fn_twit, \"r\")\n",
        "text_twit = config.read().splitlines()\n",
        "config.close()\n",
        "config = open(fn_tel, \"r\")\n",
        "text_tel = config.read().splitlines()\n",
        "config.close()\n",
        "config = open(fn_bull, \"r\")\n",
        "text_bull_1 = config.read().splitlines()\n",
        "config.close()\n",
        "config = open(fn_bear, \"r\")\n",
        "text_bear_1 = config.read().splitlines()\n",
        "config.close()\n",
        "config = open(fn_net, \"r\")\n",
        "text_net_1 = config.read().splitlines()\n",
        "config.close()\n",
        "\n",
        "config = open(fn_bull_test, \"r\")\n",
        "text_bull_2 = config.read().splitlines()\n",
        "config.close()\n",
        "config = open(fn_bear_test, \"r\")\n",
        "text_bear_2 = config.read().splitlines()\n",
        "config.close()\n",
        "config = open(fn_net_test, \"r\")\n",
        "text_net_2 = config.read().splitlines()\n",
        "config.close()\n",
        "\n",
        "config = open(fn_bull_new, \"r\")\n",
        "text_bull_3 = config.read().splitlines()\n",
        "config.close()\n",
        "config = open(fn_bear_new, \"r\")\n",
        "text_bear_3 = config.read().splitlines()\n",
        "config.close()\n",
        "config = open(fn_net_new, \"r\")\n",
        "text_net_3 = config.read().splitlines()\n",
        "config.close()"
      ],
      "metadata": {
        "id": "EKOewtC7kq2x",
        "colab": {
          "base_uri": "https://localhost:8080/",
          "height": 244
        },
        "outputId": "53a4f1f6-57f9-4049-ee51-a544a2bbafdd"
      },
      "execution_count": 4,
      "outputs": [
        {
          "output_type": "error",
          "ename": "FileNotFoundError",
          "evalue": "ignored",
          "traceback": [
            "\u001b[0;31m---------------------------------------------------------------------------\u001b[0m",
            "\u001b[0;31mFileNotFoundError\u001b[0m                         Traceback (most recent call last)",
            "\u001b[0;32m<ipython-input-4-1be982059fb6>\u001b[0m in \u001b[0;36m<module>\u001b[0;34m\u001b[0m\n\u001b[0;32m----> 1\u001b[0;31m \u001b[0mconfig\u001b[0m \u001b[0;34m=\u001b[0m \u001b[0mopen\u001b[0m\u001b[0;34m(\u001b[0m\u001b[0mfn_red\u001b[0m\u001b[0;34m,\u001b[0m \u001b[0;34m\"r\"\u001b[0m\u001b[0;34m)\u001b[0m\u001b[0;34m\u001b[0m\u001b[0;34m\u001b[0m\u001b[0m\n\u001b[0m\u001b[1;32m      2\u001b[0m \u001b[0mtext_red\u001b[0m \u001b[0;34m=\u001b[0m \u001b[0mconfig\u001b[0m\u001b[0;34m.\u001b[0m\u001b[0mread\u001b[0m\u001b[0;34m(\u001b[0m\u001b[0;34m)\u001b[0m\u001b[0;34m.\u001b[0m\u001b[0msplitlines\u001b[0m\u001b[0;34m(\u001b[0m\u001b[0;34m)\u001b[0m\u001b[0;34m\u001b[0m\u001b[0;34m\u001b[0m\u001b[0m\n\u001b[1;32m      3\u001b[0m \u001b[0mconfig\u001b[0m\u001b[0;34m.\u001b[0m\u001b[0mclose\u001b[0m\u001b[0;34m(\u001b[0m\u001b[0;34m)\u001b[0m\u001b[0;34m\u001b[0m\u001b[0;34m\u001b[0m\u001b[0m\n\u001b[1;32m      4\u001b[0m \u001b[0mconfig\u001b[0m \u001b[0;34m=\u001b[0m \u001b[0mopen\u001b[0m\u001b[0;34m(\u001b[0m\u001b[0mfn_twit\u001b[0m\u001b[0;34m,\u001b[0m \u001b[0;34m\"r\"\u001b[0m\u001b[0;34m)\u001b[0m\u001b[0;34m\u001b[0m\u001b[0;34m\u001b[0m\u001b[0m\n\u001b[1;32m      5\u001b[0m \u001b[0mtext_twit\u001b[0m \u001b[0;34m=\u001b[0m \u001b[0mconfig\u001b[0m\u001b[0;34m.\u001b[0m\u001b[0mread\u001b[0m\u001b[0;34m(\u001b[0m\u001b[0;34m)\u001b[0m\u001b[0;34m.\u001b[0m\u001b[0msplitlines\u001b[0m\u001b[0;34m(\u001b[0m\u001b[0;34m)\u001b[0m\u001b[0;34m\u001b[0m\u001b[0;34m\u001b[0m\u001b[0m\n",
            "\u001b[0;31mFileNotFoundError\u001b[0m: [Errno 2] No such file or directory: '/datasets/cryptobert-corpus/data-red.txt'"
          ]
        }
      ]
    },
    {
      "cell_type": "code",
      "source": [
        "text = text_red + text_twit + text_tel + text_bull_1 + text_bear_1 + text_net_1 + text_bull_2 + text_bear_2 + text_net_2 + text_bull_3 + text_bear_3 + text_net_3\n",
        "# df_text = text + text\n",
        "# random.shuffle(df_text)"
      ],
      "metadata": {
        "id": "PrWf_Fdtksjx"
      },
      "execution_count": null,
      "outputs": []
    },
    {
      "cell_type": "code",
      "source": [
        "random.shuffle(text)"
      ],
      "metadata": {
        "id": "00jGrfxWOjjT"
      },
      "execution_count": 64,
      "outputs": []
    },
    {
      "cell_type": "code",
      "source": [
        "df_text = text[:100000]"
      ],
      "metadata": {
        "id": "662uIPWMOnZX"
      },
      "execution_count": 65,
      "outputs": []
    },
    {
      "cell_type": "code",
      "source": [
        "config = open(fn_data, \"r\")\n",
        "text = config.read().splitlines()\n",
        "config.close()"
      ],
      "metadata": {
        "id": "ABoTNd7W6F83"
      },
      "execution_count": 10,
      "outputs": []
    },
    {
      "cell_type": "code",
      "source": [
        "df_counts = [word_count(t) for t in text]"
      ],
      "metadata": {
        "id": "d6SUcD4b7gfJ"
      },
      "execution_count": 15,
      "outputs": []
    },
    {
      "cell_type": "code",
      "source": [
        "table_counts = np.array(df_counts)"
      ],
      "metadata": {
        "id": "5OzLiav1JDpD"
      },
      "execution_count": 54,
      "outputs": []
    },
    {
      "cell_type": "code",
      "source": [
        "av_counts = np.mean(table_counts)"
      ],
      "metadata": {
        "id": "J-VGk2L5JO59"
      },
      "execution_count": 58,
      "outputs": []
    },
    {
      "cell_type": "code",
      "source": [
        "std_counts = np.std(table_counts)"
      ],
      "metadata": {
        "id": "unFh2o14JIcf"
      },
      "execution_count": 55,
      "outputs": []
    },
    {
      "cell_type": "code",
      "source": [
        "sum_counts = sum(df_counts)"
      ],
      "metadata": {
        "id": "MPz5eZsQIwZj"
      },
      "execution_count": 51,
      "outputs": []
    },
    {
      "cell_type": "code",
      "source": [
        "average_count = sum_counts / len(df_counts)"
      ],
      "metadata": {
        "id": "lWyf8yGTI23z"
      },
      "execution_count": 52,
      "outputs": []
    },
    {
      "cell_type": "code",
      "source": [
        "numeros = []\n",
        "for i in range(2, 26):\n",
        "  numeros.append(4*i)"
      ],
      "metadata": {
        "id": "NKJGO5s28Gxf"
      },
      "execution_count": 46,
      "outputs": []
    },
    {
      "cell_type": "code",
      "source": [
        "fractions = []\n",
        "for numio in numeros:\n",
        "  count = num_count(df_counts, numio)\n",
        "  frac = count/sample_size\n",
        "  fractions.append(frac)"
      ],
      "metadata": {
        "id": "jgAw5XMxCErg"
      },
      "execution_count": 48,
      "outputs": []
    },
    {
      "cell_type": "code",
      "source": [
        "fractions"
      ],
      "metadata": {
        "colab": {
          "base_uri": "https://localhost:8080/"
        },
        "id": "R0KVCBumCg3f",
        "outputId": "e3118383-cb24-4343-c748-d3cc53731cec"
      },
      "execution_count": 50,
      "outputs": [
        {
          "output_type": "execute_result",
          "data": {
            "text/plain": [
              "[0.6599768665097745,\n",
              " 0.4383439107135093,\n",
              " 0.2937699280984951,\n",
              " 0.20519500533568313,\n",
              " 0.14888213241361853,\n",
              " 0.11174930769565211,\n",
              " 0.08515870805440631,\n",
              " 0.06657270928296942,\n",
              " 0.05265645561697414,\n",
              " 0.042212377837823646,\n",
              " 0.03436532920885099,\n",
              " 0.02811532651840972,\n",
              " 0.023263922818342695,\n",
              " 0.019474059626205156,\n",
              " 0.01649477258022788,\n",
              " 0.014059169906316683,\n",
              " 0.012121621720513518,\n",
              " 0.010547821194564534,\n",
              " 0.009218097500730724,\n",
              " 0.008073476166349338,\n",
              " 0.007166905075635837,\n",
              " 0.0063175865751715745,\n",
              " 0.005620654668303029,\n",
              " 0.004977531586856699]"
            ]
          },
          "metadata": {},
          "execution_count": 50
        }
      ]
    },
    {
      "cell_type": "code",
      "source": [
        "sample_size = len(text)"
      ],
      "metadata": {
        "id": "7RyFzL248Z1d"
      },
      "execution_count": 21,
      "outputs": []
    },
    {
      "cell_type": "code",
      "source": [
        "print('over 26: '+str(over_26) + \" as fraction of sample: \"+ str(over_26/sample_size))\n",
        "print('over 32: '+ str(over_32) + \" as fraction of sample: \"+ str(over_32/sample_size))\n",
        "print('over 48: '+str(over_48) + \" as fraction of sample: \"+ str(over_48/sample_size))\n",
        "print('over 64: '+str(over_64) + \" as fraction of sample: \"+ str(over_64/sample_size))\n",
        "print('over 90: '+str(over_90) + \" as fraction of sample: \"+ str(over_90/sample_size))\n",
        "print('over 128: '+str(over_128) + \" as fraction of sample: \"+ str(over_128/sample_size))"
      ],
      "metadata": {
        "colab": {
          "base_uri": "https://localhost:8080/"
        },
        "id": "xYHktOuA8T3D",
        "outputId": "3d0fb599-e3c4-4db5-9b46-62e9c5e43969"
      },
      "execution_count": 42,
      "outputs": [
        {
          "output_type": "stream",
          "name": "stdout",
          "text": [
            "over 26: 476676 as fraction of sample: 0.20519500533568313\n",
            "over 32: 197827 as fraction of sample: 0.08515870805440631\n",
            "over 48: 79832 as fraction of sample: 0.03436532920885099\n",
            "over 64: 38318 as fraction of sample: 0.01649477258022788\n",
            "over 90: 22916 as fraction of sample: 0.009864664347004075\n",
            "over 128: 5207 as fraction of sample: 0.0022414604317878436\n"
          ]
        }
      ]
    },
    {
      "cell_type": "code",
      "source": [
        "def word_count(str):\n",
        "  words = str.split()\n",
        "  count = len(words)\n",
        "  return count"
      ],
      "metadata": {
        "id": "uyw7mJGT7U85"
      },
      "execution_count": 12,
      "outputs": []
    },
    {
      "cell_type": "code",
      "source": [
        "def num_count(list_num, bar):\n",
        "  count = 0\n",
        "  for num in list_num:\n",
        "    if num >= bar:\n",
        "      count = count +1\n",
        "  return count"
      ],
      "metadata": {
        "id": "d9zsTYci7xYB"
      },
      "execution_count": 17,
      "outputs": []
    },
    {
      "cell_type": "code",
      "source": [
        "from transformers import AutoTokenizer\n",
        "path_token = 'cardiffnlp/twitter-roberta-base'\n",
        "tokenizer = AutoTokenizer.from_pretrained(path_token, use_fast = True)"
      ],
      "metadata": {
        "colab": {
          "base_uri": "https://localhost:8080/",
          "height": 113,
          "referenced_widgets": [
            "5818893872e44463b35d1ca68534c59b",
            "d60f9ced6bfc4e409a9816b7b0f49736",
            "6ad668f31e0e42a287f8d6e6c0226cc3",
            "2e7f5d2c732f42bb9feda65e36f3fc01",
            "b93aae13c8e94e208b5c52512d4a7751",
            "ebccc2cbd29d4e1692ec431d1b5fe1c7",
            "b351250595714ffbb49da046837f8088",
            "66e4521619834c3d9df55b4d75e192c3",
            "091d71cec0f441beb781d617a24f8d6e",
            "5840fbaeeee2481585ea7e00e0b6450f",
            "87f8d3bbccf443a5b841713334046a65",
            "af5420b424ac473db26669a495a70a70",
            "d5446c718cdf4f91baac314621076954",
            "e0a2e505cb13413aa5a719678f7ab617",
            "bb584bdafabb499f8654347f1498e4fb",
            "aafb1ebef2dc48f8aeac09c36a095886",
            "6c7677ee4400406693f32ff80dadc926",
            "ebe3711b58be46f283d4722017f07315",
            "b41c6187485041e48e185ad97481f23a",
            "036315192a8a41348c0a709283e51dfe",
            "5224ece0215349609dee8e7847bbe8d0",
            "3727b53c2c8944e98110a277a78a5bfa",
            "dd1266a9087641b6b6af884f77179f42",
            "05503310e7074a5d9a304eb4fffce80f",
            "c7a51f1b0b674cb7848a4ebd69e018cf",
            "8df36859276940a0b52eabd31990b6cf",
            "3f5c3c52bd004982b7b31052191b53a2",
            "06923faa682045d8bfdcb9d9e5212e0e",
            "7dad8b326a1e48899c36009ac9ae9d79",
            "0ca0c1deb47345a09ccf0dfcddafbe62",
            "e9fc2017c9aa4c068a676e9e829c429d",
            "b2e34c73262f4f2a8fface8c100f4e4e",
            "b65bbcbcbdf34f168b3780c5563420e0"
          ]
        },
        "id": "H07xpmfZLFbz",
        "outputId": "c5b19d7d-5489-4981-c9ec-af1293715128"
      },
      "execution_count": 3,
      "outputs": [
        {
          "output_type": "display_data",
          "data": {
            "text/plain": [
              "Downloading config.json:   0%|          | 0.00/565 [00:00<?, ?B/s]"
            ],
            "application/vnd.jupyter.widget-view+json": {
              "version_major": 2,
              "version_minor": 0,
              "model_id": "5818893872e44463b35d1ca68534c59b"
            }
          },
          "metadata": {}
        },
        {
          "output_type": "display_data",
          "data": {
            "text/plain": [
              "Downloading vocab.json:   0%|          | 0.00/878k [00:00<?, ?B/s]"
            ],
            "application/vnd.jupyter.widget-view+json": {
              "version_major": 2,
              "version_minor": 0,
              "model_id": "af5420b424ac473db26669a495a70a70"
            }
          },
          "metadata": {}
        },
        {
          "output_type": "display_data",
          "data": {
            "text/plain": [
              "Downloading merges.txt:   0%|          | 0.00/446k [00:00<?, ?B/s]"
            ],
            "application/vnd.jupyter.widget-view+json": {
              "version_major": 2,
              "version_minor": 0,
              "model_id": "dd1266a9087641b6b6af884f77179f42"
            }
          },
          "metadata": {}
        }
      ]
    },
    {
      "cell_type": "code",
      "source": [
        "tokens = tokenizer('🤡')"
      ],
      "metadata": {
        "id": "THaVQW7eOCkm"
      },
      "execution_count": 4,
      "outputs": []
    },
    {
      "cell_type": "code",
      "source": [
        "tokens2 = tokenizer('🤣')"
      ],
      "metadata": {
        "id": "BD0fleL-cUPj"
      },
      "execution_count": 12,
      "outputs": []
    },
    {
      "cell_type": "code",
      "source": [
        "tokens['input_ids']"
      ],
      "metadata": {
        "colab": {
          "base_uri": "https://localhost:8080/"
        },
        "id": "mFI0QG5IbfNd",
        "outputId": "df256166-023b-41d6-f63f-e32e7c456715"
      },
      "execution_count": 11,
      "outputs": [
        {
          "output_type": "execute_result",
          "data": {
            "text/plain": [
              "[0, 6569, 10470, 5543, 2]"
            ]
          },
          "metadata": {},
          "execution_count": 11
        }
      ]
    },
    {
      "cell_type": "code",
      "source": [
        "tokens2['input_ids']"
      ],
      "metadata": {
        "colab": {
          "base_uri": "https://localhost:8080/"
        },
        "id": "55XlTOrqcZMb",
        "outputId": "50981e51-d3c3-4913-f68a-64838f2e2e66"
      },
      "execution_count": 13,
      "outputs": [
        {
          "output_type": "execute_result",
          "data": {
            "text/plain": [
              "[0, 6569, 10470, 2469, 2]"
            ]
          },
          "metadata": {},
          "execution_count": 13
        }
      ]
    },
    {
      "cell_type": "code",
      "source": [
        "tokenizer.decode(tokens['input_ids'][1])"
      ],
      "metadata": {
        "colab": {
          "base_uri": "https://localhost:8080/",
          "height": 36
        },
        "id": "jvjHjKbSOzbG",
        "outputId": "ad5edc1c-dc87-4704-ec2d-30edb20df3fa"
      },
      "execution_count": 8,
      "outputs": [
        {
          "output_type": "execute_result",
          "data": {
            "text/plain": [
              "'�'"
            ],
            "application/vnd.google.colaboratory.intrinsic+json": {
              "type": "string"
            }
          },
          "metadata": {},
          "execution_count": 8
        }
      ]
    },
    {
      "cell_type": "code",
      "source": [
        "tokenizer.decode(tokens['input_ids'][3])"
      ],
      "metadata": {
        "colab": {
          "base_uri": "https://localhost:8080/",
          "height": 36
        },
        "id": "JRa1_AxybtNJ",
        "outputId": "520f3f91-e76f-4715-da3e-4f7669e3f86e"
      },
      "execution_count": 10,
      "outputs": [
        {
          "output_type": "execute_result",
          "data": {
            "text/plain": [
              "'�'"
            ],
            "application/vnd.google.colaboratory.intrinsic+json": {
              "type": "string"
            }
          },
          "metadata": {},
          "execution_count": 10
        }
      ]
    },
    {
      "cell_type": "code",
      "source": [
        "df_wc = [word_count(c) for c in df_text]"
      ],
      "metadata": {
        "id": "EEtiIu_9PXxI"
      },
      "execution_count": 74,
      "outputs": []
    },
    {
      "cell_type": "code",
      "source": [
        "counts_tokens = []\n",
        "for line in tokens['input_ids']:\n",
        "  temp_c = len(line)\n",
        "  counts_tokens.append(temp_c)"
      ],
      "metadata": {
        "id": "4YbgnOw6PDH0"
      },
      "execution_count": 71,
      "outputs": []
    },
    {
      "cell_type": "code",
      "source": [
        "sum_words = sum(df_wc)\n",
        "sum_toks = sum(counts_tokens)"
      ],
      "metadata": {
        "id": "yoncETpXPhEY"
      },
      "execution_count": 77,
      "outputs": []
    },
    {
      "cell_type": "code",
      "source": [
        "toks_per_word = sum_toks/sum_words"
      ],
      "metadata": {
        "id": "30qRRgpUPlhG"
      },
      "execution_count": 78,
      "outputs": []
    },
    {
      "cell_type": "code",
      "source": [
        "df_min20 = [max(0, cc - 20) for cc in df_counts]"
      ],
      "metadata": {
        "id": "8GTofv8jQyAi"
      },
      "execution_count": 84,
      "outputs": []
    },
    {
      "cell_type": "code",
      "source": [
        "frac_cut = sum(df_min20)/sum(df_counts)"
      ],
      "metadata": {
        "id": "oS268ix5RDKM"
      },
      "execution_count": 86,
      "outputs": []
    },
    {
      "cell_type": "code",
      "source": [
        "from transformers import AutoTokenizer, AutoModelForMaskedLM\n",
        "path_model = '/datasets/cryptobert-checkpoint/'\n",
        "path_token = '/datasets/cryptobert-tokenizer/'\n",
        "tokenizer = AutoTokenizer.from_pretrained(path_token, use_fast = True)\n",
        "model = AutoModelForMaskedLM.from_pretrained(path_model)"
      ],
      "metadata": {
        "id": "LW33xa40kuLE"
      },
      "execution_count": null,
      "outputs": []
    },
    {
      "cell_type": "code",
      "source": [
        "inputs = tokenizer(df_text, return_tensors='pt', max_length=max_len, truncation=True, padding='max_length')\n",
        "inputs['labels'] = inputs.input_ids.detach().clone()\n",
        "# create random array of floats with equal dimensions to input_ids tensor\n",
        "rand = torch.rand(inputs.input_ids.shape)\n",
        "# create mask array\n",
        "mask_arr = (rand < 0.15) * (inputs.input_ids != 1) * (inputs.input_ids != 2) * (inputs.input_ids != 0) * (inputs.input_ids !=3)\n",
        "\n",
        "selection = []\n",
        "\n",
        "for i in range(inputs.input_ids.shape[0]):\n",
        "    selection.append(\n",
        "        torch.flatten(mask_arr[i].nonzero()).tolist()\n",
        "    )\n",
        "for i in range(inputs.input_ids.shape[0]):\n",
        "    inputs.input_ids[i, selection[i]] = 50264\n"
      ],
      "metadata": {
        "id": "FnTU7gkbk4Rp"
      },
      "execution_count": null,
      "outputs": []
    },
    {
      "cell_type": "code",
      "source": [
        "class CryptoDataset(torch.utils.data.Dataset):\n",
        "    def __init__(self, encodings):\n",
        "        self.encodings = encodings\n",
        "    def __getitem__(self, idx):\n",
        "        return {key: torch.tensor(val[idx]) for key, val in self.encodings.items()}\n",
        "    def __len__(self):\n",
        "        return len(self.encodings.input_ids)"
      ],
      "metadata": {
        "id": "RTpz4YOQlKDt"
      },
      "execution_count": null,
      "outputs": []
    },
    {
      "cell_type": "code",
      "source": [
        "dataset = CryptoDataset(inputs)"
      ],
      "metadata": {
        "id": "g-9DWeYNlK6y"
      },
      "execution_count": null,
      "outputs": []
    },
    {
      "cell_type": "code",
      "source": [
        "from transformers import TrainingArguments\n",
        "path_out = 'datasets/cryptobert-out'\n",
        "args = TrainingArguments(\n",
        "    output_dir=path_out,\n",
        "    per_device_train_batch_size=1504,\n",
        "    num_train_epochs=epochs,\n",
        "    learning_rate= 1e-4,\n",
        "    save_total_limit = 5,\n",
        "    gradient_accumulation_steps = 2,\n",
        "    save_steps = 2290,\n",
        "    fp16 = True,\n",
        "    logging_steps = 2290\n",
        ")"
      ],
      "metadata": {
        "id": "UrbJ7kkBlPNS"
      },
      "execution_count": null,
      "outputs": []
    },
    {
      "cell_type": "code",
      "source": [
        "from transformers import Trainer\n",
        "\n",
        "trainer = Trainer(\n",
        "    model=model,\n",
        "    args=args,\n",
        "    train_dataset=dataset\n",
        ")"
      ],
      "metadata": {
        "id": "YCToze5HlPyV"
      },
      "execution_count": null,
      "outputs": []
    },
    {
      "cell_type": "code",
      "source": [
        "trainer.train()"
      ],
      "metadata": {
        "id": "CMsjgCNrlScx"
      },
      "execution_count": null,
      "outputs": []
    },
    {
      "cell_type": "markdown",
      "source": [
        "#Fine-Tuning BERT models for Sentiment Classification"
      ],
      "metadata": {
        "id": "HHobe9vhj0eK"
      }
    },
    {
      "cell_type": "code",
      "source": [
        "!pip install -q transformers\n",
        "!pip install emoji\n",
        "!pip install pandas\n",
        "!pip install numpy"
      ],
      "metadata": {
        "id": "UMA27h3FlUqv"
      },
      "execution_count": null,
      "outputs": []
    },
    {
      "cell_type": "code",
      "execution_count": null,
      "metadata": {
        "id": "1JVThaqAie_n"
      },
      "outputs": [],
      "source": [
        "import logging\n",
        "import time\n",
        "import torch\n",
        "import pandas as pd\n",
        "import numpy as np\n",
        "from transformers import Trainer, TrainingArguments\n",
        "from transformers import AutoTokenizer, AutoModelForSequenceClassification\n",
        "from sklearn.model_selection import train_test_split\n",
        "from sklearn.metrics import accuracy_score\n",
        "import random\n",
        "from torch import nn, optim\n",
        "from torch.utils.data import Dataset, DataLoader\n",
        "import torch.nn.functional as F\n",
        "\n",
        "RANDOM_SEED = 2137\n",
        "\n",
        "max_len = 64\n",
        "num_classes = 3\n",
        "epochs = 12\n",
        "\n",
        "np.random.seed(RANDOM_SEED)\n",
        "torch.manual_seed(RANDOM_SEED)\n",
        "random.seed(RANDOM_SEED)\n",
        "\n",
        "device = torch.device(\"cuda:0\" if torch.cuda.is_available() else \"cpu\")\n",
        "print(device)\n",
        "torch.set_num_threads(8)\n",
        "if torch.cuda.is_available():\n",
        "    print(torch.cuda.get_device_name(0))\n",
        "    print(torch.cuda.get_device_properties(0))"
      ]
    },
    {
      "cell_type": "code",
      "source": [
        "path_posts = '/datasets/cryptobert-corpus/'\n",
        "\n",
        "fn_bull = path_posts + 'posts-bull.txt'\n",
        "fn_net = path_posts + 'posts-net.txt'\n",
        "fn_bear = path_posts + 'posts-bear.txt'\n",
        "\n",
        "fn_bull_test = path_posts + 'posts-bull-test.txt'\n",
        "fn_net_test = path_posts + 'posts-net-test.txt'\n",
        "fn_bear_test = path_posts + 'posts-bear-test.txt'\n",
        "\n",
        "fn_bull_new = path_posts + 'posts-bull-new.txt'\n",
        "fn_net_new = path_posts + 'posts-net-new.txt'\n",
        "fn_bear_new = path_posts + 'posts-bear-new.txt'\n",
        "\n",
        "\n",
        "config = open(fn_bull, \"r\")\n",
        "text_bull_1 = config.read().splitlines()\n",
        "config.close()\n",
        "config = open(fn_bear, \"r\")\n",
        "text_bear_1 = config.read().splitlines()\n",
        "config.close()\n",
        "config = open(fn_net, \"r\")\n",
        "text_net_1 = config.read().splitlines()\n",
        "config.close()\n",
        "\n",
        "config = open(fn_bull_test, \"r\")\n",
        "text_bull_2 = config.read().splitlines()\n",
        "config.close()\n",
        "config = open(fn_bear_test, \"r\")\n",
        "text_bear_2 = config.read().splitlines()\n",
        "config.close()\n",
        "config = open(fn_net_test, \"r\")\n",
        "text_net_2 = config.read().splitlines()\n",
        "config.close()\n",
        "\n",
        "config = open(fn_bull_new, \"r\")\n",
        "text_bull_3 = config.read().splitlines()\n",
        "config.close()\n",
        "config = open(fn_bear_new, \"r\")\n",
        "text_bear_3 = config.read().splitlines()\n",
        "config.close()\n",
        "config = open(fn_net_new, \"r\")\n",
        "text_net_3 = config.read().splitlines()\n",
        "config.close()\n",
        "text_bear = text_bear_1 + text_bear_2 + text_bear_3\n",
        "text_net = text_net_1 + text_net_2 + text_net_3\n",
        "text_bull = text_bull_1 + text_bull_2 + text_bull_3\n",
        "\n",
        "# The dataset needs to be balanced, so we limit the size to the smallest class - bearish\n",
        "len_class = len(text_bear)\n",
        "\n",
        "# take a sample from net and bull, so that all 3 datasets have the same size\n",
        "text_train_bear = text_bear.copy()\n",
        "text_train_net = random.sample(text_net, len_class)\n",
        "text_train_bull = random.sample(text_bull, len_class)\n",
        "\n",
        "# generate labels for all 3 datasets, 0 for bear, 1 for neutral, 2 for bull\n",
        "labels_bear = np.zeros(len_class, dtype = int)\n",
        "labels_net = np.ones(len_class, dtype = int)\n",
        "labels_bull = 2*np.ones(len_class, dtype = int)\n",
        "\n",
        "# initialize dataframes with posts and labels and assign both to right columns\n",
        "data_bear = pd.DataFrame()\n",
        "data_net = pd.DataFrame()\n",
        "data_bull = pd.DataFrame()\n",
        "\n",
        "data_bear['text'] = pd.Series(text_train_bear)\n",
        "data_bear['label'] = pd.Series(labels_bear)\n",
        "\n",
        "data_net['text'] = pd.Series(text_train_net)\n",
        "data_net['label'] = pd.Series(labels_net)\n",
        "\n",
        "data_bull['text'] = pd.Series(text_train_bull)\n",
        "data_bull['label'] = pd.Series(labels_bull)\n",
        "\n",
        "# lastly concatenate the datasets into one, and shuffle\n",
        "df = pd.concat((data_bear, data_net, data_bull))\n",
        "df = df.sample(frac=1).reset_index(drop=True)\n",
        "\n",
        "# Creating the dataset class\n",
        "class StockTwitsDataset(torch.utils.data.Dataset):\n",
        "    def __init__(self, encodings, labels):\n",
        "        self.ids = torch.tensor(encodings['input_ids'], dtype=torch.long)\n",
        "        self.masks = torch.tensor(encodings['attention_mask'], dtype=torch.long)\n",
        "        self.labels = torch.tensor(labels, dtype=torch.long)\n",
        "\n",
        "    def __getitem__(self, idx):\n",
        "        input_ids = self.ids[idx]\n",
        "        attention_mask = self.masks[idx]\n",
        "        labels = self.labels[idx]\n",
        "        # item = {k: torch.tensor(v[idx]) for k, v in self.encodings.items()}\n",
        "        # item[\"labels\"] = torch.tensor([self.labels[idx]])\n",
        "        # return item\n",
        "        return {\n",
        "      'input_ids': input_ids,\n",
        "      'attention_mask': attention_mask,\n",
        "      'labels': labels\n",
        "    }\n",
        "\n",
        "    def __len__(self):\n",
        "        return len(self.labels)\n",
        "\n"
      ],
      "metadata": {
        "id": "xLgb2jKfjeGy"
      },
      "execution_count": null,
      "outputs": []
    },
    {
      "cell_type": "code",
      "source": [
        "# from transformers import AutoTokenizer, AutoModelForMaskedLM\n",
        "path_model = '/datasets/cryptobert-mlm/'\n",
        "# path_model = 'cardiffnlp/twitter-roberta-base'\n",
        "path_token = '/datasets/cryptobert-tokenizer/'\n",
        "tokenizer = AutoTokenizer.from_pretrained(path_token, use_fast = True)\n",
        "model = AutoModelForSequenceClassification.from_pretrained(path_model, num_labels = 3)\n",
        "new_id2label = {\"0\": \"Bearish\", \"1\": \"Neutral\", \"2\": \"Bullish\"}\n",
        "new_label2id = {\"Bearish\": 0, \"Neutral\": 1, \"Bullish\": 2}\n",
        "model.config.id2label = new_id2label\n",
        "model.config.label2id = new_label2id\n",
        "print(model.config)"
      ],
      "metadata": {
        "id": "mxlg_XmWjg7d"
      },
      "execution_count": null,
      "outputs": []
    },
    {
      "cell_type": "code",
      "source": [
        "df_train_X, df_val_X, df_train_y, df_val_y = train_test_split(df['text'], df['label'].to_numpy(), test_size=0.1, random_state=RANDOM_SEED)\n",
        "encodings_train = tokenizer(df_train_X.tolist(), truncation=True, padding='max_length', max_length=max_len)\n",
        "encodings_val = tokenizer(df_val_X.tolist(), truncation=True, padding='max_length', max_length=max_len)\n",
        "dataset_train = StockTwitsDataset(encodings_train, df_train_y)\n",
        "dataset_val = StockTwitsDataset(encodings_val, df_val_y)\n",
        "def compute_metrics(pred):\n",
        "    labels = pred.label_ids\n",
        "    preds = pred.predictions.argmax(-1)\n",
        "    # calculate accuracy using sklearn's function\n",
        "    acc = accuracy_score(labels, preds)\n",
        "    return {\n",
        "      'accuracy': acc,\n",
        "    }\n"
      ],
      "metadata": {
        "id": "ymRUyqNVjiob"
      },
      "execution_count": null,
      "outputs": []
    },
    {
      "cell_type": "code",
      "source": [
        "path_save = '/notebooks/cps/cb-small'\n",
        "training_args = TrainingArguments(\n",
        "    output_dir=path_save,          # output directory\n",
        "    num_train_epochs=epochs,              # total number of training epochs\n",
        "    per_device_train_batch_size=1000,  # batch size per device during training\n",
        "    per_device_eval_batch_size=1000,   # batch size for evaluation\n",
        "    warmup_steps=500,                # number of warmup steps for learning rate scheduler\n",
        "    save_total_limit = 2,\n",
        "    # dataloader_num_workers = 8,\n",
        "    learning_rate= 1e-5,\n",
        "    weight_decay=1e-6,               # strength of weight decay\n",
        "    # logging_dir='./logs',            # directory for storing logs\n",
        "    load_best_model_at_end=True,     # load the best model when finished training (default metric is loss)\n",
        "    # but you can specify `metric_for_best_model` argument to change to accuracy or other metric\n",
        "    # logging_steps=2000,               # log & save weights each logging_steps\n",
        "    # save_steps=2000,\n",
        "    logging_strategy = 'epoch',\n",
        "    save_strategy = 'epoch',\n",
        "    metric_for_best_model = 'accuracy',\n",
        "    fp16 = True,\n",
        "    evaluation_strategy = 'epoch'\n",
        "    # evaluation_strategy=\"steps\"     # evaluate each `logging_steps`\n",
        ")\n",
        "\n",
        "trainer = Trainer(\n",
        "    model=model,                         # the instantiated Transformers model to be trained\n",
        "    args=training_args,                  # training arguments, defined above\n",
        "    train_dataset=dataset_train,         # training dataset\n",
        "    eval_dataset=dataset_val,          # evaluation dataset\n",
        "    compute_metrics=compute_metrics,     # the callback that computes metrics of interest\n",
        ")"
      ],
      "metadata": {
        "id": "Te0Me4-CjrMn"
      },
      "execution_count": null,
      "outputs": []
    },
    {
      "cell_type": "code",
      "source": [
        "# train the model\n",
        "trainer.train()\n",
        "# saving the fine tuned model & tokenizer\n",
        "model.save_pretrained(path_save)\n",
        "tokenizer.save_pretrained(path_save)\n",
        "# evaluate the current model after training\n",
        "trainer.evaluate()"
      ],
      "metadata": {
        "id": "AmZREV7ajtPn"
      },
      "execution_count": null,
      "outputs": []
    },
    {
      "cell_type": "markdown",
      "source": [
        "# BERT Sentiment Predictions"
      ],
      "metadata": {
        "id": "jFQ2QfZBmJ6X"
      }
    },
    {
      "cell_type": "code",
      "source": [
        "!pip install transformers\n",
        "!pip install emoji"
      ],
      "metadata": {
        "id": "7uTlzsG1mMxO"
      },
      "execution_count": null,
      "outputs": []
    },
    {
      "cell_type": "code",
      "source": [
        "import random\n",
        "import torch\n",
        "import numpy as np\n",
        "import pandas as pd\n",
        "\n",
        "RANDOM_SEED = 2137\n",
        "\n",
        "np.random.seed(RANDOM_SEED)\n",
        "torch.manual_seed(RANDOM_SEED)\n",
        "random.seed(RANDOM_SEED)\n"
      ],
      "metadata": {
        "id": "mZEAtekdnaCX"
      },
      "execution_count": null,
      "outputs": []
    },
    {
      "cell_type": "code",
      "source": [
        "import pandas as pd\n",
        "path_test = '/content/drive/MyDrive/Data_Thesis_Temp/SA_files/test-data/'\n",
        "fn_final_test = path_test + 'test-data-final.xlsx'\n",
        "df = pd.read_excel(fn_final_test)\n",
        "df_posts = df['text'].tolist()\n",
        "df_val_y = df['label']\n",
        "total_obs = len(df_val_y)\n",
        "total_bear = len(df_val_y[df_val_y==0])\n",
        "total_net = len(df_val_y[df_val_y==1])\n",
        "total_bull = len(df_val_y[df_val_y==2])"
      ],
      "metadata": {
        "id": "ww1y0HsNnbrl"
      },
      "execution_count": null,
      "outputs": []
    },
    {
      "cell_type": "code",
      "source": [
        "from transformers import AutoTokenizer, AutoModelForSequenceClassification, TextClassificationPipeline\n",
        "import torch\n",
        "import time\n",
        "import logging\n",
        "import numpy as np\n",
        "import pandas as pd\n",
        "device = torch.device(\"cuda:0\" if torch.cuda.is_available() else \"cpu\")\n",
        "device\n",
        "path_model_cb = '/content/drive/MyDrive/Data_Thesis_Temp/CryptoBERT/Sentiment-Classifier/CryptoBERT/'\n",
        "tokenizer_cb = AutoTokenizer.from_pretrained(path_model_cb, use_fast=True)\n",
        "model_cb = AutoModelForSequenceClassification.from_pretrained(path_model_cb, num_labels = 3)\n",
        "model_cb = model_cb.eval()\n",
        "pipe_cb = TextClassificationPipeline(model=model_cb, tokenizer=tokenizer_cb, framework='pt', device = device, batch_size=256, max_length=64, truncation=True, padding = 'max_length')\n",
        "\n",
        "preds_cryptobert_st = pipe_cb(df_posts)"
      ],
      "metadata": {
        "id": "FQy4viN0nrAD"
      },
      "execution_count": null,
      "outputs": []
    },
    {
      "cell_type": "code",
      "source": [
        "cryptobert_st_labels = []\n",
        "for pred in preds_cryptobert_st:\n",
        "  temp_label = 1\n",
        "  if pred['label']=='Bearish':\n",
        "    temp_label = 0\n",
        "  if pred['label']=='Bullish':\n",
        "    temp_label = 2\n",
        "  cryptobert_st_labels.append(temp_label)"
      ],
      "metadata": {
        "id": "WqybChEBoapt"
      },
      "execution_count": null,
      "outputs": []
    },
    {
      "cell_type": "code",
      "source": [
        "df_met_cryptobert = compute_all_metrics(cryptobert_st_labels, df_val_y, model_name = 'CryptoBERT')"
      ],
      "metadata": {
        "id": "fOriWBHAoocz"
      },
      "execution_count": null,
      "outputs": []
    },
    {
      "cell_type": "markdown",
      "source": [
        "### Function to compute all performance metrics in one go"
      ],
      "metadata": {
        "id": "FbhKj5dMpEbS"
      }
    },
    {
      "cell_type": "code",
      "source": [
        "# import pandas as pd\n",
        "def compute_all_metrics(pred_labels, true_labels, model_name = 'Current Model'):\n",
        "  correct_count = 0\n",
        "  # tp = true positives, tn = true negatives, fp = false positives, fn = false negatives\n",
        "  tp_bear = 0\n",
        "  tp_net = 0\n",
        "  tp_bull = 0\n",
        "  # tn = true negatives\n",
        "  tn_bear = 0\n",
        "  tn_net = 0\n",
        "  tn_bull = 0\n",
        "  # fp = false positives\n",
        "  fp_bear = 0\n",
        "  fp_net = 0\n",
        "  fp_bull = 0\n",
        "  # fn = false negatives\n",
        "  fn_bear = 0\n",
        "  fn_net = 0\n",
        "  fn_bull = 0\n",
        "  for lab_pred, lab_true in zip(pred_labels, true_labels):\n",
        "    # count true positives\n",
        "    if lab_pred == lab_true:\n",
        "      correct_count += 1\n",
        "      if(lab_pred == 0):\n",
        "        tp_bear += 1\n",
        "      if(lab_pred == 1):\n",
        "        tp_net += 1\n",
        "      if(lab_pred == 2):\n",
        "        tp_bull += 1\n",
        "    else:\n",
        "      # count true negatives\n",
        "      if (lab_pred != 0 and lab_true != 0):\n",
        "        tn_bear += 1\n",
        "      if (lab_pred != 1 and lab_true != 1):\n",
        "        tn_net += 1\n",
        "      if (lab_pred != 2 and lab_true != 2):\n",
        "        tn_bull += 1\n",
        "      # count false positives\n",
        "      if(lab_pred == 0):\n",
        "        fp_bear += 1\n",
        "      if(lab_pred == 1):\n",
        "        fp_net += 1\n",
        "      if(lab_pred == 2):\n",
        "        fp_bull += 1\n",
        "      # count false negatives\n",
        "      if(lab_true == 0):\n",
        "        fn_bear += 1\n",
        "      if(lab_true == 1):\n",
        "        fn_net += 1\n",
        "      if(lab_true == 2):\n",
        "        fn_bull += 1\n",
        "  # aggregate the results for macro computations:  \n",
        "  total_obs = len(true_labels)\n",
        "  true_positives = tp_bear + tp_net + tp_bull\n",
        "  true_negatives = tn_bear + tn_net + tn_bull\n",
        "  false_positives = fp_bear + fp_net + fp_bull\n",
        "  false_negatives = fn_bear + fn_net + fn_bull\n",
        "\n",
        "  # calculate the performance measures\n",
        "  acc = correct_count / total_obs\n",
        "\n",
        "\n",
        "  prec_bull = tp_bull / (tp_bull + fp_bull)\n",
        "  rec_bull = tp_bull / (tp_bull + fn_bull)\n",
        "  f1_bull = (2*prec_bull*rec_bull)/(prec_bull+rec_bull)\n",
        "\n",
        "  prec_net = tp_net / (tp_net + fp_net)\n",
        "  rec_net = tp_net / (tp_net + fn_net)\n",
        "  f1_net = (2*prec_net*rec_net)/(prec_net+rec_net)\n",
        "\n",
        "  prec_bear = tp_bear / (tp_bear + fp_bear)\n",
        "  rec_bear = tp_bear / (tp_bear + fn_bear)\n",
        "  f1_bear = (2*prec_bear*rec_bear)/(prec_bear+rec_bear)\n",
        "\n",
        "\n",
        "  macro_f1 = (f1_bear + f1_bull + f1_net) / 3\n",
        "  macro_rec = (rec_bear + rec_bull + rec_net) / 3\n",
        "  macro_prec = (prec_bear + prec_bull + rec_net) / 3\n",
        "\n",
        "\n",
        "  df_measures = pd.DataFrame()\n",
        "  df_measures['accuracy'] = [acc]\n",
        "  df_measures['macro_f1'] = [macro_f1]\n",
        "  df_measures['macro_precision'] = [macro_prec]\n",
        "  df_measures['macro_recall'] = [macro_rec]\n",
        "\n",
        "  df_measures['bull_precision'] = [prec_bull]\n",
        "  df_measures['bull_recall'] = [rec_bull]\n",
        "  df_measures['bull_f1'] = [f1_bull]\n",
        "\n",
        "  df_measures['net_precision'] = [prec_net]\n",
        "  df_measures['net_recall'] = [rec_net]\n",
        "  df_measures['net_f1'] = [f1_net]\n",
        "\n",
        "  df_measures['bear_precision'] = [prec_bear]\n",
        "  df_measures['bear_recall'] = [rec_bear]\n",
        "  df_measures['bear_f1'] = [f1_bear]\n",
        "\n",
        "  print(f\"Performance Measures for {model_name}:\")\n",
        "  print(df_measures)\n",
        "\n",
        "  return df_measures"
      ],
      "metadata": {
        "id": "Bsmr_t9sovBB"
      },
      "execution_count": null,
      "outputs": []
    },
    {
      "cell_type": "markdown",
      "source": [
        "## VADER prediction pipeline"
      ],
      "metadata": {
        "id": "76wYBxnto0K-"
      }
    },
    {
      "cell_type": "code",
      "source": [
        "import nltk\n",
        "nltk.download('vader_lexicon')\n",
        "from nltk.sentiment.vader import SentimentIntensityAnalyzer\n",
        "\n",
        "sid = SentimentIntensityAnalyzer()\n",
        "\n",
        "preds_vader_st = []\n",
        "for line in df_posts:\n",
        "  temp_pred = sid.polarity_scores(line)\n",
        "  preds_vader_st.append(temp_pred)\n",
        "  \n",
        "vader_st_labels = []\n",
        "for pred in preds_vader_st:\n",
        "  temp_label = 1\n",
        "  if pred['compound']<(-vader_th):\n",
        "    temp_label = 0\n",
        "  if pred['compound']>vader_th:\n",
        "    temp_label = 2\n",
        "  vader_st_labels.append(temp_label)"
      ],
      "metadata": {
        "id": "4T_re8Npo3UJ"
      },
      "execution_count": null,
      "outputs": []
    },
    {
      "cell_type": "code",
      "source": [
        "df_met_vader = compute_all_metrics(vader_st_labels, df_val_y, model_name = 'VADER')"
      ],
      "metadata": {
        "id": "yTbb2o0Fo7yc"
      },
      "execution_count": null,
      "outputs": []
    }
  ]
}